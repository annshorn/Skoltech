{
 "cells": [
  {
   "cell_type": "markdown",
   "metadata": {},
   "source": [
    "## Scientific Computing 2018: Homework Assignment 1 \n",
    "Due Thursday October 11, 2018, 12:00\n",
    "\n",
    "### Problem 1 (2 points)\n",
    "Under assumptions of Amdahl's law, suppose that 60% of a program are perfectly parallelizable, and the rest is not parallelizable. \n",
    "1. What is the maximum speedup achievable by parallelization? \n",
    "\n",
    "$$\\lim_{p\\to\\infty}{S_p} = \\lim_{p\\to\\infty}\\frac{1}{\\alpha + \\frac{1 - \\alpha}{p}} = 2.5  $$\n",
    "\n",
    "2. Suppose that we have obtained speedup 2 (by using a suitable number of processes). What is the efficiency of this parallelization? \n",
    "\n",
    "$$ E = \\frac{S}{N} $$\n",
    "\n",
    "$$ S = \\frac{T_1}{T_N} = \\frac{1}{\\alpha + \\frac{1 - \\alpha}{N}} = 2 $$\n",
    "\n",
    "$$ N = 6$$\n",
    "\n",
    "$$ E = \\frac{1}{3} $$\n"
   ]
  },
  {
   "cell_type": "markdown",
   "metadata": {},
   "source": [
    "### Problem 2 (2 points)\n",
    "Write a Python or C/C++ program that uses **MPI reduce** to find the largest file in terms of the  number of lines among all .txt files in the working directory. The program must be callable in the form `mpirun -np <N> python linecount.py` (in the case of the Python version) or `mpirun -np <N> linecount.exe` (the C/C++ version), where `<N>` is the user-defined number of processes. The program is expected to first somehow distribute the files found in the current directory to the processes, then each process should count the lines in the files assigned to it, and finally the result should be MPI-reduced and printed out. "
   ]
  },
  {
   "cell_type": "code",
   "execution_count": 9,
   "metadata": {},
   "outputs": [
    {
     "name": "stdout",
     "output_type": "stream",
     "text": [
      "Max size :  [399, 'data_group4.txt']\n"
     ]
    }
   ],
   "source": [
    "from mpi4py import MPI\n",
    "import os\n",
    "import fnmatch\n",
    "\n",
    "comm = MPI.COMM_WORLD\n",
    "size = comm.Get_size()\n",
    "rank = comm.Get_rank()\n",
    "\n",
    "path = \"/Users/anna/Documents/Papka/\"\n",
    "files = os.listdir(path)\n",
    "\n",
    "\n",
    "if rank == 0:\n",
    "    for each_file in files:\n",
    "        file_array = [files[i: len(files): size] for i in range(size)]\n",
    "else:\n",
    "    file_array = None\n",
    "\n",
    "data = comm.scatter(file_array, root=0)\n",
    "#print ('rank', rank, 'has data:', data)\n",
    "\n",
    "\n",
    "size_file = -1\n",
    "name = ''\n",
    "\n",
    "for each_file in data:\n",
    "    if fnmatch.fnmatch(each_file, '*.txt'):\n",
    "        with open(path + each_file) as file_name:\n",
    "            num_line = sum(1 for _ in file_name)\n",
    "        if num_line > size_file:\n",
    "            size_file = num_line\n",
    "            name = each_file\n",
    "\n",
    "\n",
    "big = comm.reduce([size_file, name], op = MPI.MAXLOC, root = 0)\n",
    "\n",
    "if rank == 0:\n",
    "    print ('Max size : ', big)"
   ]
  },
  {
   "cell_type": "markdown",
   "metadata": {},
   "source": [
    "### Problem 3 (2 points)\n",
    "Solve the Distinct Substrings problem at Sphere online judge: http://www.spoj.com/problems/DISUBSTR/. Provide code passing the test of the judge. Explain how your code works and theoretically estimate the complexity of the algorithm (as $O(f(N))$, where $f(N)$ is some function of the length of the input string). "
   ]
  },
  {
   "cell_type": "code",
   "execution_count": 12,
   "metadata": {},
   "outputs": [
    {
     "name": "stdout",
     "output_type": "stream",
     "text": [
      "1\n",
      "CCCCC\n",
      "5\n"
     ]
    }
   ],
   "source": [
    "import numpy as np\n",
    "import sys\n",
    "\n",
    "def invPerm(p):\n",
    "    '''Invert the permutation p'''\n",
    "    s = np.empty(p.size, p.dtype)\n",
    "    s[p] = np.arange(p.size)\n",
    "    return s\n",
    "\n",
    "\n",
    "def getSA(A):\n",
    "    if not type(A) is np.ndarray:\n",
    "        A = np.array(list(A))\n",
    "    N = len(A) \n",
    "    M = int(np.ceil(np.log2(N)))+1   # number of iterations\n",
    "    \n",
    "    # auxiliary arrays; row m stores results after m'th step:\n",
    "    \n",
    "    # positions of sorted length-(2**m) sequences in A\n",
    "    P = np.zeros((M,N), dtype=int) \n",
    "    \n",
    "    # rank (0, 1, etc.) of sorted length-(2**m) sequences after sorting\n",
    "    Q = np.zeros((M,N), dtype=int)     \n",
    "    \n",
    "    # rank of sorted length-(2**m) sequences at its starting position in A;\n",
    "    # padded by 0 on the right\n",
    "    R = np.zeros((M,3*N), dtype=int) \n",
    "\n",
    "    for k in range(M):\n",
    "        if k == 0:\n",
    "            P[0] = np.argsort(A)\n",
    "            Q[0][1:] = np.cumsum(A[P[0]][1:] != A[P[0]][:-1])\n",
    "            R[0][:N] = Q[0][invPerm(P[0])]\n",
    "        else:\n",
    "            offset = 2**(k-1)\n",
    "            r = np.lexsort((R[k-1, P[k-1]+offset], R[k-1, P[k-1]]))\n",
    "            P[k] = P[k-1][r]\n",
    "            # k'th rank increases iff (k-1)'th rank increases at least for one element of the pair    \n",
    "            Q[k][1:] = np.cumsum(np.logical_or(R[k-1][P[k]][1:] != R[k-1][P[k]][:-1], \n",
    "                                          R[k-1][P[k]+offset][1:] != R[k-1][P[k]+offset][:-1]))\n",
    "            R[k][:N] = Q[k][invPerm(P[k])]\n",
    "            \n",
    "            # early stopping if suffixes already fully sorted (max rank is N-1)\n",
    "            if Q[k][-1] == N-1: \n",
    "                break\n",
    "    \n",
    "    SA = P[k]\n",
    "    return SA, P[:k+1], Q[:k+1], R[:k+1]  \n",
    "\n",
    "'''\n",
    "def input_string(T):\n",
    "    string_array = []\n",
    "    for i in range(T):\n",
    "        new_string = input()\n",
    "        string_array.append(new_string)\n",
    "    return string_array\n",
    "'''\n",
    "\n",
    "def getLCP(SA, R):\n",
    "    (M, N) = R.shape\n",
    "    LCP = np.zeros((len(SA)-1,),dtype=int)\n",
    "    for m in range(M-1)[::-1]:\n",
    "        t = (R[m][SA[1:]+LCP] == R[m][SA[:-1]+LCP]).astype(int)\n",
    "        LCP += (2**m)*t\n",
    "    return LCP\n",
    "\n",
    "def main():\n",
    "    T = int(input())\n",
    "    #new_strings = input_string(T)\n",
    "    strings = []\n",
    "    for i in range(T):\n",
    "        A = input() + '$'\n",
    "        strings.append(A)\n",
    "    for j in range(T):\n",
    "        B = strings[j]\n",
    "        SA, _, _, R = getSA(B)\n",
    "        LCP = getLCP(SA, R)\n",
    "        N = len(B)\n",
    "        print((N - 1 - SA).sum()- LCP.sum())\n",
    "   \n",
    "\n",
    "if __name__ == '__main__':\n",
    "    main()  "
   ]
  },
  {
   "cell_type": "markdown",
   "metadata": {},
   "source": [
    "The code is based on the functions _getSA_ and _getLCP_, which are described(their work) in the file SuffixArrays_2018.ipynb.\n",
    "\n",
    "For finding the answer we should calculate \n",
    "$\\sum_{i=0}^{N} (N - 1 -SA[i])$ - $\\sum_{i=0}^{n-1} (LCP[i])$, where N is len of our string. \n",
    "\n",
    "The complexity of the algorithm is $O(Nlog^2N)$."
   ]
  },
  {
   "cell_type": "markdown",
   "metadata": {},
   "source": [
    "### Problem 4 (2 points)\n",
    "Suppose that we want to distribute $N$ personal projects to $N$ students. Assume that each student $(k)_{k=0}^{N-1}$ has a list of his/her preferences for the projects, expressed as a vector $\\mathbf r_k$ of integer ranks assigned to each project. Ranks vary between 0 and $N-1$ without repetitions, the **lower** the rank the **more preferable** the project. (For example, the first student's ranks are $\\mathbf r_0 = [2,1,0]$, the second's $\\mathbf r_1 = [0,2,1]$ and the third $\\mathbf r_2 = [0,1,2]$). We want to distribute the projects so as to maximize the total preference, i.e., if $n_k$ denotes the project assigned to the $k$'th student, we want to make $f = \\sum_{k=0}^{N-1} \\mathbf r_k[n_k]$ as small as possible. (In the example above the optimal distribution is $n_0=2, n_1=0, n_2=1$, which gives $f=1$).  \n",
    "  * Come up with an algorithm optimizing the distribution and implement it in a Python or C/C++ program. The algorithm should accept the preference vectors and output a recommended distribution $(n_k)_{k=1}^N$. The algorithm need not find the best solution, but is expected to generally produce better solutions than would have been obtained by randomly distributing the projects. The algorithm should be reasonably fast, say run in not more than a few seconds for $N=30$. \n",
    "  * Compare experimentally your algorithm with the trivial algorithm producing a random distribution. To this end, perform $M=1000$ experiments in each of which 1) random preference vectors for $N=30$ students and projects are generated; 2) the objective function $f$ is evaluated for both algorithms. After finishing all the experiments, plot the two respective distributions of the obtained $M$ values of $f$ and compute the mean values of $f$ for both algorithms. "
   ]
  },
  {
   "cell_type": "code",
   "execution_count": null,
   "metadata": {},
   "outputs": [],
   "source": [
    "from munkres import Munkres, print_matrix\n",
    "import numpy as np\n",
    "import random\n",
    "\n",
    "def munkrs(matrix):\n",
    "    m = Munkres()\n",
    "    indexes = m.compute(matrix)\n",
    "    total = 0\n",
    "    for row, column in indexes:\n",
    "        value = matrix[row][column]\n",
    "        total += value\n",
    "    return total\n",
    "\n",
    "def get_matrix(N):\n",
    "    m = []\n",
    "    for i in range(N):\n",
    "        m.append(random.sample(range(N), N))\n",
    "    return m\n",
    "\n",
    "def rand(N, m):\n",
    "    x = random.sample(range(N), N)        \n",
    "    y = random.sample(range(N), N)\n",
    "    sums = 0\n",
    "    for x_i, y_i in zip(x, y):\n",
    "        sums += m[x_i][y_i]\n",
    "    return sums\n",
    "\n",
    "N = 5\n",
    "m = [[], []]\n",
    "\n",
    "matr = get_metrix(N)\n",
    "ran = rand(N, m)\n",
    "mun = munkrs(matr)"
   ]
  },
  {
   "cell_type": "markdown",
   "metadata": {},
   "source": [
    "  \n",
    "### Problem 5 (2 points)\n",
    "Suppose that we have developed an algorithm that is supposed to generate independent (quasi-)random numbers uniformly distributed in the interval $[0,1]$. To test our algorithm, we perform a series of experiments. In each experiment, we generate $N=10^3$ numbers $(x_n)_{n=1}^N$ with our algorithm, and compute the minimum distance $r=\\min_{1 \\le n < m\\le N}|x_n-x_m|$ between them. We observe that in more than 90% of such experiments we obtain $r<10^{-5}$. Does this observation contradict the hypothesis of generating independent uniformly distributed random numbers? Explain your answer."
   ]
  },
  {
   "cell_type": "code",
   "execution_count": null,
   "metadata": {},
   "outputs": [],
   "source": []
  }
 ],
 "metadata": {
  "kernelspec": {
   "display_name": "Python 3",
   "language": "python",
   "name": "python3"
  },
  "language_info": {
   "codemirror_mode": {
    "name": "ipython",
    "version": 3
   },
   "file_extension": ".py",
   "mimetype": "text/x-python",
   "name": "python",
   "nbconvert_exporter": "python",
   "pygments_lexer": "ipython3",
   "version": "3.6.5"
  }
 },
 "nbformat": 4,
 "nbformat_minor": 1
}
