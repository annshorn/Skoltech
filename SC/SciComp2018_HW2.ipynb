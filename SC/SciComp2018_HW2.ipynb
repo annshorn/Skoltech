{
 "cells": [
  {
   "cell_type": "markdown",
   "metadata": {},
   "source": [
    "## Scientific Computing 2018: Homework Assignment 2 \n",
    "Due Thursday October 18, 2018, noon (12:00)\n",
    "\n",
    "### Problem 1 (2 points)\n",
    "Let $A_q=\\left(\\begin{matrix}1 & q\\\\ 0 & 1\\end{matrix}\\right)$ with $q\\in\\mathbb R$. \n",
    "* For any $q$, find condition number $\\kappa(A_q)$ with respect to the $l^2$-norm.\n",
    "* Give an example of specific values of $q,\\mathbf b, \\Delta\\mathbf b$ such that, when solving $A_q\\mathbf x = \\mathbf b$ and $A_q(\\mathbf x+\\Delta \\mathbf x)=\\mathbf b +\\Delta\\mathbf b$, we get \n",
    "\n",
    "$$\\frac{\\|\\Delta \\mathbf x\\|}{\\|\\mathbf x\\|}\\ge 10^6\\frac{\\|\\Delta\\mathbf b\\|}{\\|\\mathbf b\\|}.$$"
   ]
  },
  {
   "cell_type": "markdown",
   "metadata": {},
   "source": [
    "**A**"
   ]
  },
  {
   "cell_type": "markdown",
   "metadata": {},
   "source": [
    "* $\\|A\\|_\\infty = \\max_m \\sum_{n}|A_{mn}| $\n",
    "\n",
    "* $\\|A\\|_1 = \\max_n \\sum_{m}|A_{mn}|  $\n",
    "\n",
    "* $\\|A\\|_2\\le\\sqrt{\\|A\\|_1\\|A\\|_\\infty}$\n",
    "\n",
    "$$\\kappa(A)=\\|A\\|\\cdot\\|A^{-1}\\| $$\n",
    "\n"
   ]
  },
  {
   "cell_type": "code",
   "execution_count": 15,
   "metadata": {},
   "outputs": [
    {
     "name": "stdout",
     "output_type": "stream",
     "text": [
      "If q = 0, A_cond =  1.0\n",
      "We can see that the matrix is well-conditioned when q close to 0\n"
     ]
    },
    {
     "data": {
      "image/png": "[encoded data removed]",
      "text/plain": [
       "<Figure size 432x288 with 1 Axes>"
      ]
     },
     "metadata": {},
     "output_type": "display_data"
    },
    {
     "data": {
      "image/png": "[encoded data removed]",
      "text/plain": [
       "<Figure size 432x288 with 1 Axes>"
      ]
     },
     "metadata": {},
     "output_type": "display_data"
    }
   ],
   "source": [
    "import numpy as np\n",
    "import random\n",
    "import matplotlib.pyplot as plt\n",
    "%matplotlib inline\n",
    "\n",
    "A_plot = []\n",
    "A_plot_neg = []\n",
    "N = 100\n",
    "q = np.arange(N)\n",
    "\n",
    "for i in range(len(q)):\n",
    "    A = np.array([[1, i], [0, 1]])\n",
    "    A_cond = np.linalg.cond(A)\n",
    "    A_plot.append(A_cond)\n",
    "\n",
    "for j in range(len(q)):\n",
    "    A_neg = np.array([[1, -j], [0, 1]])\n",
    "    A_cond_neg = np.linalg.cond(A_neg)\n",
    "    A_plot_neg.append(A_cond_neg)\n",
    "\n",
    "    \n",
    "A_ex = np.array([[1, 0], [0, 1]])\n",
    "A_cond_ex = np.linalg.cond(A_ex)\n",
    "print('If q = 0, A_cond = ', A_cond_ex)\n",
    "print('We can see that the matrix is well-conditioned when q close to 0')\n",
    "\n",
    "\n",
    "plt.plot(A_plot)\n",
    "plt.title('Dependence condition number of q, where q from 0 to 99')\n",
    "plt.show()\n",
    "\n",
    "plt.plot(A_plot_neg)\n",
    "plt.title('Dependence condition number of q, where q from 0 to -99')\n",
    "plt.show()"
   ]
  },
  {
   "cell_type": "markdown",
   "metadata": {},
   "source": [
    "If $\\|\\cdot\\|$ is the $l^2$-norm and $A$ is arbitrary, then $$\\kappa(A)=\\sqrt{\\frac{\\lambda_{\\max}(A^*A)}{\\lambda_{\\min}(A^*A)}}$$\n",
    "\n",
    "$$A^*A = A^T A = \\begin{pmatrix}\n",
    "1 & q\\\\ \n",
    "q & q^2+1\\\\ \n",
    "\\end{pmatrix}$$\n",
    "\n",
    "Eigenvalues:\n",
    "$$det \\begin{pmatrix}\n",
    "1 - \\lambda & q\\\\ \n",
    "q & q^2+1 - \\lambda\\\\ \n",
    "\\end{pmatrix} = \\lambda^2 - \\lambda(2+q^2) +1 = 0 $$\n",
    "\n",
    "$$ \\lambda_\\pm = 0.5 \\left(2+q^2 \\pm |q| \\sqrt{4+q^2}  \\right)$$\n",
    "$\\lambda_+ \\geq \\lambda_-$, then:\n",
    "$$k(A_q) = \\sqrt{\\frac{2+q^2 + |q| \\sqrt{4+q^2}}{2+q^2 - |q| \\sqrt{4+q^2}}} = 0.5 \\left( 2+q^2 + |q| \\sqrt{4+q^2} \\right)$$"
   ]
  },
  {
   "cell_type": "markdown",
   "metadata": {},
   "source": [
    "**B**"
   ]
  },
  {
   "cell_type": "markdown",
   "metadata": {},
   "source": [
    "Defenition: \n",
    "$$\\frac{\\|\\Delta \\mathbf x\\|}{\\|\\mathbf x\\|}\\le \\kappa(A)\\frac{\\|\\Delta\\mathbf b\\|}{\\|\\mathbf b\\|},$$\n",
    "\n",
    "where $\\kappa(A)$ is **condition number**:\n",
    "\n",
    "$$\\kappa(A)=\\|A\\|\\cdot\\|A^{-1}\\|$$\n",
    "\n",
    "Our case: \n",
    "$$\\frac{\\|\\Delta \\mathbf x\\|}{\\|\\mathbf x\\|}\\ge 10^6\\frac{\\|\\Delta\\mathbf b\\|}{\\|\\mathbf b\\|}.$$\n",
    "\n",
    "\n",
    "\\begin{align} \\begin{pmatrix} 1 & q \\\\ 0 & 1  \\end{pmatrix}\\begin{pmatrix} x1 \\\\ x2\\end{pmatrix} = \\begin{pmatrix} x1+qx2 \\\\ x2 \\end{pmatrix}\\end{align} \n",
    "\n",
    "\\begin{align} \\begin{pmatrix} 1 & q \\\\ 0 & 1  \\end{pmatrix}\\begin{pmatrix} x1+ \\Delta x1\\\\ x2+ \\Delta x2\\end{pmatrix} = \\begin{pmatrix} x1+\\Delta x1 + q(x2+ \\Delta x2) \\\\ x2+ \\Delta x2 \\end{pmatrix}\\end{align} \n",
    "\n"
   ]
  },
  {
   "cell_type": "markdown",
   "metadata": {},
   "source": [
    "$$\\frac{\\Delta x1^{2} + \\Delta x2^{2}}{x1^{2} + x2^{2}}\\ge 10^{12}\\frac{\\Delta x1^{2} + q^{2}\\Delta x2^{2} + 2q\\Delta x1 \\Delta x2 + \\Delta x2^{2} }{x1^{2} + x2^{2} + q^{2}x2^{2} + qx1x2}.$$\n",
    "\n",
    "\n",
    "\n",
    "\n",
    "\n"
   ]
  },
  {
   "cell_type": "markdown",
   "metadata": {},
   "source": [
    "Take $q = - \\frac{\\Delta x1}{\\Delta x2}$, so $q$ should be big and $\\Delta x1 >> \\Delta x2$"
   ]
  },
  {
   "cell_type": "code",
   "execution_count": 76,
   "metadata": {},
   "outputs": [
    {
     "name": "stdout",
     "output_type": "stream",
     "text": [
      "1189 [1, 1] [1000, -0.8410428931875525] [1190    1] [0.         0.84104289]\n",
      "min value of q =  1189\n",
      "x =  [1, 1]\n",
      "dx =  [1000, -0.8410428931875525]\n",
      "b =  [1190    1]\n",
      "db =  [0.         0.84104289]\n"
     ]
    }
   ],
   "source": [
    "x = [1, 1]\n",
    "q = 1\n",
    "delta = 1000\n",
    "    \n",
    "while True:\n",
    "    A = [[1, q], [0, 1]]\n",
    "    dx = [delta, - delta / q]\n",
    "    b = np.dot(A, x)\n",
    "    b_ = [x[i] + dx[i] for i in range(2)]  \n",
    "    db = b - np.dot(A, b_)\n",
    "    \n",
    "    left = np.sqrt(np.square(dx).sum())/np.sqrt(np.square(x).sum())  \n",
    "    right = np.sqrt(np.square(db).sum())/np.sqrt(np.square(b).sum())\n",
    "    if left >= 1e6 * right:\n",
    "        print (q, x, dx, b, db)\n",
    "        print ('min value of q = ', q)\n",
    "        print ('x = ', x)\n",
    "        print ('dx = ', dx)\n",
    "        print ('b = ', b)\n",
    "        print ('db = ', db)\n",
    "        break\n",
    "    q += 1\n",
    "                                                    "
   ]
  },
  {
   "cell_type": "markdown",
   "metadata": {},
   "source": [
    "### Problem 2 (2 points)\n",
    "* Write a program to compute an approximate value for the derivative of a function using the finite-difference formula \n",
    "\n",
    "  $$f'(x)\\approx \\frac{f(x+h)-f(x)}{h}.$$\n",
    "\n",
    "  Test your program using the function $\\tan(x)$ at $x=1$. Determine the error by comparing with the value obtained using the analytic derivative. Plot the magnitude of the error as a function of $h$, for $h=10^{-k}, k=0,\\ldots,16$. You should use log scale for $h$ and for the magnitude of the error. What is the minimum value of the error and at which $h$ is it achieved? Explain this result theoretically.\n",
    "* Repeat the exercise using the centered difference approximation\n",
    "\n",
    " $$f'(x)\\approx \\frac{f(x+h)-f(x-h)}{2h}.$$\n",
    "\n",
    " What is now different and why?"
   ]
  },
  {
   "cell_type": "code",
   "execution_count": 13,
   "metadata": {},
   "outputs": [
    {
     "name": "stdout",
     "output_type": "stream",
     "text": [
      "Finite-difference formula\n",
      "Min error: 2.554135347665465e-08 value of h: 1e-08\n"
     ]
    },
    {
     "data": {
      "image/png": "[encoded data removed]",
      "text/plain": [
       "<Figure size 432x288 with 1 Axes>"
      ]
     },
     "metadata": {},
     "output_type": "display_data"
    }
   ],
   "source": [
    "import numpy as np\n",
    "import math\n",
    "import scipy\n",
    "import matplotlib.pyplot as plt\n",
    "%matplotlib inline\n",
    "\n",
    "def func(x, h):\n",
    "    funct = (math.tan(x+h) - math.tan(x))/h\n",
    "    return funct\n",
    "     \n",
    "def deriv(x):\n",
    "    deriv = 1/((math.cos(x))**2)\n",
    "    return deriv\n",
    "\n",
    "def func_centered_difference_approximation(x, h):\n",
    "    f = (math.tan(x+h) - math.tan(x-h))/(2*h)\n",
    "    return f\n",
    "\n",
    "x = 1\n",
    "k = 0\n",
    "error_array1 = []\n",
    "h_array = []\n",
    "error_array2 = []\n",
    "f1 = []\n",
    "\n",
    "while k < 16:\n",
    "    h = 10**(-k)\n",
    "    h_array.append(h)\n",
    "    \n",
    "    function2 = func(x, h)\n",
    "    function1 = deriv(x)\n",
    "    f1.append(function1)\n",
    "    function3 = func_centered_difference_approximation(x, h)\n",
    "    \n",
    "    error_1 = abs(function2 - function1)\n",
    "    error_array1.append(error_1)\n",
    "    \n",
    "    error_2 = abs(function3 - function1)\n",
    "    error_array2.append(error_2)\n",
    "    \n",
    "    k+=1\n",
    "\n",
    "\n",
    "min_error = min(error_array1)\n",
    "min_index_error = np.argmin(error_array1)\n",
    "min_error_h = h_array[min_index_error]\n",
    "print('Finite-difference formula')\n",
    "print('Min error:', min_error, 'value of h:', min_error_h)\n",
    "\n",
    "plt.figure()\n",
    "plt.plot(np.log(error_array1), 'o', c = 'b', label = 'error')\n",
    "plt.title('Error as a function of h')\n",
    "plt.legend()\n",
    "plt.show()"
   ]
  },
  {
   "cell_type": "markdown",
   "metadata": {},
   "source": [
    "This corresponds very well with the $h ≈ \\sqrt{\\epsilon_{mach}}$ as $\\epsilon_{mach}$ is approximately $10^{-16}$ and minimum value occurred around $10^{-8}$."
   ]
  },
  {
   "cell_type": "code",
   "execution_count": 17,
   "metadata": {},
   "outputs": [
    {
     "name": "stdout",
     "output_type": "stream",
     "text": [
      "Centered difference approximation\n",
      "Min error: 6.2239102760486276e-12 value of h: 1e-06\n"
     ]
    },
    {
     "data": {
      "image/png": "[encoded data removed]",
      "text/plain": [
       "<Figure size 432x288 with 1 Axes>"
      ]
     },
     "metadata": {},
     "output_type": "display_data"
    },
    {
     "name": "stdout",
     "output_type": "stream",
     "text": [
      "[False False False False False False  True  True False False False False\n",
      " False False False False]\n",
      "We can see, that the min value of error we obtained in 1e-6 and 1e-7\n"
     ]
    }
   ],
   "source": [
    "min_error2 = min(error_array2)\n",
    "min_index_error2 = np.argmin(error_array2)\n",
    "min_error_h2 = h_array[min_index_error2]\n",
    "print('Centered difference approximation')\n",
    "print('Min error:', min_error2, 'value of h:', min_error_h2)\n",
    "\n",
    "\n",
    "plt.figure()\n",
    "plt.plot(np.log(error_array1), 'o', c = 'b', label = 'FDF')\n",
    "plt.plot(np.log(error_array2), 's', c = 'r', label = 'CDA')\n",
    "plt.title(' Finite-difference formula vs Centered difference approximation')\n",
    "plt.legend()\n",
    "plt.show()\n",
    "min_error = np.min(error_array2)\n",
    "print(min_error == error_array2 )\n",
    "print('We can see, that the min value of error we obtained in 1e-6 and 1e-7')"
   ]
  },
  {
   "cell_type": "markdown",
   "metadata": {},
   "source": [
    "Expand the function $f(x)$ in a Taylor series at the points $(x + h)$ and $(x - h)$.\n",
    "\n",
    "$$ f(x+h)=f(x)+hf′(x)+ 2 f′′(x)+ 6 f′′′(x)+... $$\n",
    "\n",
    "$$ \\frac{f(x+h) - f(x)}{h} = f′(x) + \\frac{h}{2}f''(x)+ ... $$\n",
    "\n",
    "\n",
    "In the first order of decomposition derivative calculation error in the case of finite-difference formula:\n",
    "$$O(h) = - \\frac{h}{2}f''(x) + ...$$\n",
    "\n",
    "If $h$ is chosen to be very small, rounding errors in computing on a computer may be comparable or greater than $h$.\n",
    "\n",
    "A smaller value of the error for the same value of x gives the centered difference approximation.\n",
    "\n",
    "$$O(h^2) = - \\frac{h^2}{6}f'''(x) + ...$$"
   ]
  },
  {
   "cell_type": "markdown",
   "metadata": {},
   "source": [
    "### Problem 3 (2 points)\n",
    "* Implement regularized regression with an adaptive choice of regularization parameter. Your algorithm must accept the training data (`Xtrain`, `Ytrain`) and the input part of test data (`Xtest`), and output a prediction for test data (`Ypred`). You may use standard linear algebra libraries, but not specialized predictive modeling software (e.g., `scikit-learn`). Your algorithm should choose the regularization parameter by some optimization over a reasonable range of values and may use a sub-division of the training data into a train-in-train and a test-in-train components.\n",
    "* Test your algorithm on real data from UCI repository:\n",
    "  * https://archive.ics.uci.edu/ml/datasets/Relative+location+of+CT+slices+on+axial+axis\n",
    "  * https://archive.ics.uci.edu/ml/datasets/Physicochemical+Properties+of+Protein+Tertiary+Structure\n",
    "  \n",
    "  Use random subsets of 300 rows as training sets, and the remaining rows as the test sets. Use the relative RMS error as the measure of accuracy.\n",
    "  Compare your results with results of some linear models implemented in standard predictive modeling software    (e.g., `Ridge` and `LinearRegression` from `scikit-learn`)."
   ]
  },
  {
   "cell_type": "code",
   "execution_count": 60,
   "metadata": {},
   "outputs": [],
   "source": [
    "import numpy as np\n",
    "from matplotlib import pyplot as plt\n",
    "from sklearn.linear_model import LinearRegression\n",
    "from sklearn.metrics import mean_squared_error\n",
    "%matplotlib inline"
   ]
  },
  {
   "cell_type": "code",
   "execution_count": 61,
   "metadata": {},
   "outputs": [
    {
     "name": "stdout",
     "output_type": "stream",
     "text": [
      "Total rows: 53500\n",
      "Total columns: 386\n"
     ]
    }
   ],
   "source": [
    "data = np.loadtxt('slice_localization_data.csv', skiprows=1, delimiter=',')\n",
    "print ('Total rows:', data.shape[0])\n",
    "print ('Total columns:', data.shape[1])\n",
    "N = len(data)\n",
    "A = data[:,:-1] # input values\n",
    "A[:,0] = 1 # remove the ID column, insert constants instead\n",
    "b = A[:,-1] # output values"
   ]
  },
  {
   "cell_type": "code",
   "execution_count": 62,
   "metadata": {},
   "outputs": [],
   "source": [
    "Ntrain = 1000\n",
    "\n",
    "inds = np.random.permutation(N)\n",
    "\n",
    "train = inds[:Ntrain]\n",
    "test = inds[Ntrain:]\n",
    "Atrain = A[train]\n",
    "btrain = b[train]\n",
    "Atest = A[test]\n",
    "btest = b[test]"
   ]
  },
  {
   "cell_type": "code",
   "execution_count": 63,
   "metadata": {},
   "outputs": [
    {
     "name": "stdout",
     "output_type": "stream",
     "text": [
      "0.13427523938378919 0.06257778033983288\n",
      "optimal mu =  1e-05 error =  0.06257778033983288\n"
     ]
    }
   ],
   "source": [
    "#so-so method\n",
    "Q = Atrain.T.dot(Atrain)\n",
    "Num = 10\n",
    "mu_p = []\n",
    "mu_n = []\n",
    "n = 0\n",
    "while n < Num:\n",
    "    mu_val_n = 10**(-n)\n",
    "    mu_val_p = 10**(n)\n",
    "    mu_p.append(mu_val_p)\n",
    "    mu_n.append(mu_val_n)\n",
    "    n+=1\n",
    "    \n",
    "    \n",
    "def getRRMSE(btest, bpred):\n",
    "    return np.linalg.norm(bpred-btest)/np.linalg.norm(btest-np.mean(btest))\n",
    "\n",
    "y1 = Atrain.T.dot(btrain)\n",
    "error_p = []\n",
    "error_n = []\n",
    "for each in mu_p:\n",
    "    coeffs1 = np.linalg.inv(Q+each*np.eye(Atrain.shape[1])).dot(y1)\n",
    "    bpred1 = Atest.dot(coeffs1)\n",
    "    error_val = getRRMSE(btest, bpred1)\n",
    "    #print ('RRMS error for prediction 1:', error_val)\n",
    "    error_p.append(error_val)\n",
    "\n",
    "for each in mu_n:\n",
    "    coeffs1 = np.linalg.inv(Q+each*np.eye(Atrain.shape[1])).dot(y1)\n",
    "    bpred1 = Atest.dot(coeffs1)\n",
    "    error_val = getRRMSE(btest, bpred1)\n",
    "    #print ('RRMS error for prediction 1:', error_val)\n",
    "    error_n.append(error_val)\n",
    "    \n",
    "er_min_p_index = np.argmin(error_p)\n",
    "er_min_n_index = np.argmin(error_n)\n",
    "\n",
    "print(error_p[er_min_p_index], error_n[er_min_n_index])\n",
    "            \n",
    "if error_p[er_min_p_index] > error_n[er_min_n_index]:\n",
    "    mu = mu_n[er_min_n_index]\n",
    "    error = error_n[er_min_n_index]\n",
    "else:\n",
    "    mu = mu_p[er_min_p_index]\n",
    "    error = error_n[er_min_p_index]\n",
    "print('optimal mu = ', mu, 'error = ', error)"
   ]
  },
  {
   "cell_type": "code",
   "execution_count": 64,
   "metadata": {},
   "outputs": [
    {
     "name": "stdout",
     "output_type": "stream",
     "text": [
      "0.062487579013284084\n"
     ]
    }
   ],
   "source": [
    "#normal\n",
    "\n",
    "def getRRMSE(btest, bpred):\n",
    "    return np.linalg.norm(bpred-btest)/np.linalg.norm(btest-np.mean(btest))\n",
    "\n",
    "y1 = Atrain.T.dot(btrain)\n",
    "mu = [1e-4, 1e-3]\n",
    "coeffs1 = np.linalg.inv(Q+mu[0]*np.eye(Atrain.shape[1])).dot(y1)\n",
    "bpred1 = Atest.dot(coeffs1)\n",
    "loss_value0 = getRRMSE(btest, bpred1)\n",
    "loss = [loss_value0]\n",
    "\n",
    "k = 1\n",
    "N = 99\n",
    "while k < N:\n",
    "    coeffs = np.linalg.inv(Q+mu[k]*np.eye(Atrain.shape[1])).dot(y1)\n",
    "    bpred = Atest.dot(coeffs)\n",
    "    loss.append(getRRMSE(btest, bpred))\n",
    "    grad = (loss[k] - loss[k-1])/(mu[k] - mu[k-1])\n",
    "    mu_value = mu[k] - (1e-3)*grad\n",
    "    mu.append(mu_value)\n",
    "    k+=1\n",
    "    \n",
    "errror_min = min(loss[:-1])\n",
    "print(errror_min)"
   ]
  },
  {
   "cell_type": "code",
   "execution_count": 65,
   "metadata": {},
   "outputs": [
    {
     "name": "stdout",
     "output_type": "stream",
     "text": [
      "RRMS error for Ridge model: 0.13558963950415379\n",
      "RRMS error for LR model: 0.06176570252060477\n",
      "RRMS error for our model so-so: 0.06257778033983288\n",
      "RRMS error for our model normal: 0.062487579013284084\n"
     ]
    }
   ],
   "source": [
    "from sklearn.linear_model import Ridge\n",
    "from sklearn.linear_model import LinearRegression as LR\n",
    "\n",
    "    \n",
    "model = Ridge()\n",
    "model.fit(Atrain, btrain)\n",
    "bpred_ridge = model.predict(Atest)\n",
    "print ('RRMS error for Ridge model:', getRRMSE(btest, bpred_ridge))\n",
    "\n",
    "model = LR()\n",
    "model.fit(Atrain, btrain)\n",
    "bpred_lr = model.predict(Atest)\n",
    "print ('RRMS error for LR model:', getRRMSE(btest, bpred_lr))\n",
    "\n",
    "print ('RRMS error for our model so-so:', error)\n",
    "print ('RRMS error for our model normal:', errror_min)"
   ]
  },
  {
   "cell_type": "markdown",
   "metadata": {},
   "source": [
    "### Problem 4 (2 points)\n",
    "Suppose that we use the Leapfrog algorithm with some $\\Delta t$ to simulate the dynamics of the harmonic oscillator (https://en.wikipedia.org/wiki/Harmonic_oscillator) with positive mass $m$ and force constant $k$ (in other words, with the Hamiltonian function $H=\\frac{m\\dot x^2}{2}+\\frac{kx^2}{2}$). Assuming a perfect implementation of Leapfrog, at which combinations of $\\Delta t, m, k$ will the simulation diverge as $n\\to\\infty$, in the sense that $\\sup_n(\\tilde x_n^2+\\tilde v_{n+1/2}^2)=\\infty$?"
   ]
  },
  {
   "cell_type": "markdown",
   "metadata": {},
   "source": [
    "\\begin{align}\n",
    "\\tilde x_{n+1} &= \\tilde x_{n}+\\tilde v_{n+1/2}\\Delta t\\\\\n",
    "\\tilde v_{n+1/2} &= \\tilde v_{n-1/2}-\\frac{k}{m}x_n\\Delta t\n",
    "\\end{align}\n",
    "\n",
    "from 1 equation: $$v_{n+1/2} = \\frac{x_{n+1} - x_n}{\\Delta t}$$\n",
    "into second equation: $$\\frac{x_{n+1} - 2x_n +x_{n-1}}{\\Delta t} = - \\frac{k}{m} x_n \\Delta t$$\n",
    "Thus: $$x_{n+1} + \\left(\\frac{k \\Delta t^2}{m}  -2\\right) x_n  + x_{n-1} = 0$$\n",
    "\n",
    "$$x_n = \\lambda^n$$\n",
    "\n",
    "$$\\lambda^2 + \\left(\\frac{k \\Delta t^2}{m}  -2\\right) \\lambda + 1 = 0$$\n",
    "\n",
    "$$\\lambda_{1,2} = 0.5 \\left(2 - \\frac{k \\Delta t^2}{m} \\pm \\sqrt{\\frac{k \\Delta t^2}{m}(\\frac{k \\Delta t^2}{m}-4)} \\right) $$\n",
    "\n",
    "$$\\frac{k \\Delta t^2}{m} > 4 \\Longleftrightarrow \\Delta t> 2\\sqrt{\\frac{m}{k}}$$\n",
    "\n",
    "If we variable $v_{n+1/2}$ we get the same results. \n",
    "\n",
    "$\\sup_n(x^2_n+v^2_{n+1/2})=\\infty $\n",
    "\n",
    "$\\sup_n(x^2_n)=\\infty  $\n",
    "\n",
    "$\\sup_n|x_n| = \\infty$. \n",
    "\n",
    "So enough to investigate the conditions of convergence of this scheme for variable x.\n",
    "\n",
    "$\\sup_n |x_n| = \\sup_n |\\lambda^n| = \\infty$. Hence if $|\\lambda| > 1$ then the scheme doesn't converge.\n",
    "\n",
    "Scheme is converging when  $\\frac{k \\Delta t^2}{m}∈[0,4]$. "
   ]
  },
  {
   "cell_type": "markdown",
   "metadata": {},
   "source": [
    "### Problem 5 (2 points)\n",
    "Consider the velocity Verlet method for solving the equation $\\frac{d}{dt}{x\\choose v}={v\\choose f_1(x)}$: \n",
    "\n",
    "\\begin{align}\n",
    "\\tilde v_{n+1/2} &= \\tilde v_{n}+\\frac{1}{2}f_1(\\tilde x_n)\\Delta t\\\\\n",
    "\\tilde x_{n+1} &= \\tilde x_{n}+\\tilde v_{n+1/2}\\Delta t\\\\\n",
    "\\tilde v_{n+1} &= \\tilde v_{n+1/2}+\\frac{1}{2}f_1(\\tilde x_{n+1})\\Delta t\n",
    "\\end{align}\n",
    "Find its global convergence order and verify it experimentally."
   ]
  },
  {
   "cell_type": "code",
   "execution_count": 8,
   "metadata": {},
   "outputs": [
    {
     "data": {
      "image/png": "[encoded data removed]",
      "text/plain": [
       "<Figure size 432x288 with 1 Axes>"
      ]
     },
     "metadata": {},
     "output_type": "display_data"
    }
   ],
   "source": [
    "import numpy as np\n",
    "import matplotlib.pyplot as plt\n",
    "%matplotlib inline\n",
    "\n",
    "def f1(x):\n",
    "    return - np.sin(x)\n",
    "\n",
    "def Ver(f1, x0, v0, dt=1e-3, N=10000):\n",
    "    xHistory = [x0] # at integer times\n",
    "    vHistory_ = [v0+dt/2.*f1(x0)] # at half-integer times\n",
    "    vHistory = [v0]\n",
    "    tHistory = [0]\n",
    "    for n in range(N):\n",
    "        vHistory_.append(vHistory[-1]+(1/2)*dt*f1(xHistory[-1]))\n",
    "        xHistory.append(xHistory[-1]+dt*vHistory_[n+1])\n",
    "        vHistory.append(vHistory_[n+1] + (1/2)*f1(xHistory[n+1])*dt)\n",
    "        tHistory.append(dt*(n+1))\n",
    "    return xHistory[1:], vHistory[1:], tHistory[1:]\n",
    "\n",
    "for m in range(0,4):\n",
    "    dt = 10**(-m)\n",
    "    xHistory, vHistory,_ = Ver(f1, 1., 1., dt=dt, N=int(10./dt)) \n",
    "    plt.plot(xHistory, vHistory, label='$\\Delta t=$ %e' %dt )\n",
    "plt.xlabel('x')\n",
    "plt.ylabel('v')\n",
    "plt.legend(loc='best')  \n",
    "plt.show()    "
   ]
  },
  {
   "cell_type": "code",
   "execution_count": 11,
   "metadata": {},
   "outputs": [
    {
     "name": "stdout",
     "output_type": "stream",
     "text": [
      "Error in E at dt=1.000000e+00: 2.200689e-01\n",
      "Error in E at dt=1.000000e-01: 1.425750e-03\n",
      "Error in E at dt=1.000000e-02: 1.274388e-05\n",
      "Error in E at dt=1.000000e-03: 1.257985e-07\n",
      "Error in E at dt=1.000000e-04: 1.256326e-09\n"
     ]
    },
    {
     "data": {
      "image/png": "[encoded data removed]",
      "text/plain": [
       "<Figure size 432x288 with 1 Axes>"
      ]
     },
     "metadata": {},
     "output_type": "display_data"
    }
   ],
   "source": [
    "def E(X):\n",
    "    return X[1]*X[1]/2-np.cos(X[0])\n",
    "\n",
    "for m in range(0,5):\n",
    "    dt = 10**(-m)\n",
    "    xHistory, vHistory, tHistory = Ver(f1, 1., 1., dt=dt, N=int(10./dt)) \n",
    "    Ehistory = [E([xHistory[n], vHistory[n]]) for n in range(len(xHistory))]\n",
    "    plt.plot(tHistory, Ehistory, label='$\\Delta t=$ %e' %dt )\n",
    "    print ('Error in E at dt=%e: %e' %(dt, np.abs(Ehistory[-1]-Ehistory[0]))) \n",
    "plt.xlabel('t')\n",
    "plt.ylabel('E')\n",
    "plt.legend(loc='best')\n",
    "plt.show()"
   ]
  },
  {
   "cell_type": "markdown",
   "metadata": {},
   "source": [
    "1 equation:\n",
    "$$ x_{n+1} = x_{n}+ v_{n+1/2}\\Delta t $$\n",
    "\n",
    "$$v_{n+1/2} = \\frac{x_{n+1} - x_{n}}{\\Delta t}$$\n",
    "\n",
    "2 equation:\n",
    "\n",
    "$$v_{n+1/2} = v_{n}+\\frac{1}{2}f_1( x_n)\\Delta t $$\n",
    "\n",
    "$$v_{n} = v_{n+1/2} - \\frac{1}{2}f_1(x_n)\\Delta t = \\frac{x_{n+1} - x_{n}}{\\Delta t} - \\frac{1}{2}f_1( x_n)\\Delta t$$\n",
    "\n",
    "3 equation: \n",
    "$$\\frac{x_{n+2} - x_{n+1}} {\\Delta t} - \\frac{1}{2} f_1(x_{n+1}) \\Delta t = \\frac{x_{n+1} - x_n} {\\Delta t} + \\frac{1}{2} f_1(x_{n+1}) \\Delta t $$\n",
    "\n",
    "$$\\frac{x_{n+2} - 2x_{n+1} + x_n} {\\Delta t ^2} = f(x_{n+1}) $$\n",
    "\n",
    "If decompose the function as Taylor series and divide by dt we will get approximation is $O(\\Delta t ^2)$."
   ]
  },
  {
   "cell_type": "code",
   "execution_count": null,
   "metadata": {},
   "outputs": [],
   "source": []
  }
 ],
 "metadata": {
  "kernelspec": {
   "display_name": "Python 3",
   "language": "python",
   "name": "python3"
  },
  "language_info": {
   "codemirror_mode": {
    "name": "ipython",
    "version": 3
   },
   "file_extension": ".py",
   "mimetype": "text/x-python",
   "name": "python",
   "nbconvert_exporter": "python",
   "pygments_lexer": "ipython3",
   "version": "3.6.5"
  }
 },
 "nbformat": 4,
 "nbformat_minor": 1
}
