{
 "cells": [
  {
   "cell_type": "code",
   "execution_count": 6,
   "metadata": {},
   "outputs": [],
   "source": [
    "import matplotlib.pyplot as plt\n",
    "import scipy.io.wavfile as wavfile\n",
    "\n",
    "import wave\n",
    "import numpy as np\n",
    "import pandas as pd\n",
    "import librosa\n",
    "import soundfile as sf\n",
    "from tqdm import tqdm_notebook as tqdm\n",
    "import tsfresh\n",
    "from entropy import *\n",
    "import entropy\n",
    "from scipy.signal import periodogram, welch\n",
    "import matplotlib\n",
    "matplotlib.use('PDF')\n",
    "plt.style.use('ggplot') \n",
    "%matplotlib inline"
   ]
  },
  {
   "cell_type": "code",
   "execution_count": 242,
   "metadata": {},
   "outputs": [],
   "source": [
    "demo = pd.read_excel('1.xlsx')"
   ]
  },
  {
   "cell_type": "code",
   "execution_count": 7,
   "metadata": {},
   "outputs": [],
   "source": [
    "path = '/Volumes/TOSHIBA EXT/respiratory-sound-database/Respiratory_Sound_Database/Respiratory_Sound_Database/audio_and_txt_files/'"
   ]
  },
  {
   "cell_type": "code",
   "execution_count": 8,
   "metadata": {},
   "outputs": [],
   "source": [
    "#https://homepage.univie.ac.at/christian.herbst/python/dsp_util_8py_source.html\n",
    "#https://core.ac.uk/download/pdf/82343096.pdf\n",
    "def calculateJitterRatio(data):\n",
    "    n = len(data)\n",
    "    sum1 = 0\n",
    "    sum2 = 0\n",
    "    for i in range(n):\n",
    "        if i > 0:\n",
    "            sum1 += abs(data[i-1] - data[i])\n",
    "        sum2 += data[i]\n",
    "    sum1 /= float(n - 1)\n",
    "    sum2 /= float(n)\n",
    "    return 1000.0 * sum1 / sum2\n",
    "\n",
    "def calculateJitterFactor(data):\n",
    "    n = len(data)\n",
    "    dataF = np.zeros(n)\n",
    "    for i in range(n):\n",
    "    # convert from periods to F0 per cycle\n",
    "        dataF[i] = 1.0 / data[i]\n",
    "    sum1 = 0\n",
    "    sum2 = 0\n",
    "    for i in range(n):\n",
    "        if i > 0:\n",
    "            sum1 += abs(dataF[i] - dataF[i-1])\n",
    "        sum2 += dataF[i]\n",
    "    sum1 /= float(n - 1)\n",
    "    sum2 /= float(n)\n",
    "    return 100.0 * sum1 / sum2\n",
    "\n",
    "def calculateJitterPercent(data):\n",
    "    return calculateJitterRatio(data) / 10.0"
   ]
  },
  {
   "cell_type": "code",
   "execution_count": 9,
   "metadata": {},
   "outputs": [],
   "source": [
    "#https://raphaelvallat.com/entropy/build/html/generated/entropy.spectral_entropy.html\n",
    "\n",
    "def spectral_entropy(x, sf=22050, method='fft', nperseg=None, normalize=False):\n",
    "    \"\"\"Spectral Entropy.\n",
    "\n",
    "    Parameters\n",
    "    ----------\n",
    "    x : list or np.array\n",
    "        One-dimensional time series of shape (n_times)\n",
    "    sf : float\n",
    "        Sampling frequency\n",
    "    method : str\n",
    "        Spectral estimation method ::\n",
    "\n",
    "        'fft' : Fourier Transform (via scipy.signal.periodogram)\n",
    "        'welch' : Welch periodogram (via scipy.signal.welch)\n",
    "\n",
    "    nperseg : str or int\n",
    "        Length of each FFT segment for Welch method.\n",
    "        If None, uses scipy default of 256 samples.\n",
    "    normalize : bool\n",
    "        If True, divide by log2(psd.size) to normalize the spectral entropy\n",
    "        between 0 and 1. Otherwise, return the spectral entropy in bit.\n",
    "\n",
    "    Returns\n",
    "    -------\n",
    "    se : float\n",
    "        Spectral Entropy\n",
    "\n",
    "    Notes\n",
    "    -----\n",
    "    Spectral Entropy is defined to be the Shannon Entropy of the Power\n",
    "    Spectral Density (PSD) of the data:\n",
    "\n",
    "    .. math:: H(x, sf) =  -\\\\sum_{f=0}^{f_s/2} PSD(f) log_2[PSD(f)]\n",
    "\n",
    "    Where :math:`PSD` is the normalised PSD, and :math:`f_s` is the sampling\n",
    "    frequency.\n",
    "\n",
    "    References\n",
    "    ----------\n",
    "    .. [1] Inouye, T. et al. (1991). Quantification of EEG irregularity by\n",
    "       use of the entropy of the power spectrum. Electroencephalography\n",
    "       and clinical neurophysiology, 79(3), 204-210.\n",
    "\n",
    "    Examples\n",
    "    --------\n",
    "    1. Spectral entropy of a pure sine using FFT\n",
    "\n",
    "        >>> from entropy import spectral_entropy\n",
    "        >>> import numpy as np\n",
    "        >>> sf, f, dur = 100, 1, 4\n",
    "        >>> N = sf * duration # Total number of discrete samples\n",
    "        >>> t = np.arange(N) / sf # Time vector\n",
    "        >>> x = np.sin(2 * np.pi * f * t)\n",
    "        >>> print(np.round(spectral_entropy(x, sf, method='fft'), 2)\n",
    "            0.0\n",
    "\n",
    "    2. Spectral entropy of a random signal using Welch's method\n",
    "\n",
    "        >>> from entropy import spectral_entropy\n",
    "        >>> import numpy as np\n",
    "        >>> np.random.seed(42)\n",
    "        >>> x = np.random.rand(3000)\n",
    "        >>> print(spectral_entropy(x, sf=100, method='welch'))\n",
    "            9.939\n",
    "\n",
    "    3. Normalized spectral entropy\n",
    "\n",
    "        >>> print(spectral_entropy(x, sf=100, method='welch', normalize=True))\n",
    "            0.995\n",
    "    \"\"\"\n",
    "    x = np.array(x)\n",
    "    # Compute and normalize power spectrum\n",
    "    if method == 'fft':\n",
    "        _, psd = periodogram(x, sf)\n",
    "    elif method == 'welch':\n",
    "        _, psd = welch(x, sf, nperseg=nperseg)\n",
    "    psd_norm = np.divide(psd, psd.sum())\n",
    "    se = -np.multiply(psd_norm, np.log2(psd_norm)).sum()\n",
    "    if normalize:\n",
    "        se /= np.log2(psd_norm.size)\n",
    "    return se"
   ]
  },
  {
   "cell_type": "code",
   "execution_count": 10,
   "metadata": {},
   "outputs": [],
   "source": [
    "# a. Trachea (Tc)\n",
    "# b. Anterior left (Al)\n",
    "# c. Anterior right (Ar)\n",
    "# d. Posterior left (Pl)\n",
    "# e. Posterior right (Pr)\n",
    "# f. Lateral left (Ll)\n",
    "# g. Lateral right (Lr)"
   ]
  },
  {
   "cell_type": "code",
   "execution_count": 11,
   "metadata": {},
   "outputs": [],
   "source": [
    "def COPD():\n",
    "    array = []\n",
    "    h_121_Tc , rate= librosa.load(path+'104_1b1_Al_sc_Litt3200.wav')#121\n",
    "    array.extend(h_121_Tc)\n",
    "    h_125_Tc, rate = librosa.load(path+'106_2b1_Pl_mc_LittC2SE.wav')#125\n",
    "    array.extend(h_125_Tc)\n",
    "    h_126_Al, rate = librosa.load(path+'107_2b3_Al_mc_AKGC417L.wav')#126\n",
    "    array.extend(h_126_Al)\n",
    "    h_127_Ar, rate = librosa.load(path+'107_2b3_Ar_mc_AKGC417L.wav')#127\n",
    "    array.extend(h_127_Ar)\n",
    "    h_143_Al, rate = librosa.load(path+'109_1b1_Al_sc_Litt3200.wav')#143\n",
    "    array.extend(h_143_Al)\n",
    "    h_144_Al, rate = librosa.load(path+'109_1b1_Ar_sc_Litt3200.wav')#144\n",
    "    array.extend(h_144_Al)\n",
    "    h_144_Tc, rate = librosa.load(path+'110_1b1_Pr_sc_Meditron.wav')#144\n",
    "    array.extend(h_144_Tc)\n",
    "    h_152_Al, rate = librosa.load(path+'110_1p1_Al_sc_Meditron.wav')#152\n",
    "    array.extend(h_152_Al)\n",
    "    h_153_Al, rate = librosa.load(path+'110_1p1_Ll_sc_Meditron.wav')#153\n",
    "    array.extend(h_153_Al)\n",
    "    \n",
    "    h_159_Ll, rate = librosa.load(path+'112_1b1_Ar_sc_Meditron.wav')#159\n",
    "    array.extend(h_159_Ll)\n",
    "    \n",
    "    h_159_Pr, rate = librosa.load(path+'113_1b1_Ar_sc_Litt3200.wav')#159\n",
    "    array.extend(h_159_Pr)\n",
    "    h_171_Al, rate = librosa.load(path+'113_1b1_Ll_sc_Litt3200.wav')#171\n",
    "    array.extend(h_171_Al)\n",
    "    h_179_Al, rate = librosa.load(path+'113_1b1_Lr_sc_Litt3200.wav')#179\n",
    "    array.extend(h_179_Al)\n",
    "    h_179_Tc, rate = librosa.load(path+'114_1b4_Al_mc_AKGC417L.wav')#179\n",
    "    array.extend(h_179_Tc)\n",
    "    \n",
    "    h_183_Tc, rate = librosa.load(path+'117_1b2_Tc_mc_LittC2SE.wav')#183\n",
    "    array.extend(h_183_Tc)\n",
    "    h_184_Ar, rate = librosa.load(path+'117_1b3_Tc_mc_LittC2SE.wav')#184\n",
    "    array.extend(h_184_Ar)\n",
    "    h_187_Ll, rate = librosa.load(path+'118_1b1_Al_sc_Litt3200.wav')#187\n",
    "    array.extend(h_187_Ll)\n",
    "    h_194_Lr, rate = librosa.load(path+'118_1b1_Ar_sc_Litt3200.wav')#194\n",
    "    array.extend(h_194_Lr)\n",
    "    \n",
    "    h_202_Ar, rate = librosa.load(path+'120_1b1_Al_sc_Meditron.wav')#202\n",
    "    array.extend(h_202_Ar)\n",
    "    h_208_Ll, rate = librosa.load(path+'120_1b1_Ar_sc_Meditron.wav')#208\n",
    "    array.extend(h_208_Ll )\n",
    "    \n",
    "    \n",
    "    h_224_Tc, rate = librosa.load(path+'124_1b1_Al_sc_Litt3200.wav')#224\n",
    "    array.extend(h_224_Tc)\n",
    "\n",
    "    h_225_Pl, rate = librosa.load(path+'124_1b1_Ar_sc_Litt3200.wav')#225\n",
    "    array.extend(h_225_Pl)\n",
    "    h_124_Pl, rate = librosa.load(path+'124_1b1_Ll_sc_Litt3200.wav')#225\n",
    "    array.extend(h_124_Pl)\n",
    "    \n",
    "    h_124_Pl, rate = librosa.load(path+'128_1b3_Tc_mc_LittC2SE.wav')#225\n",
    "    array.extend(h_124_Pl)\n",
    "    \n",
    "    h_124_Pl, rate = librosa.load(path+'130_1p2_Al_mc_AKGC417L.wav')#225\n",
    "    array.extend(h_124_Pl)\n",
    "    h_124_Pl, rate = librosa.load(path+'130_1p2_Ar_mc_AKGC417L.wav')#225\n",
    "    array.extend(h_124_Pl)\n",
    "    h_124_Pl, rate = librosa.load(path+'130_1p2_Ll_mc_AKGC417L.wav')#225\n",
    "    array.extend(h_124_Pl)\n",
    "    h_124_Pl, rate = librosa.load(path+'130_1p2_Lr_mc_AKGC417L.wav')#225\n",
    "    array.extend(h_124_Pl)\n",
    "    \n",
    "    \n",
    "    h_124_Pl, rate = librosa.load(path+'132_2b1_Lr_mc_LittC2SE.wav')#225\n",
    "    array.extend(h_124_Pl)\n",
    "    \n",
    "    h_124_Pl, rate = librosa.load(path+'132_2b2_Lr_mc_LittC2SE.wav')#132\n",
    "    array.extend(h_124_Pl)\n",
    "    h_124_Pl, rate = librosa.load(path+'133_2p2_Al_mc_AKGC417L.wav')#133\n",
    "    array.extend(h_124_Pl)\n",
    "    h_124_Pl, rate = librosa.load(path+'133_2p2_Ar_mc_AKGC417L.wav')#133\n",
    "    array.extend(h_124_Pl)\n",
    "    h_124_Pl, rate = librosa.load(path+'134_2b1_Al_mc_LittC2SE.wav')#134\n",
    "    array.extend(h_124_Pl)\n",
    "    h_124_Pl, rate = librosa.load(path+'138_1p2_Al_mc_AKGC417L.wav')#138\n",
    "    array.extend(h_124_Pl)\n",
    "    #139\n",
    "    #141\n",
    "    #142\n",
    "    #145\n",
    "    #146\n",
    "    #147\n",
    "    #151\n",
    "    #154\n",
    "    #155\n",
    "    #156\n",
    "    #157\n",
    "    #158\n",
    "    #160\n",
    "    #162\n",
    "    #163\n",
    "    #166\n",
    "    #170\n",
    "    #172\n",
    "    #174\n",
    "    #175\n",
    "    #176\n",
    "    #177\n",
    "    #178\n",
    "    #180\n",
    "    #181\n",
    "    #185\n",
    "    #186\n",
    "    #189\n",
    "    #192\n",
    "    #193\n",
    "    #195\n",
    "    #198\n",
    "    #199\n",
    "    #200\n",
    "    #203\n",
    "    #204\n",
    "    #205\n",
    "    #207\n",
    "    #211\n",
    "    #212\n",
    "    #213\n",
    "    #218\n",
    "    #220\n",
    "    #221\n",
    "    #222\n",
    "    #223\n",
    "    return array\n",
    "    \n",
    "    \n",
    "    \n",
    "    \n",
    "    "
   ]
  },
  {
   "cell_type": "code",
   "execution_count": 12,
   "metadata": {},
   "outputs": [],
   "source": [
    "def URTI():\n",
    "    #all audio is mixed to mono and resampled to 22050 Hz at load time\n",
    "    array = []\n",
    "\n",
    "    h_123_Al, rate = librosa.load(path+'105_1b1_Tc_sc_Meditron.wav')#123\n",
    "    array.extend(h_123_Al)\n",
    "    \n",
    "    h_194_Pr, rate = librosa.load(path+'119_1b1_Ar_sc_Meditron.wav')#194\n",
    "    array.extend(h_194_Pr)\n",
    "    \n",
    "    h_124_Pl, rate = librosa.load(path+'129_1b1_Ar_sc_Meditron.wav')#225\n",
    "    array.extend(h_124_Pl)\n",
    "    \n",
    "    h_124_Pl, rate = librosa.load(path+'131_1b1_Al_sc_Meditron.wav')#225\n",
    "    array.extend(h_124_Pl)\n",
    "    h_124_Pl, rate = librosa.load(path+'137_1b1_Ar_sc_Meditron.wav')#137\n",
    "    array.extend(h_124_Pl)\n",
    "    h_124_Pl, rate = librosa.load(path+'137_1b1_Ll_sc_Meditron.wav')#137\n",
    "    array.extend(h_124_Pl)\n",
    "    \n",
    "    h_124_Pl, rate = librosa.load(path+'148_1b1_Al_sc_Meditron.wav')#148\n",
    "    array.extend(h_124_Pl)\n",
    "    \n",
    "    h_124_Pl, rate = librosa.load(path+'150_1b2_Al_sc_Meditron.wav')#150\n",
    "    array.extend(h_124_Pl)\n",
    "    \n",
    "    h_124_Pl, rate = librosa.load(path+'164_1b1_Ll_sc_Meditron.wav')#164\n",
    "    array.extend(h_124_Pl)\n",
    "    \n",
    "    h_124_Pl, rate = librosa.load(path+'165_1b1_Ar_sc_Meditron.wav')#165\n",
    "    array.extend(h_124_Pl)\n",
    "    \n",
    "    h_124_Pl, rate = librosa.load(path+'165_1b1_Pl_sc_Meditron.wav')#165\n",
    "    array.extend(h_124_Pl)\n",
    "    \n",
    "    h_124_Pl, rate = librosa.load(path+'165_1b1_Pr_sc_Meditron.wav')#165\n",
    "    array.extend(h_124_Pl)\n",
    "    \n",
    "    h_124_Pl, rate = librosa.load(path+'190_1b1_Tc_sc_Meditron.wav')#190\n",
    "    array.extend(h_124_Pl)\n",
    "    \n",
    "    h_124_Pl, rate = librosa.load(path+'197_1b1_Al_sc_Meditron.wav')#197\n",
    "    array.extend(h_124_Pl)\n",
    "    \n",
    "    h_124_Pl, rate = librosa.load(path+'197_1b1_Tc_sc_Meditron.wav')#197\n",
    "    array.extend(h_124_Pl)\n",
    "    \n",
    "    h_124_Pl, rate = librosa.load(path+'210_1b1_Ar_sc_Meditron.wav')#210\n",
    "    array.extend(h_124_Pl)\n",
    "    \n",
    "    \n",
    "    return array"
   ]
  },
  {
   "cell_type": "code",
   "execution_count": 13,
   "metadata": {},
   "outputs": [],
   "source": [
    "def Bronchiectasis():\n",
    "    #all audio is mixed to mono and resampled to 22050 Hz at load time\n",
    "    array = []\n",
    "    h_159_Al, rate = librosa.load(path+'111_1b2_Tc_sc_Meditron.wav')#159\n",
    "    array.extend(h_159_Al )\n",
    "    h_159_Ar, rate = librosa.load(path+'111_1b3_Tc_sc_Meditron.wav')#159\n",
    "    array.extend(h_159_Ar)\n",
    "    \n",
    "    h_159_Ar, rate = librosa.load(path+'149_1b1_Al_sc_Meditron.wav')#149\n",
    "    array.extend(h_159_Ar)\n",
    "    \n",
    "    h_159_Ar, rate = librosa.load(path+'149_1b1_Lr_sc_Meditron.wav')#149\n",
    "    array.extend(h_159_Ar)\n",
    "    \n",
    "    h_159_Ar, rate = librosa.load(path+'149_1b1_Pl_sc_Meditron.wav')#149\n",
    "    array.extend(h_159_Ar)\n",
    "    h_159_Ar, rate = librosa.load(path+'161_1b1_Al_sc_Meditron.wav')#161\n",
    "    array.extend(h_159_Ar)\n",
    "    h_159_Ar, rate = librosa.load(path+'161_1b1_Pl_sc_Meditron.wav')#161\n",
    "    array.extend(h_159_Ar)\n",
    "    h_159_Ar, rate = librosa.load(path+'167_1b1_Al_sc_Meditron.wav')#167\n",
    "    array.extend(h_159_Ar)\n",
    "    h_159_Ar, rate = librosa.load(path+'167_1b1_Pr_sc_Meditron.wav')#167\n",
    "    array.extend(h_159_Ar)\n",
    "    \n",
    "    h_159_Ar, rate = librosa.load(path+'168_1b1_Al_sc_Meditron.wav')#168\n",
    "    array.extend(h_159_Ar)\n",
    "    h_159_Ar, rate = librosa.load(path+'169_1b1_Lr_sc_Meditron.wav')#169\n",
    "    array.extend(h_159_Ar)\n",
    "    h_159_Ar, rate = librosa.load(path+'169_1b2_Ll_sc_Meditron.wav')#169\n",
    "    array.extend(h_159_Ar)\n",
    "    h_159_Ar, rate = librosa.load(path+'173_1b1_Al_sc_Meditron.wav')#173\n",
    "    array.extend(h_159_Ar)\n",
    "    \n",
    "    h_159_Ar, rate = librosa.load(path+'196_1b1_Pr_sc_Meditron.wav')#196\n",
    "    array.extend(h_159_Ar)\n",
    "    \n",
    "    h_159_Ar, rate = librosa.load(path+'201_1b1_Al_sc_Meditron.wav')#201\n",
    "    array.extend(h_159_Ar)\n",
    "    \n",
    "    h_159_Ar, rate = librosa.load(path+'201_1b1_Ar_sc_Meditron.wav')#201\n",
    "    array.extend(h_159_Ar)\n",
    "    \n",
    "    h_159_Ar, rate = librosa.load(path+'201_1b2_Al_sc_Meditron.wav')#201\n",
    "    array.extend(h_159_Ar)\n",
    "    \n",
    "    h_159_Ar, rate = librosa.load(path+'201_1b2_Ar_sc_Meditron.wav')#201\n",
    "    array.extend(h_159_Ar)\n",
    "    \n",
    "    h_159_Ar, rate = librosa.load(path+'201_1b3_Al_sc_Meditron.wav')#201\n",
    "    array.extend(h_159_Ar)\n",
    "    \n",
    "    h_159_Ar, rate = librosa.load(path+'201_1b3_Ar_sc_Meditron.wav')#201\n",
    "    array.extend(h_159_Ar)\n",
    "    \n",
    "    h_159_Ar, rate = librosa.load(path+'206_1b1_Ar_sc_Meditron.wav')#206\n",
    "    array.extend(h_159_Ar)\n",
    "    \n",
    "    h_159_Ar, rate = librosa.load(path+'206_1b1_Lr_sc_Meditron.wav')#206\n",
    "    array.extend(h_159_Ar)\n",
    "    \n",
    "    h_159_Ar, rate = librosa.load(path+'206_1b1_Pl_sc_Meditron.wav')#206\n",
    "    array.extend(h_159_Ar)\n",
    "    \n",
    "    h_159_Ar, rate = librosa.load(path+'215_1b2_Ar_sc_Meditron.wav')#215\n",
    "    array.extend(h_159_Ar)\n",
    "    \n",
    "    h_159_Ar, rate = librosa.load(path+'215_1b3_Tc_sc_Meditron.wav')#215\n",
    "    array.extend(h_159_Ar)\n",
    "    \n",
    "    h_159_Ar, rate = librosa.load(path+'216_1b1_Al_sc_Meditron.wav')#216\n",
    "    array.extend(h_159_Ar)\n",
    "    \n",
    "    h_159_Ar, rate = librosa.load(path+'216_1b1_Pl_sc_Meditron.wav')#216\n",
    "    array.extend(h_159_Ar)\n",
    "    \n",
    "    \n",
    "    return array"
   ]
  },
  {
   "cell_type": "code",
   "execution_count": 14,
   "metadata": {},
   "outputs": [],
   "source": [
    "def Pneumonia():\n",
    "    #all audio is mixed to mono and resampled to 22050 Hz at load time\n",
    "    array = []\n",
    "    \n",
    "#     #LRTI\n",
    "#     h_102_Ar, rate = librosa.load(path+'103_2b2_Ar_mc_LittC2SE.wav')#102\n",
    "#     array.extend(h_102_Ar)\n",
    "    \n",
    "    \n",
    "#     h_182_Tc, rate = librosa.load(path+'115_1b1_Ar_sc_Meditron.wav')#182\n",
    "#     array.extend(h_182_Tc)\n",
    "    \n",
    "    #Pneumonia\n",
    "    h_209_Tc, rate = librosa.load(path+'122_2b1_Al_mc_LittC2SE.wav')#209\n",
    "    array.extend(h_209_Tc )\n",
    "    h_214_Ar, rate = librosa.load(path+'122_2b1_Ar_mc_LittC2SE.wav')#214\n",
    "    array.extend(h_214_Ar )\n",
    "    h_217_Tc, rate = librosa.load(path+'122_2b1_Tc_mc_LittC2SE.wav')#217\n",
    "    array.extend(h_217_Tc)\n",
    "    \n",
    "    \n",
    "    \n",
    "    h_217_Tc, rate = librosa.load(path+'135_2b1_Al_mc_LittC2SE.wav')#135 Pneumonia\n",
    "    array.extend(h_217_Tc)\n",
    "    \n",
    "    h_217_Tc, rate = librosa.load(path+'135_2b1_Ar_mc_LittC2SE.wav')#135 Pneumonia\n",
    "    array.extend(h_217_Tc)\n",
    "    \n",
    "    h_217_Tc, rate = librosa.load(path+'135_2b1_Pl_mc_LittC2SE.wav')#135 Pneumonia\n",
    "    array.extend(h_217_Tc)\n",
    "    \n",
    "    h_217_Tc, rate = librosa.load(path+'135_2b1_Tc_mc_LittC2SE.wav')#135 Pneumonia\n",
    "    array.extend(h_217_Tc)\n",
    "    \n",
    "    h_217_Tc, rate = librosa.load(path+'135_2b2_Al_mc_LittC2SE.wav')#135 Pneumonia\n",
    "    array.extend(h_217_Tc)\n",
    "    \n",
    "    h_217_Tc, rate = librosa.load(path+'135_2b2_Ar_mc_LittC2SE.wav')#135 Pneumonia\n",
    "    array.extend(h_217_Tc)\n",
    "    \n",
    "    h_217_Tc, rate = librosa.load(path+'135_2b2_Pl_mc_LittC2SE.wav')#135 Pneumonia\n",
    "    array.extend(h_217_Tc)\n",
    "    \n",
    "    h_217_Tc, rate = librosa.load(path+'135_2b2_Tc_mc_LittC2SE.wav')#135 Pneumonia\n",
    "    array.extend(h_217_Tc)\n",
    "    \n",
    "    h_217_Tc, rate = librosa.load(path+'135_2b3_Al_mc_LittC2SE.wav')#135 Pneumonia\n",
    "    array.extend(h_217_Tc)\n",
    "    \n",
    "    h_217_Tc, rate = librosa.load(path+'135_2b3_Ar_mc_LittC2SE.wav')#135 Pneumonia\n",
    "    array.extend(h_217_Tc)\n",
    "    \n",
    "    h_217_Tc, rate = librosa.load(path+'135_2b3_Pl_mc_LittC2SE.wav')#135 Pneumonia\n",
    "    array.extend(h_217_Tc)\n",
    "    \n",
    "    h_217_Tc, rate = librosa.load(path+'135_2b3_Pr_mc_LittC2SE.wav')#135 Pneumonia\n",
    "    array.extend(h_217_Tc)\n",
    "    \n",
    "    h_217_Tc, rate = librosa.load(path+'135_2b3_Tc_mc_LittC2SE.wav')#135 Pneumonia\n",
    "    array.extend(h_217_Tc)\n",
    "    \n",
    "    \n",
    "    h_217_Tc, rate = librosa.load(path+'140_2b2_Ll_mc_LittC2SE.wav')#140 Pneumonia\n",
    "    array.extend(h_217_Tc)\n",
    "    \n",
    "    h_217_Tc, rate = librosa.load(path+'140_2b2_Tc_mc_LittC2SE.wav')#140 Pneumonia\n",
    "    array.extend(h_217_Tc)\n",
    "    \n",
    "    h_217_Tc, rate = librosa.load(path+'140_2b3_Ll_mc_LittC2SE.wav')#140 Pneumonia\n",
    "    array.extend(h_217_Tc)\n",
    "    \n",
    "    h_217_Tc, rate = librosa.load(path+'140_2b3_Tc_mc_LittC2SE.wav')#140 Pneumonia\n",
    "    array.extend(h_217_Tc)\n",
    "    \n",
    "    \n",
    "    h_217_Tc, rate = librosa.load(path+'191_2b1_Pl_mc_LittC2SE.wav')#191 Pneumonia\n",
    "    array.extend(h_217_Tc)\n",
    "    \n",
    "    h_217_Tc, rate = librosa.load(path+'191_2b1_Pr_mc_LittC2SE.wav')#191 Pneumonia\n",
    "    array.extend(h_217_Tc)\n",
    "    \n",
    "    h_217_Tc, rate = librosa.load(path+'191_2b2_Tc_mc_LittC2SE.wav')#191 Pneumonia\n",
    "    array.extend(h_217_Tc)\n",
    "    \n",
    "    h_217_Tc, rate = librosa.load(path+'219_2b1_Ar_mc_LittC2SE.wav')#219 Pneumonia\n",
    "    array.extend(h_217_Tc)\n",
    "    \n",
    "    h_217_Tc, rate = librosa.load(path+'219_2b1_Tc_mc_LittC2SE.wav')#219 Pneumonia\n",
    "    array.extend(h_217_Tc)\n",
    "    \n",
    "    h_217_Tc, rate = librosa.load(path+'219_2b2_Ar_mc_LittC2SE.wav')#219 Pneumonia\n",
    "    array.extend(h_217_Tc)\n",
    "    \n",
    "    h_217_Tc, rate = librosa.load(path+'219_2b2_Tc_mc_LittC2SE.wav')#219 Pneumonia\n",
    "    array.extend(h_217_Tc)\n",
    "    \n",
    "    h_217_Tc, rate = librosa.load(path+'219_2b3_Tc_mc_LittC2SE.wav')#219 Pneumonia\n",
    "    array.extend(h_217_Tc)\n",
    "    \n",
    "    \n",
    "    \n",
    "    h_217_Tc, rate = librosa.load(path+'226_1b1_Al_sc_Meditron.wav')#226 Pneumonia\n",
    "    array.extend(h_217_Tc)\n",
    "    \n",
    "    h_217_Tc, rate = librosa.load(path+'226_1b1_Ll_sc_Meditron.wav')#226 Pneumonia\n",
    "    array.extend(h_217_Tc)\n",
    "    \n",
    "    h_217_Tc, rate = librosa.load(path+'226_1b1_Pl_sc_LittC2SE.wav')#226 Pneumonia\n",
    "    array.extend(h_217_Tc)\n",
    "    \n",
    "    return array"
   ]
  },
  {
   "cell_type": "code",
   "execution_count": 52,
   "metadata": {},
   "outputs": [],
   "source": [
    "def healthy():\n",
    "    #all audio is mixed to mono and resampled to 22050 Hz at load time\n",
    "    array = []\n",
    "    h_102_Ar, rate = librosa.load(path+'102_1b1_Ar_sc_Meditron.wav')#102\n",
    "    array.extend(h_102_Ar)\n",
    "    h_121_Tc , rate= librosa.load(path+'121_1b1_Tc_sc_Meditron.wav')#121\n",
    "    array.extend(h_121_Tc)\n",
    "    h_123_Al, rate = librosa.load(path+'123_1b1_Al_sc_Meditron.wav')#123\n",
    "    array.extend(h_123_Al)\n",
    "    h_125_Tc, rate = librosa.load(path+'125_1b1_Tc_sc_Meditron.wav')#125\n",
    "    array.extend(h_125_Tc)\n",
    "    h_126_Al, rate = librosa.load(path+'126_1b1_Al_sc_Meditron.wav')#126\n",
    "    array.extend(h_126_Al)\n",
    "    h_127_Ar, rate = librosa.load(path+'127_1b1_Ar_sc_Meditron.wav')#127\n",
    "    array.extend(h_127_Ar)\n",
    "    h_136_Ar, rate = librosa.load(path+'136_1b1_Ar_sc_Meditron.wav')#136\n",
    "    array.extend(h_136_Ar)\n",
    "    h_143_Al, rate = librosa.load(path+'143_1b1_Al_sc_Meditron.wav')#143\n",
    "    array.extend(h_143_Al)\n",
    "    h_144_Al, rate = librosa.load(path+'144_1b1_Al_sc_Meditron.wav')#144\n",
    "    array.extend(h_144_Al)\n",
    "    h_144_Tc, rate = librosa.load(path+'144_1b1_Tc_sc_Meditron.wav')#144\n",
    "    array.extend(h_144_Tc)\n",
    "    h_152_Al, rate = librosa.load(path+'152_1b1_Al_sc_Meditron.wav')#152\n",
    "    array.extend(h_152_Al)\n",
    "    h_153_Al, rate = librosa.load(path+'153_1b1_Al_sc_Meditron.wav')#153\n",
    "    array.extend(h_153_Al)\n",
    "    h_159_Al, rate = librosa.load(path+'159_1b1_Al_sc_Meditron.wav')#159\n",
    "    array.extend(h_159_Al )\n",
    "    h_159_Ar, rate = librosa.load(path+'159_1b1_Ar_sc_Meditron.wav')#159\n",
    "    array.extend(h_159_Ar)\n",
    "    h_159_Ll, rate = librosa.load(path+'159_1b1_Ll_sc_Meditron.wav')#159\n",
    "    array.extend(h_159_Ll)\n",
    "    h_159_Pr, rate = librosa.load(path+'159_1b1_Pr_sc_Meditron.wav')#159\n",
    "    array.extend(h_159_Pr)\n",
    "    h_171_Al, rate = librosa.load(path+'171_1b1_Al_sc_Meditron.wav')#171\n",
    "    array.extend(h_171_Al)\n",
    "    h_179_Al, rate = librosa.load(path+'179_1b1_Al_sc_Meditron.wav')#179\n",
    "    array.extend(h_179_Al)\n",
    "    h_179_Tc, rate = librosa.load(path+'179_1b1_Tc_sc_Meditron.wav')#179\n",
    "    array.extend(h_179_Tc)\n",
    "    h_182_Tc, rate = librosa.load(path+'182_1b1_Tc_sc_Meditron.wav')#182\n",
    "    array.extend(h_182_Tc)\n",
    "    h_183_Pl, rate = librosa.load(path+'183_1b1_Pl_sc_Meditron.wav')#183\n",
    "    array.extend(h_183_Pl)\n",
    "    h_183_Tc, rate = librosa.load(path+'183_1b1_Tc_sc_Meditron.wav')#183\n",
    "    array.extend(h_183_Tc)\n",
    "    h_184_Ar, rate = librosa.load(path+'184_1b1_Ar_sc_Meditron.wav')#184\n",
    "    array.extend(h_184_Ar)\n",
    "    h_187_Ll, rate = librosa.load(path+'187_1b1_Ll_sc_Meditron.wav')#187\n",
    "    array.extend(h_187_Ll)\n",
    "    h_194_Lr, rate = librosa.load(path+'194_1b1_Lr_sc_Meditron.wav')#194\n",
    "    array.extend(h_194_Lr)\n",
    "    h_194_Pr, rate = librosa.load(path+'194_1b1_Pr_sc_Meditron.wav')#194\n",
    "    array.extend(h_194_Pr)\n",
    "    h_202_Ar, rate = librosa.load(path+'202_1b1_Ar_sc_Meditron.wav')#202\n",
    "    array.extend(h_202_Ar)\n",
    "    h_208_Ll, rate = librosa.load(path+'208_1b1_Ll_sc_Meditron.wav')#208\n",
    "    array.extend(h_208_Ll )\n",
    "    h_209_Tc, rate = librosa.load(path+'209_1b1_Tc_sc_Meditron.wav')#209\n",
    "    array.extend(h_209_Tc )\n",
    "    h_214_Ar, rate = librosa.load(path+'214_1b1_Ar_sc_Meditron.wav')#214\n",
    "    array.extend(h_214_Ar )\n",
    "    h_217_Tc, rate = librosa.load(path+'217_1b1_Tc_sc_Meditron.wav')#217\n",
    "    array.extend(h_217_Tc)\n",
    "    h_224_Tc, rate = librosa.load(path+'224_1b1_Tc_sc_Meditron.wav')#224\n",
    "    array.extend(h_224_Tc)\n",
    "    h_224_Al, rate = librosa.load(path+'224_1b2_Al_sc_Meditron.wav')#224\n",
    "    array.extend(h_224_Al)\n",
    "    h_225_Pl, rate = librosa.load(path+'225_1b1_Pl_sc_Meditron.wav')#225\n",
    "    array.extend(h_225_Pl)\n",
    "    return array\n",
    "\n",
    "def rolling_window(a, window):\n",
    "    return list(pd.Series(a).rolling(window).mean())\n",
    "#     new = []\n",
    "#     value = 0\n",
    "#     for i in range(len(a)):\n",
    "#         while i%window != 0 or i == 0:\n",
    "#             value += a[i]\n",
    "#         if i%window == 0 and i != 0:\n",
    "#             new.append(value/window)\n",
    "#             value = 0\n",
    "#     return new\n",
    "\n",
    "def split(arr, size):\n",
    "    #arr = arr.values\n",
    "    arrs = []\n",
    "    while len(arr) > size:\n",
    "        pice = arr[:size]\n",
    "        arrs.append(pice)\n",
    "        arr   = arr[(size//2):]\n",
    "    arrs.append(arr)\n",
    "    return arrs\n",
    "\n",
    "def feature_extraction(data, healthy):\n",
    "    array_feature = []\n",
    "    i = 0\n",
    "    for each_array in data:\n",
    "        each_array = np.asarray(each_array)\n",
    "        f = np.zeros(25)\n",
    "        #https://librosa.github.io/librosa/generated/librosa.feature.zero_crossing_rate.html\n",
    "        f[0] = np.sum(librosa.feature.zero_crossing_rate(each_array))\n",
    "        #MFCC — Mel-Frequency Cepstral Coefficients\n",
    "        #https://medium.com/prathena/the-dummys-guide-to-mfcc-aceab2450fd\n",
    "        '''\n",
    "        This feature is one of the most important method to extract a feature \n",
    "        of an audio signal and is used majorly whenever working on audio signals. \n",
    "        The mel frequency cepstral coefficients (MFCCs) of a signal are a small \n",
    "        set of features (usually about 10–20) which concisely describe the \n",
    "        overall shape of a spectral envelope.\n",
    "        '''\n",
    "        f[1] = np.sum(librosa.feature.mfcc(each_array))/librosa.feature.mfcc(each_array).shape[1]\n",
    "        #Spectral Centroid\n",
    "        '''\n",
    "        It indicates where the ”centre of mass” for a sound is \n",
    "        located and is calculated as the weighted mean of the frequencies present \n",
    "        in the sound. If the frequencies in music are same throughout then spectral \n",
    "        centroid would be around a centre and if there are high frequencies at the \n",
    "        end of sound then the centroid would be towards its end.\n",
    "        \n",
    "        The mean value of the spectral centroid across all the frames can be \n",
    "        used as the SC feature for each epoch of the frame of the EEG Signal.\n",
    "        '''\n",
    "        f[2] = np.sum(librosa.feature.spectral_centroid(each_array))/librosa.feature.spectral_centroid(each_array).shape[1]\n",
    "        \n",
    "        #Spectral Rolloff\n",
    "        '''\n",
    "        Spectral rolloff is the frequency below which a specified percentage \n",
    "        of the total spectral energy, e.g. 85%, lies.\n",
    "        '''\n",
    "        f[3] = np.sum(librosa.feature.spectral_rolloff(each_array)/librosa.feature.spectral_rolloff(each_array).shape[1])\n",
    "        \n",
    "        ######\n",
    "        f[4] = tsfresh.feature_extraction.feature_calculators.abs_energy(each_array)\n",
    "        ######\n",
    "        \n",
    "        '''\n",
    "        Calculates the fourier coefficients of the one-dimensional \n",
    "        discrete Fourier Transform for real input by fast fourier transformation algorithm\n",
    "        '''\n",
    "        \n",
    "        koef = dict(tsfresh.feature_extraction.feature_calculators.fft_coefficient(each_array,\n",
    "                                                               [{\"coeff\": 1, \"attr\": 'real'}]))\n",
    "#                                                                               {\"coeff\": 2, \"attr\": 'real'},\n",
    "#                                                                               {\"coeff\": 3, \"attr\": 'real'},\n",
    "#                                                                               {\"coeff\": 4, \"attr\": 'real'}]))\n",
    "        f[5] =koef['coeff_1__attr_\"real\"']\n",
    "        \n",
    "        ######\n",
    "        \n",
    "        '''Returns the spectral centroid (mean), variance, skew, and kurtosis of \n",
    "        the absolute fourier transform spectrum.'''\n",
    "        koef2 = dict(tsfresh.feature_extraction.feature_calculators.fft_aggregated(each_array,\n",
    "                                                               [{\"aggtype\": 'centroid'},\n",
    "                                                                              {\"aggtype\": 'variance'},\n",
    "                                                                              {\"aggtype\": 'skew'},\n",
    "                                                                              {\"aggtype\": 'kurtosis'}]))\n",
    "        #print(koef2)\n",
    "        f[6] =koef2['aggtype_\"centroid\"']\n",
    "        f[7] =koef2['aggtype_\"variance\"']\n",
    "        f[8] =koef2['aggtype_\"skew\"']\n",
    "        f[9] =koef2['aggtype_\"kurtosis\"']\n",
    "        ######\n",
    "        #spectral entropy\n",
    "        f[10] = spectral_entropy(each_array)\n",
    "        ######\n",
    "        #First bins the values of x into max_bins equidistant bins\n",
    "        f[11] = tsfresh.feature_extraction.feature_calculators.binned_entropy(each_array, \n",
    "                                                              max_bins=50000)\n",
    "        \n",
    "        ######\n",
    "        \n",
    "        f[12] = tsfresh.feature_extraction.feature_calculators.first_location_of_maximum(each_array) \n",
    "        f[13] = tsfresh.feature_extraction.feature_calculators.first_location_of_minimum(each_array) \n",
    "        f[14] = tsfresh.feature_extraction.feature_calculators.kurtosis(each_array)\n",
    "        f[15] = tsfresh.feature_extraction.feature_calculators.last_location_of_maximum(each_array)\n",
    "        f[16] = tsfresh.feature_extraction.feature_calculators.last_location_of_minimum(each_array)\n",
    "        f[17] = tsfresh.feature_extraction.feature_calculators.longest_strike_above_mean(each_array)\n",
    "        f[18] =tsfresh.feature_extraction.feature_calculators.longest_strike_below_mean(each_array)\n",
    "        f[19] =tsfresh.feature_extraction.feature_calculators.maximum(each_array)\n",
    "        f[20] =tsfresh.feature_extraction.feature_calculators.mean(each_array)\n",
    "        f[21] =tsfresh.feature_extraction.feature_calculators.mean_abs_change(each_array)\n",
    "        f[22] =tsfresh.feature_extraction.feature_calculators.mean_second_derivative_central(each_array)\n",
    "        f[23] =tsfresh.feature_extraction.feature_calculators.median(each_array)\n",
    "        \n",
    "        \n",
    "        #Healthy\tPneumonia\tCOPD\tURTI\tBronchiectasis\n",
    "        if healthy == 'Healthy':\n",
    "            f[24] = 0\n",
    "        elif healthy == 'Pneumonia':\n",
    "            f[24] = 1\n",
    "        elif healthy == 'COPD':\n",
    "            f[24] = 2\n",
    "        elif healthy == 'URTI':\n",
    "            f[24] = 3\n",
    "        elif healthy == 'Bronchiectasis':\n",
    "            f[24] = 4\n",
    "        if i == 0:\n",
    "            print('quantity of feature_vector:', len(f))\n",
    "            print(f)\n",
    "            i+=1\n",
    "        \n",
    "        array_feature.append(f)\n",
    "        \n",
    "                 \n",
    "    return array_feature\n",
    "        \n",
    "        \n",
    "         \n",
    "        "
   ]
  },
  {
   "cell_type": "code",
   "execution_count": 27,
   "metadata": {},
   "outputs": [],
   "source": [
    "array_healthy = healthy()"
   ]
  },
  {
   "cell_type": "code",
   "execution_count": 28,
   "metadata": {},
   "outputs": [],
   "source": [
    "array_COPD =COPD()"
   ]
  },
  {
   "cell_type": "code",
   "execution_count": 29,
   "metadata": {},
   "outputs": [],
   "source": [
    "array_URTI =URTI()"
   ]
  },
  {
   "cell_type": "code",
   "execution_count": 30,
   "metadata": {},
   "outputs": [],
   "source": [
    "array_Bronchiectasis =Bronchiectasis()"
   ]
  },
  {
   "cell_type": "code",
   "execution_count": 31,
   "metadata": {},
   "outputs": [],
   "source": [
    "array_Pneumonia =Pneumonia()"
   ]
  },
  {
   "cell_type": "markdown",
   "metadata": {},
   "source": [
    "_______"
   ]
  },
  {
   "cell_type": "code",
   "execution_count": 32,
   "metadata": {},
   "outputs": [],
   "source": [
    "array_healthy_filt = rolling_window(array_healthy, 500)[500:]"
   ]
  },
  {
   "cell_type": "code",
   "execution_count": 33,
   "metadata": {},
   "outputs": [],
   "source": [
    "array_COPD_filt = rolling_window(array_COPD, 1000)[1000:]"
   ]
  },
  {
   "cell_type": "code",
   "execution_count": 34,
   "metadata": {},
   "outputs": [],
   "source": [
    "array_URTI_filt = rolling_window(array_URTI, 500)[500:]"
   ]
  },
  {
   "cell_type": "code",
   "execution_count": 38,
   "metadata": {},
   "outputs": [],
   "source": [
    "array_Bronchiectasis_filt = rolling_window(array_Bronchiectasis, 250)[250:]"
   ]
  },
  {
   "cell_type": "code",
   "execution_count": 39,
   "metadata": {},
   "outputs": [],
   "source": [
    "array_Pneumonia_filt = rolling_window(array_Pneumonia, 700)[700:]"
   ]
  },
  {
   "cell_type": "markdown",
   "metadata": {},
   "source": [
    "_______"
   ]
  },
  {
   "cell_type": "code",
   "execution_count": 25,
   "metadata": {},
   "outputs": [
    {
     "data": {
      "image/png": "[encoded data removed]",
      "text/plain": [
       "<Figure size 720x576 with 1 Axes>"
      ]
     },
     "metadata": {
      "needs_background": "light"
     },
     "output_type": "display_data"
    }
   ],
   "source": [
    "#Audio will be automatically resampled to the given rate (default sr=22050).\n",
    "plt.figure(figsize=(10, 8))\n",
    "plt.plot(array_healthy, label = 'real signal', c = 'b')\n",
    "plt.plot(array_healthy_filt, label = 'filtered signal', c = 'r')\n",
    "plt.xlabel('Points')\n",
    "plt.ylabel('Amplitude')\n",
    "plt.title('Audio Time Series (Healthy)')\n",
    "plt.grid(True)\n",
    "plt.legend()\n",
    "plt.savefig('img_healthy'+ '.jpg', format = 'jpg', bbox_inches = 'tight')\n",
    "plt.show()\n"
   ]
  },
  {
   "cell_type": "code",
   "execution_count": 40,
   "metadata": {},
   "outputs": [
    {
     "data": {
      "image/png": "[encoded data removed]",
      "text/plain": [
       "<Figure size 432x288 with 4 Axes>"
      ]
     },
     "metadata": {
      "needs_background": "light"
     },
     "output_type": "display_data"
    }
   ],
   "source": [
    "plt.subplot(221)\n",
    "plt.plot(array_Pneumonia, label = 'real signal', c = 'b')\n",
    "plt.plot(array_Pneumonia_filt, label = 'filtered signal', c = 'r')\n",
    "plt.xlabel('Points')\n",
    "plt.ylabel('Amplitude')\n",
    "plt.title('Audio Time Series (Pneumonia)')\n",
    "plt.grid()\n",
    "\n",
    "\n",
    "plt.subplot(222)\n",
    "plt.plot(array_COPD, label = 'real signal', c = 'b')\n",
    "plt.plot(array_COPD_filt, label = 'filtered signal', c = 'r')\n",
    "plt.xlabel('Points')\n",
    "plt.ylabel('Amplitude')\n",
    "plt.title('Audio Time Series (COPD)')\n",
    "plt.grid()\n",
    "\n",
    "\n",
    "plt.subplot(223)\n",
    "plt.plot(array_URTI, label = 'real signal', c = 'b')\n",
    "plt.plot(array_URTI_filt, label = 'filtered signal', c = 'r')\n",
    "plt.xlabel('Points')\n",
    "plt.ylabel('Amplitude')\n",
    "plt.title('Audio Time Series (URTI)')\n",
    "plt.grid()\n",
    "\n",
    "\n",
    "\n",
    "plt.subplot(224)\n",
    "plt.plot(array_Bronchiectasis, label = 'real signal', c = 'b')\n",
    "plt.plot(array_Bronchiectasis_filt, label = 'filtered signal', c = 'r')\n",
    "plt.xlabel('Points')\n",
    "plt.ylabel('Amplitude')\n",
    "plt.title('Audio Time Series (Bronchiectasis)')\n",
    "plt.grid()\n",
    "\n",
    "# Adjust the subplot layout, because the logit one may take more space\n",
    "# than usual, due to y-tick labels like \"1 - 10^{-3}\"\n",
    "plt.subplots_adjust(top=2.92, bottom=1.08, left=0.10, right=2.95, hspace=0.35,\n",
    "                    wspace=0.15)\n",
    "\n",
    "#plt.grid()\n",
    "plt.savefig('img_unhealthy'+ '.jpg', format = 'jpg', bbox_inches = 'tight')\n",
    "plt.show()\n",
    "\n"
   ]
  },
  {
   "cell_type": "markdown",
   "metadata": {},
   "source": [
    "____"
   ]
  },
  {
   "cell_type": "code",
   "execution_count": 48,
   "metadata": {},
   "outputs": [],
   "source": [
    "len_of_data = pd.DataFrame(columns=['Full/subsequence','Healthy', 'Pneumonia', \n",
    "                                    'COPD', 'URTI', \n",
    "                                    'Bronchiectasis'])"
   ]
  },
  {
   "cell_type": "code",
   "execution_count": 49,
   "metadata": {},
   "outputs": [],
   "source": [
    "len_of_data.loc[len(len_of_data)] = ['full', len(array_healthy_filt), len(array_Pneumonia_filt),\n",
    "                                    len(array_COPD_filt), len(array_URTI_filt),\n",
    "                                    len(array_Bronchiectasis_filt)]"
   ]
  },
  {
   "cell_type": "code",
   "execution_count": 45,
   "metadata": {},
   "outputs": [
    {
     "data": {
      "text/html": [
       "<div>\n",
       "<style scoped>\n",
       "    .dataframe tbody tr th:only-of-type {\n",
       "        vertical-align: middle;\n",
       "    }\n",
       "\n",
       "    .dataframe tbody tr th {\n",
       "        vertical-align: top;\n",
       "    }\n",
       "\n",
       "    .dataframe thead th {\n",
       "        text-align: right;\n",
       "    }\n",
       "</style>\n",
       "<table border=\"1\" class=\"dataframe\">\n",
       "  <thead>\n",
       "    <tr style=\"text-align: right;\">\n",
       "      <th></th>\n",
       "      <th>Full/subsequence</th>\n",
       "      <th>Healthy</th>\n",
       "      <th>Pneumonia</th>\n",
       "      <th>COPD</th>\n",
       "      <th>URTI</th>\n",
       "      <th>Bronchiectasis</th>\n",
       "    </tr>\n",
       "  </thead>\n",
       "  <tbody>\n",
       "    <tr>\n",
       "      <th>0</th>\n",
       "      <td>full</td>\n",
       "      <td>14983358</td>\n",
       "      <td>13670300</td>\n",
       "      <td>18975678</td>\n",
       "      <td>7047783</td>\n",
       "      <td>11906764</td>\n",
       "    </tr>\n",
       "  </tbody>\n",
       "</table>\n",
       "</div>"
      ],
      "text/plain": [
       "  Full/subsequence   Healthy Pneumonia      COPD     URTI Bronchiectasis\n",
       "0             full  14983358  13670300  18975678  7047783       11906764"
      ]
     },
     "execution_count": 45,
     "metadata": {},
     "output_type": "execute_result"
    }
   ],
   "source": [
    "len_of_data"
   ]
  },
  {
   "cell_type": "code",
   "execution_count": 46,
   "metadata": {},
   "outputs": [],
   "source": [
    "array_healthy_filt_split = split(array_healthy_filt, size = 10000)\n",
    "array_Pneumonia_filt_split = split(array_Pneumonia_filt, size = 10000)\n",
    "array_COPD_filt_split = split(array_COPD_filt, size = 10000)\n",
    "array_URTI_filt_split = split(array_URTI_filt, size = 10000)\n",
    "array_Bronchiectasis_filt_split = split(array_Bronchiectasis_filt, size = 10000)"
   ]
  },
  {
   "cell_type": "code",
   "execution_count": 50,
   "metadata": {},
   "outputs": [],
   "source": [
    "len_of_data.loc[len(len_of_data)] = ['sub(10000)', len(array_healthy_filt_split), len(array_Pneumonia_filt_split),\n",
    "                                    len(array_COPD_filt_split), len(array_URTI_filt_split),\n",
    "                                    len(array_Bronchiectasis_filt_split)]"
   ]
  },
  {
   "cell_type": "code",
   "execution_count": 51,
   "metadata": {},
   "outputs": [
    {
     "data": {
      "text/html": [
       "<div>\n",
       "<style scoped>\n",
       "    .dataframe tbody tr th:only-of-type {\n",
       "        vertical-align: middle;\n",
       "    }\n",
       "\n",
       "    .dataframe tbody tr th {\n",
       "        vertical-align: top;\n",
       "    }\n",
       "\n",
       "    .dataframe thead th {\n",
       "        text-align: right;\n",
       "    }\n",
       "</style>\n",
       "<table border=\"1\" class=\"dataframe\">\n",
       "  <thead>\n",
       "    <tr style=\"text-align: right;\">\n",
       "      <th></th>\n",
       "      <th>Full/subsequence</th>\n",
       "      <th>Healthy</th>\n",
       "      <th>Pneumonia</th>\n",
       "      <th>COPD</th>\n",
       "      <th>URTI</th>\n",
       "      <th>Bronchiectasis</th>\n",
       "    </tr>\n",
       "  </thead>\n",
       "  <tbody>\n",
       "    <tr>\n",
       "      <th>0</th>\n",
       "      <td>full</td>\n",
       "      <td>14983358</td>\n",
       "      <td>13670300</td>\n",
       "      <td>18975678</td>\n",
       "      <td>7047783</td>\n",
       "      <td>11906764</td>\n",
       "    </tr>\n",
       "    <tr>\n",
       "      <th>1</th>\n",
       "      <td>sub(10000)</td>\n",
       "      <td>2996</td>\n",
       "      <td>2734</td>\n",
       "      <td>3795</td>\n",
       "      <td>1409</td>\n",
       "      <td>2381</td>\n",
       "    </tr>\n",
       "  </tbody>\n",
       "</table>\n",
       "</div>"
      ],
      "text/plain": [
       "  Full/subsequence   Healthy Pneumonia      COPD     URTI Bronchiectasis\n",
       "0             full  14983358  13670300  18975678  7047783       11906764\n",
       "1       sub(10000)      2996      2734      3795     1409           2381"
      ]
     },
     "execution_count": 51,
     "metadata": {},
     "output_type": "execute_result"
    }
   ],
   "source": [
    "len_of_data"
   ]
  },
  {
   "cell_type": "markdown",
   "metadata": {},
   "source": [
    "______"
   ]
  },
  {
   "cell_type": "code",
   "execution_count": null,
   "metadata": {},
   "outputs": [],
   "source": []
  },
  {
   "cell_type": "code",
   "execution_count": null,
   "metadata": {},
   "outputs": [],
   "source": [
    "#Healthy\tPneumonia\tCOPD\tURTI\tBronchiectasis"
   ]
  },
  {
   "cell_type": "code",
   "execution_count": 53,
   "metadata": {},
   "outputs": [
    {
     "name": "stdout",
     "output_type": "stream",
     "text": [
      "quantity of feature_vector: 25\n",
      "[ 1.31835938e-02 -3.19390454e+02  1.55500107e+01  2.20715332e+01\n",
      "  5.73195831e+00 -5.69187543e+01  1.68529724e+02  4.14022713e+05\n",
      "  4.97694873e+00  2.90672150e+01  2.54994962e+00  9.01418733e+00\n",
      "  6.43700000e-01  4.82000000e-02 -6.12190513e-01  6.43800000e-01\n",
      "  4.83000000e-02  1.59300000e+03  1.66400000e+03  4.34932532e-02\n",
      " -6.18890121e-03  5.18812980e-05  7.63012628e-09 -1.31900852e-02\n",
      "  0.00000000e+00]\n"
     ]
    },
    {
     "name": "stderr",
     "output_type": "stream",
     "text": [
      "/anaconda3/lib/python3.6/site-packages/ipykernel_launcher.py:80: RuntimeWarning: divide by zero encountered in log2\n",
      "/anaconda3/lib/python3.6/site-packages/ipykernel_launcher.py:80: RuntimeWarning: invalid value encountered in multiply\n"
     ]
    }
   ],
   "source": [
    "array_feature_healthy = feature_extraction(array_healthy_filt_split, 'Healthy')"
   ]
  },
  {
   "cell_type": "code",
   "execution_count": 54,
   "metadata": {},
   "outputs": [
    {
     "name": "stdout",
     "output_type": "stream",
     "text": [
      "quantity of feature_vector: 25\n",
      "[ 2.00195312e-02 -2.97282568e+02  2.18836954e+01  2.79931641e+01\n",
      "  4.05815201e+00 -1.00874159e+01  4.26483411e+02  9.59511077e+05\n",
      "  2.83952887e+00  1.06545107e+01  2.92632848e+00  9.01757911e+00\n",
      "  5.82000000e-01  3.67500000e-01 -6.10351852e-01  5.82100000e-01\n",
      "  3.67600000e-01  1.11100000e+03  1.78900000e+03  4.80878917e-02\n",
      " -5.14333257e-05  5.91230652e-05  3.38211940e-09 -3.20618837e-03\n",
      "  1.00000000e+00]\n"
     ]
    },
    {
     "name": "stderr",
     "output_type": "stream",
     "text": [
      "/anaconda3/lib/python3.6/site-packages/ipykernel_launcher.py:80: RuntimeWarning: divide by zero encountered in log2\n",
      "/anaconda3/lib/python3.6/site-packages/ipykernel_launcher.py:80: RuntimeWarning: invalid value encountered in multiply\n"
     ]
    }
   ],
   "source": [
    "array_feature_Pneumonia = feature_extraction(array_Pneumonia_filt_split,'Pneumonia')"
   ]
  },
  {
   "cell_type": "code",
   "execution_count": 55,
   "metadata": {},
   "outputs": [
    {
     "name": "stdout",
     "output_type": "stream",
     "text": [
      "quantity of feature_vector: 25\n",
      "[ 1.66015625e-02 -2.67552515e+02  1.65206826e+01  2.96081543e+01\n",
      "  9.09326944e+00  1.29387458e+01  4.47317639e+02  9.98616683e+05\n",
      "  2.74947312e+00  1.01118255e+01  3.03066701e+00  9.03091681e+00\n",
      "  2.17100000e-01  1.05200000e-01 -4.79057913e-01  2.17200000e-01\n",
      "  1.05300000e-01  1.20900000e+03  1.24100000e+03  6.99589764e-02\n",
      "  2.09670248e-02  7.15319820e-05 -3.14814557e-09  1.90240468e-02\n",
      "  2.00000000e+00]\n"
     ]
    }
   ],
   "source": [
    "array_feature_COPD = feature_extraction(array_COPD_filt_split,'COPD')"
   ]
  },
  {
   "cell_type": "code",
   "execution_count": 56,
   "metadata": {},
   "outputs": [
    {
     "name": "stdout",
     "output_type": "stream",
     "text": [
      "quantity of feature_vector: 25\n",
      "[ 1.70898438e-02 -2.72791357e+02  8.47817349e+01  7.75195312e+01\n",
      "  2.59480619e+00 -4.13509801e+01  2.76071804e+02  6.34479667e+05\n",
      "  3.79737168e+00  1.76804741e+01  3.64880714e+00  8.99890605e+00\n",
      "  5.60200000e-01  7.08600000e-01 -8.33969714e-01  5.60300000e-01\n",
      "  7.08700000e-01  2.66000000e+03  1.43900000e+03  2.12572137e-02\n",
      " -2.35373913e-03  7.90060007e-05 -3.11834188e-09  5.53505323e-04\n",
      "  3.00000000e+00]\n"
     ]
    }
   ],
   "source": [
    "array_feature_URTI = feature_extraction(array_URTI_filt_split,'URTI')"
   ]
  },
  {
   "cell_type": "code",
   "execution_count": 57,
   "metadata": {},
   "outputs": [
    {
     "name": "stdout",
     "output_type": "stream",
     "text": [
      "quantity of feature_vector: 25\n",
      "[ 8.34960938e-02 -3.80936157e+02  1.52691240e+02  2.22330322e+02\n",
      "  1.13630826e-01  1.64773296e+00  1.71288001e+02  3.71965774e+05\n",
      "  5.23486173e+00  3.22187660e+01  4.33622465e+00  8.62562414e+00\n",
      "  2.62200000e-01  2.87100000e-01  1.13821226e+01  2.62300000e-01\n",
      "  2.87200000e-01  7.81000000e+02  4.94000000e+02  1.93556708e-02\n",
      "  1.32186590e-04  2.27741801e-05 -3.02681870e-09  1.40824198e-04\n",
      "  4.00000000e+00]\n"
     ]
    }
   ],
   "source": [
    "array_feature_Bronchiectasis = feature_extraction(array_Bronchiectasis_filt_split,'Bronchiectasis')"
   ]
  },
  {
   "cell_type": "markdown",
   "metadata": {},
   "source": [
    "_______"
   ]
  },
  {
   "cell_type": "code",
   "execution_count": 58,
   "metadata": {},
   "outputs": [],
   "source": [
    "df = pd.DataFrame(np.asarray(array_feature_healthy).reshape(-1,25))"
   ]
  },
  {
   "cell_type": "code",
   "execution_count": 59,
   "metadata": {},
   "outputs": [],
   "source": [
    "df2 = pd.DataFrame(np.asarray(array_feature_Pneumonia).reshape(-1,25))#, ignore_index=True )"
   ]
  },
  {
   "cell_type": "code",
   "execution_count": 60,
   "metadata": {},
   "outputs": [],
   "source": [
    "df3 = pd.DataFrame(np.asarray(array_feature_COPD).reshape(-1,25))"
   ]
  },
  {
   "cell_type": "code",
   "execution_count": 61,
   "metadata": {},
   "outputs": [],
   "source": [
    "df4 = pd.DataFrame(np.asarray(array_feature_URTI).reshape(-1,25))"
   ]
  },
  {
   "cell_type": "code",
   "execution_count": 62,
   "metadata": {},
   "outputs": [],
   "source": [
    "df5 = pd.DataFrame(np.asarray(array_feature_Bronchiectasis).reshape(-1,25))"
   ]
  },
  {
   "cell_type": "markdown",
   "metadata": {},
   "source": [
    "______"
   ]
  },
  {
   "cell_type": "code",
   "execution_count": 63,
   "metadata": {},
   "outputs": [],
   "source": [
    "df = df.append(df2, ignore_index=True)\n",
    "df = df.append(df3, ignore_index=True)\n",
    "df = df.append(df4, ignore_index=True)\n",
    "df = df.append(df5, ignore_index=True)\n",
    "df = df.dropna()\n",
    "from sklearn.utils import shuffle\n",
    "data = shuffle(df)"
   ]
  },
  {
   "cell_type": "code",
   "execution_count": 64,
   "metadata": {},
   "outputs": [
    {
     "data": {
      "text/html": [
       "<div>\n",
       "<style scoped>\n",
       "    .dataframe tbody tr th:only-of-type {\n",
       "        vertical-align: middle;\n",
       "    }\n",
       "\n",
       "    .dataframe tbody tr th {\n",
       "        vertical-align: top;\n",
       "    }\n",
       "\n",
       "    .dataframe thead th {\n",
       "        text-align: right;\n",
       "    }\n",
       "</style>\n",
       "<table border=\"1\" class=\"dataframe\">\n",
       "  <thead>\n",
       "    <tr style=\"text-align: right;\">\n",
       "      <th></th>\n",
       "      <th>0</th>\n",
       "      <th>1</th>\n",
       "      <th>2</th>\n",
       "      <th>3</th>\n",
       "      <th>4</th>\n",
       "      <th>5</th>\n",
       "      <th>6</th>\n",
       "      <th>7</th>\n",
       "      <th>8</th>\n",
       "      <th>9</th>\n",
       "      <th>...</th>\n",
       "      <th>15</th>\n",
       "      <th>16</th>\n",
       "      <th>17</th>\n",
       "      <th>18</th>\n",
       "      <th>19</th>\n",
       "      <th>20</th>\n",
       "      <th>21</th>\n",
       "      <th>22</th>\n",
       "      <th>23</th>\n",
       "      <th>24</th>\n",
       "    </tr>\n",
       "  </thead>\n",
       "  <tbody>\n",
       "    <tr>\n",
       "      <th>984</th>\n",
       "      <td>0.014648</td>\n",
       "      <td>-260.654224</td>\n",
       "      <td>22.353745</td>\n",
       "      <td>27.993164</td>\n",
       "      <td>13.679393</td>\n",
       "      <td>26.188465</td>\n",
       "      <td>76.607397</td>\n",
       "      <td>1.818690e+05</td>\n",
       "      <td>7.871496</td>\n",
       "      <td>70.332208</td>\n",
       "      <td>...</td>\n",
       "      <td>0.1267</td>\n",
       "      <td>0.0224</td>\n",
       "      <td>1831.0</td>\n",
       "      <td>2160.0</td>\n",
       "      <td>0.088863</td>\n",
       "      <td>-0.004382</td>\n",
       "      <td>0.000076</td>\n",
       "      <td>1.741709e-08</td>\n",
       "      <td>-0.008077</td>\n",
       "      <td>0.0</td>\n",
       "    </tr>\n",
       "    <tr>\n",
       "      <th>10167</th>\n",
       "      <td>0.018555</td>\n",
       "      <td>-204.925781</td>\n",
       "      <td>18.527213</td>\n",
       "      <td>26.378174</td>\n",
       "      <td>49.386549</td>\n",
       "      <td>179.605701</td>\n",
       "      <td>346.538948</td>\n",
       "      <td>8.052698e+05</td>\n",
       "      <td>3.242149</td>\n",
       "      <td>13.321998</td>\n",
       "      <td>...</td>\n",
       "      <td>0.0001</td>\n",
       "      <td>0.3245</td>\n",
       "      <td>2065.0</td>\n",
       "      <td>3145.0</td>\n",
       "      <td>0.128734</td>\n",
       "      <td>-0.016640</td>\n",
       "      <td>0.000149</td>\n",
       "      <td>-2.907036e-10</td>\n",
       "      <td>-0.014942</td>\n",
       "      <td>3.0</td>\n",
       "    </tr>\n",
       "    <tr>\n",
       "      <th>10509</th>\n",
       "      <td>0.014648</td>\n",
       "      <td>-306.094043</td>\n",
       "      <td>16.084441</td>\n",
       "      <td>25.301514</td>\n",
       "      <td>5.446571</td>\n",
       "      <td>-0.569604</td>\n",
       "      <td>131.320527</td>\n",
       "      <td>3.224534e+05</td>\n",
       "      <td>5.750812</td>\n",
       "      <td>38.263147</td>\n",
       "      <td>...</td>\n",
       "      <td>0.9485</td>\n",
       "      <td>0.0883</td>\n",
       "      <td>1917.0</td>\n",
       "      <td>2024.0</td>\n",
       "      <td>0.049983</td>\n",
       "      <td>0.001131</td>\n",
       "      <td>0.000055</td>\n",
       "      <td>-8.848950e-09</td>\n",
       "      <td>-0.000443</td>\n",
       "      <td>3.0</td>\n",
       "    </tr>\n",
       "    <tr>\n",
       "      <th>6754</th>\n",
       "      <td>0.003906</td>\n",
       "      <td>-115.420691</td>\n",
       "      <td>10.046580</td>\n",
       "      <td>15.073242</td>\n",
       "      <td>567.651452</td>\n",
       "      <td>-1365.751911</td>\n",
       "      <td>36.422882</td>\n",
       "      <td>8.779715e+04</td>\n",
       "      <td>11.549469</td>\n",
       "      <td>149.538192</td>\n",
       "      <td>...</td>\n",
       "      <td>0.4402</td>\n",
       "      <td>0.9022</td>\n",
       "      <td>4064.0</td>\n",
       "      <td>2545.0</td>\n",
       "      <td>0.250248</td>\n",
       "      <td>-0.103138</td>\n",
       "      <td>0.000241</td>\n",
       "      <td>2.095734e-08</td>\n",
       "      <td>-0.157924</td>\n",
       "      <td>2.0</td>\n",
       "    </tr>\n",
       "    <tr>\n",
       "      <th>10904</th>\n",
       "      <td>0.017090</td>\n",
       "      <td>-236.915015</td>\n",
       "      <td>15.830223</td>\n",
       "      <td>22.071533</td>\n",
       "      <td>62.693713</td>\n",
       "      <td>-75.600648</td>\n",
       "      <td>507.277562</td>\n",
       "      <td>1.104494e+06</td>\n",
       "      <td>2.524196</td>\n",
       "      <td>8.842367</td>\n",
       "      <td>...</td>\n",
       "      <td>1.0000</td>\n",
       "      <td>0.3149</td>\n",
       "      <td>3235.0</td>\n",
       "      <td>1440.0</td>\n",
       "      <td>0.108193</td>\n",
       "      <td>-0.016092</td>\n",
       "      <td>0.000147</td>\n",
       "      <td>1.846119e-08</td>\n",
       "      <td>0.005605</td>\n",
       "      <td>3.0</td>\n",
       "    </tr>\n",
       "  </tbody>\n",
       "</table>\n",
       "<p>5 rows × 25 columns</p>\n",
       "</div>"
      ],
      "text/plain": [
       "             0           1          2          3           4            5   \\\n",
       "984    0.014648 -260.654224  22.353745  27.993164   13.679393    26.188465   \n",
       "10167  0.018555 -204.925781  18.527213  26.378174   49.386549   179.605701   \n",
       "10509  0.014648 -306.094043  16.084441  25.301514    5.446571    -0.569604   \n",
       "6754   0.003906 -115.420691  10.046580  15.073242  567.651452 -1365.751911   \n",
       "10904  0.017090 -236.915015  15.830223  22.071533   62.693713   -75.600648   \n",
       "\n",
       "               6             7          8           9   ...      15      16  \\\n",
       "984     76.607397  1.818690e+05   7.871496   70.332208  ...  0.1267  0.0224   \n",
       "10167  346.538948  8.052698e+05   3.242149   13.321998  ...  0.0001  0.3245   \n",
       "10509  131.320527  3.224534e+05   5.750812   38.263147  ...  0.9485  0.0883   \n",
       "6754    36.422882  8.779715e+04  11.549469  149.538192  ...  0.4402  0.9022   \n",
       "10904  507.277562  1.104494e+06   2.524196    8.842367  ...  1.0000  0.3149   \n",
       "\n",
       "           17      18        19        20        21            22        23  \\\n",
       "984    1831.0  2160.0  0.088863 -0.004382  0.000076  1.741709e-08 -0.008077   \n",
       "10167  2065.0  3145.0  0.128734 -0.016640  0.000149 -2.907036e-10 -0.014942   \n",
       "10509  1917.0  2024.0  0.049983  0.001131  0.000055 -8.848950e-09 -0.000443   \n",
       "6754   4064.0  2545.0  0.250248 -0.103138  0.000241  2.095734e-08 -0.157924   \n",
       "10904  3235.0  1440.0  0.108193 -0.016092  0.000147  1.846119e-08  0.005605   \n",
       "\n",
       "        24  \n",
       "984    0.0  \n",
       "10167  3.0  \n",
       "10509  3.0  \n",
       "6754   2.0  \n",
       "10904  3.0  \n",
       "\n",
       "[5 rows x 25 columns]"
      ]
     },
     "execution_count": 64,
     "metadata": {},
     "output_type": "execute_result"
    }
   ],
   "source": [
    "data.head()"
   ]
  },
  {
   "cell_type": "markdown",
   "metadata": {},
   "source": [
    "____"
   ]
  },
  {
   "cell_type": "markdown",
   "metadata": {},
   "source": [
    "# Machine Learning"
   ]
  },
  {
   "cell_type": "markdown",
   "metadata": {},
   "source": [
    "____"
   ]
  },
  {
   "cell_type": "code",
   "execution_count": 148,
   "metadata": {},
   "outputs": [],
   "source": [
    "target = data[24]\n",
    "features = data.drop([24], axis=1)"
   ]
  },
  {
   "cell_type": "code",
   "execution_count": 149,
   "metadata": {},
   "outputs": [
    {
     "data": {
      "text/plain": [
       "984      0.0\n",
       "10167    3.0\n",
       "10509    3.0\n",
       "6754     2.0\n",
       "10904    3.0\n",
       "        ... \n",
       "8343     2.0\n",
       "8515     2.0\n",
       "12643    4.0\n",
       "1832     0.0\n",
       "6702     2.0\n",
       "Name: 24, Length: 13313, dtype: float64"
      ]
     },
     "execution_count": 149,
     "metadata": {},
     "output_type": "execute_result"
    }
   ],
   "source": [
    "target"
   ]
  },
  {
   "cell_type": "code",
   "execution_count": 150,
   "metadata": {},
   "outputs": [
    {
     "data": {
      "text/html": [
       "<div>\n",
       "<style scoped>\n",
       "    .dataframe tbody tr th:only-of-type {\n",
       "        vertical-align: middle;\n",
       "    }\n",
       "\n",
       "    .dataframe tbody tr th {\n",
       "        vertical-align: top;\n",
       "    }\n",
       "\n",
       "    .dataframe thead th {\n",
       "        text-align: right;\n",
       "    }\n",
       "</style>\n",
       "<table border=\"1\" class=\"dataframe\">\n",
       "  <thead>\n",
       "    <tr style=\"text-align: right;\">\n",
       "      <th></th>\n",
       "      <th>0</th>\n",
       "      <th>1</th>\n",
       "      <th>2</th>\n",
       "      <th>3</th>\n",
       "      <th>4</th>\n",
       "      <th>5</th>\n",
       "      <th>6</th>\n",
       "      <th>7</th>\n",
       "      <th>8</th>\n",
       "      <th>9</th>\n",
       "      <th>...</th>\n",
       "      <th>14</th>\n",
       "      <th>15</th>\n",
       "      <th>16</th>\n",
       "      <th>17</th>\n",
       "      <th>18</th>\n",
       "      <th>19</th>\n",
       "      <th>20</th>\n",
       "      <th>21</th>\n",
       "      <th>22</th>\n",
       "      <th>23</th>\n",
       "    </tr>\n",
       "  </thead>\n",
       "  <tbody>\n",
       "    <tr>\n",
       "      <th>984</th>\n",
       "      <td>0.014648</td>\n",
       "      <td>-260.654224</td>\n",
       "      <td>22.353745</td>\n",
       "      <td>27.993164</td>\n",
       "      <td>13.679393</td>\n",
       "      <td>26.188465</td>\n",
       "      <td>76.607397</td>\n",
       "      <td>1.818690e+05</td>\n",
       "      <td>7.871496</td>\n",
       "      <td>70.332208</td>\n",
       "      <td>...</td>\n",
       "      <td>-0.222717</td>\n",
       "      <td>0.1267</td>\n",
       "      <td>0.0224</td>\n",
       "      <td>1831.0</td>\n",
       "      <td>2160.0</td>\n",
       "      <td>0.088863</td>\n",
       "      <td>-0.004382</td>\n",
       "      <td>0.000076</td>\n",
       "      <td>1.741709e-08</td>\n",
       "      <td>-0.008077</td>\n",
       "    </tr>\n",
       "    <tr>\n",
       "      <th>10167</th>\n",
       "      <td>0.018555</td>\n",
       "      <td>-204.925781</td>\n",
       "      <td>18.527213</td>\n",
       "      <td>26.378174</td>\n",
       "      <td>49.386549</td>\n",
       "      <td>179.605701</td>\n",
       "      <td>346.538948</td>\n",
       "      <td>8.052698e+05</td>\n",
       "      <td>3.242149</td>\n",
       "      <td>13.321998</td>\n",
       "      <td>...</td>\n",
       "      <td>-0.886065</td>\n",
       "      <td>0.0001</td>\n",
       "      <td>0.3245</td>\n",
       "      <td>2065.0</td>\n",
       "      <td>3145.0</td>\n",
       "      <td>0.128734</td>\n",
       "      <td>-0.016640</td>\n",
       "      <td>0.000149</td>\n",
       "      <td>-2.907036e-10</td>\n",
       "      <td>-0.014942</td>\n",
       "    </tr>\n",
       "    <tr>\n",
       "      <th>10509</th>\n",
       "      <td>0.014648</td>\n",
       "      <td>-306.094043</td>\n",
       "      <td>16.084441</td>\n",
       "      <td>25.301514</td>\n",
       "      <td>5.446571</td>\n",
       "      <td>-0.569604</td>\n",
       "      <td>131.320527</td>\n",
       "      <td>3.224534e+05</td>\n",
       "      <td>5.750812</td>\n",
       "      <td>38.263147</td>\n",
       "      <td>...</td>\n",
       "      <td>-0.638562</td>\n",
       "      <td>0.9485</td>\n",
       "      <td>0.0883</td>\n",
       "      <td>1917.0</td>\n",
       "      <td>2024.0</td>\n",
       "      <td>0.049983</td>\n",
       "      <td>0.001131</td>\n",
       "      <td>0.000055</td>\n",
       "      <td>-8.848950e-09</td>\n",
       "      <td>-0.000443</td>\n",
       "    </tr>\n",
       "    <tr>\n",
       "      <th>6754</th>\n",
       "      <td>0.003906</td>\n",
       "      <td>-115.420691</td>\n",
       "      <td>10.046580</td>\n",
       "      <td>15.073242</td>\n",
       "      <td>567.651452</td>\n",
       "      <td>-1365.751911</td>\n",
       "      <td>36.422882</td>\n",
       "      <td>8.779715e+04</td>\n",
       "      <td>11.549469</td>\n",
       "      <td>149.538192</td>\n",
       "      <td>...</td>\n",
       "      <td>-1.360067</td>\n",
       "      <td>0.4402</td>\n",
       "      <td>0.9022</td>\n",
       "      <td>4064.0</td>\n",
       "      <td>2545.0</td>\n",
       "      <td>0.250248</td>\n",
       "      <td>-0.103138</td>\n",
       "      <td>0.000241</td>\n",
       "      <td>2.095734e-08</td>\n",
       "      <td>-0.157924</td>\n",
       "    </tr>\n",
       "    <tr>\n",
       "      <th>10904</th>\n",
       "      <td>0.017090</td>\n",
       "      <td>-236.915015</td>\n",
       "      <td>15.830223</td>\n",
       "      <td>22.071533</td>\n",
       "      <td>62.693713</td>\n",
       "      <td>-75.600648</td>\n",
       "      <td>507.277562</td>\n",
       "      <td>1.104494e+06</td>\n",
       "      <td>2.524196</td>\n",
       "      <td>8.842367</td>\n",
       "      <td>...</td>\n",
       "      <td>-0.256303</td>\n",
       "      <td>1.0000</td>\n",
       "      <td>0.3149</td>\n",
       "      <td>3235.0</td>\n",
       "      <td>1440.0</td>\n",
       "      <td>0.108193</td>\n",
       "      <td>-0.016092</td>\n",
       "      <td>0.000147</td>\n",
       "      <td>1.846119e-08</td>\n",
       "      <td>0.005605</td>\n",
       "    </tr>\n",
       "  </tbody>\n",
       "</table>\n",
       "<p>5 rows × 24 columns</p>\n",
       "</div>"
      ],
      "text/plain": [
       "             0           1          2          3           4            5   \\\n",
       "984    0.014648 -260.654224  22.353745  27.993164   13.679393    26.188465   \n",
       "10167  0.018555 -204.925781  18.527213  26.378174   49.386549   179.605701   \n",
       "10509  0.014648 -306.094043  16.084441  25.301514    5.446571    -0.569604   \n",
       "6754   0.003906 -115.420691  10.046580  15.073242  567.651452 -1365.751911   \n",
       "10904  0.017090 -236.915015  15.830223  22.071533   62.693713   -75.600648   \n",
       "\n",
       "               6             7          8           9   ...        14      15  \\\n",
       "984     76.607397  1.818690e+05   7.871496   70.332208  ... -0.222717  0.1267   \n",
       "10167  346.538948  8.052698e+05   3.242149   13.321998  ... -0.886065  0.0001   \n",
       "10509  131.320527  3.224534e+05   5.750812   38.263147  ... -0.638562  0.9485   \n",
       "6754    36.422882  8.779715e+04  11.549469  149.538192  ... -1.360067  0.4402   \n",
       "10904  507.277562  1.104494e+06   2.524196    8.842367  ... -0.256303  1.0000   \n",
       "\n",
       "           16      17      18        19        20        21            22  \\\n",
       "984    0.0224  1831.0  2160.0  0.088863 -0.004382  0.000076  1.741709e-08   \n",
       "10167  0.3245  2065.0  3145.0  0.128734 -0.016640  0.000149 -2.907036e-10   \n",
       "10509  0.0883  1917.0  2024.0  0.049983  0.001131  0.000055 -8.848950e-09   \n",
       "6754   0.9022  4064.0  2545.0  0.250248 -0.103138  0.000241  2.095734e-08   \n",
       "10904  0.3149  3235.0  1440.0  0.108193 -0.016092  0.000147  1.846119e-08   \n",
       "\n",
       "             23  \n",
       "984   -0.008077  \n",
       "10167 -0.014942  \n",
       "10509 -0.000443  \n",
       "6754  -0.157924  \n",
       "10904  0.005605  \n",
       "\n",
       "[5 rows x 24 columns]"
      ]
     },
     "execution_count": 150,
     "metadata": {},
     "output_type": "execute_result"
    }
   ],
   "source": [
    "features.head()"
   ]
  },
  {
   "cell_type": "code",
   "execution_count": 151,
   "metadata": {},
   "outputs": [],
   "source": [
    "from sklearn.model_selection import train_test_split"
   ]
  },
  {
   "cell_type": "code",
   "execution_count": 152,
   "metadata": {},
   "outputs": [],
   "source": [
    "X_train, X_test, y_train, y_test = train_test_split(features, target, \n",
    "                                                    test_size=0.3, \n",
    "                                                    random_state=42,\n",
    "                                                   shuffle = True)"
   ]
  },
  {
   "cell_type": "markdown",
   "metadata": {},
   "source": [
    "______"
   ]
  },
  {
   "cell_type": "code",
   "execution_count": 153,
   "metadata": {},
   "outputs": [
    {
     "data": {
      "text/plain": [
       "Counter({0.0: 2995, 3.0: 1409, 2.0: 3795, 1.0: 2733, 4.0: 2381})"
      ]
     },
     "execution_count": 153,
     "metadata": {},
     "output_type": "execute_result"
    }
   ],
   "source": [
    "from collections import Counter\n",
    "\n",
    "Counter(target)"
   ]
  },
  {
   "cell_type": "code",
   "execution_count": 154,
   "metadata": {},
   "outputs": [],
   "source": [
    "from sklearn.utils import resample\n",
    "\n",
    "# concatenate our training data back together\n",
    "X = pd.concat([X_train, y_train], axis=1)"
   ]
  },
  {
   "cell_type": "code",
   "execution_count": 155,
   "metadata": {
    "scrolled": true
   },
   "outputs": [
    {
     "data": {
      "text/html": [
       "<div>\n",
       "<style scoped>\n",
       "    .dataframe tbody tr th:only-of-type {\n",
       "        vertical-align: middle;\n",
       "    }\n",
       "\n",
       "    .dataframe tbody tr th {\n",
       "        vertical-align: top;\n",
       "    }\n",
       "\n",
       "    .dataframe thead th {\n",
       "        text-align: right;\n",
       "    }\n",
       "</style>\n",
       "<table border=\"1\" class=\"dataframe\">\n",
       "  <thead>\n",
       "    <tr style=\"text-align: right;\">\n",
       "      <th></th>\n",
       "      <th>0</th>\n",
       "      <th>1</th>\n",
       "      <th>2</th>\n",
       "      <th>3</th>\n",
       "      <th>4</th>\n",
       "      <th>5</th>\n",
       "      <th>6</th>\n",
       "      <th>7</th>\n",
       "      <th>8</th>\n",
       "      <th>9</th>\n",
       "      <th>...</th>\n",
       "      <th>15</th>\n",
       "      <th>16</th>\n",
       "      <th>17</th>\n",
       "      <th>18</th>\n",
       "      <th>19</th>\n",
       "      <th>20</th>\n",
       "      <th>21</th>\n",
       "      <th>22</th>\n",
       "      <th>23</th>\n",
       "      <th>24</th>\n",
       "    </tr>\n",
       "  </thead>\n",
       "  <tbody>\n",
       "    <tr>\n",
       "      <th>5179</th>\n",
       "      <td>0.015137</td>\n",
       "      <td>-188.151270</td>\n",
       "      <td>12.797931</td>\n",
       "      <td>19.918213</td>\n",
       "      <td>125.586374</td>\n",
       "      <td>15.223934</td>\n",
       "      <td>137.210160</td>\n",
       "      <td>338717.784336</td>\n",
       "      <td>5.593713</td>\n",
       "      <td>36.282229</td>\n",
       "      <td>...</td>\n",
       "      <td>0.5055</td>\n",
       "      <td>0.4106</td>\n",
       "      <td>1813.0</td>\n",
       "      <td>1374.0</td>\n",
       "      <td>0.230968</td>\n",
       "      <td>0.002216</td>\n",
       "      <td>0.000265</td>\n",
       "      <td>-9.492134e-09</td>\n",
       "      <td>0.027188</td>\n",
       "      <td>1.0</td>\n",
       "    </tr>\n",
       "    <tr>\n",
       "      <th>5481</th>\n",
       "      <td>0.017578</td>\n",
       "      <td>-282.424414</td>\n",
       "      <td>22.521765</td>\n",
       "      <td>31.761475</td>\n",
       "      <td>8.855267</td>\n",
       "      <td>9.342965</td>\n",
       "      <td>283.859494</td>\n",
       "      <td>675030.592979</td>\n",
       "      <td>3.665399</td>\n",
       "      <td>16.534401</td>\n",
       "      <td>...</td>\n",
       "      <td>0.5346</td>\n",
       "      <td>0.4522</td>\n",
       "      <td>2612.0</td>\n",
       "      <td>1108.0</td>\n",
       "      <td>0.047575</td>\n",
       "      <td>-0.005271</td>\n",
       "      <td>0.000067</td>\n",
       "      <td>9.326994e-09</td>\n",
       "      <td>0.003897</td>\n",
       "      <td>1.0</td>\n",
       "    </tr>\n",
       "    <tr>\n",
       "      <th>8473</th>\n",
       "      <td>0.032715</td>\n",
       "      <td>-320.370264</td>\n",
       "      <td>31.079960</td>\n",
       "      <td>57.601318</td>\n",
       "      <td>1.509633</td>\n",
       "      <td>16.695665</td>\n",
       "      <td>364.169881</td>\n",
       "      <td>834154.391586</td>\n",
       "      <td>3.157619</td>\n",
       "      <td>12.732141</td>\n",
       "      <td>...</td>\n",
       "      <td>0.0675</td>\n",
       "      <td>0.7535</td>\n",
       "      <td>2040.0</td>\n",
       "      <td>1592.0</td>\n",
       "      <td>0.019909</td>\n",
       "      <td>-0.001962</td>\n",
       "      <td>0.000044</td>\n",
       "      <td>1.365965e-09</td>\n",
       "      <td>-0.000286</td>\n",
       "      <td>2.0</td>\n",
       "    </tr>\n",
       "    <tr>\n",
       "      <th>12750</th>\n",
       "      <td>0.025391</td>\n",
       "      <td>-201.892749</td>\n",
       "      <td>26.446148</td>\n",
       "      <td>39.836426</td>\n",
       "      <td>23.616188</td>\n",
       "      <td>52.493453</td>\n",
       "      <td>131.264587</td>\n",
       "      <td>314064.702067</td>\n",
       "      <td>5.834694</td>\n",
       "      <td>39.333405</td>\n",
       "      <td>...</td>\n",
       "      <td>0.8300</td>\n",
       "      <td>0.3234</td>\n",
       "      <td>1285.0</td>\n",
       "      <td>1366.0</td>\n",
       "      <td>0.108868</td>\n",
       "      <td>-0.006264</td>\n",
       "      <td>0.000186</td>\n",
       "      <td>-1.437855e-08</td>\n",
       "      <td>-0.003871</td>\n",
       "      <td>4.0</td>\n",
       "    </tr>\n",
       "    <tr>\n",
       "      <th>865</th>\n",
       "      <td>0.013672</td>\n",
       "      <td>-267.776855</td>\n",
       "      <td>19.121039</td>\n",
       "      <td>26.378174</td>\n",
       "      <td>14.361671</td>\n",
       "      <td>9.518071</td>\n",
       "      <td>241.581188</td>\n",
       "      <td>581683.519735</td>\n",
       "      <td>4.040766</td>\n",
       "      <td>19.723797</td>\n",
       "      <td>...</td>\n",
       "      <td>0.9469</td>\n",
       "      <td>0.8129</td>\n",
       "      <td>1368.0</td>\n",
       "      <td>4065.0</td>\n",
       "      <td>0.106308</td>\n",
       "      <td>0.004539</td>\n",
       "      <td>0.000079</td>\n",
       "      <td>-1.888499e-08</td>\n",
       "      <td>-0.005104</td>\n",
       "      <td>0.0</td>\n",
       "    </tr>\n",
       "  </tbody>\n",
       "</table>\n",
       "<p>5 rows × 25 columns</p>\n",
       "</div>"
      ],
      "text/plain": [
       "             0           1          2          3           4          5   \\\n",
       "5179   0.015137 -188.151270  12.797931  19.918213  125.586374  15.223934   \n",
       "5481   0.017578 -282.424414  22.521765  31.761475    8.855267   9.342965   \n",
       "8473   0.032715 -320.370264  31.079960  57.601318    1.509633  16.695665   \n",
       "12750  0.025391 -201.892749  26.446148  39.836426   23.616188  52.493453   \n",
       "865    0.013672 -267.776855  19.121039  26.378174   14.361671   9.518071   \n",
       "\n",
       "               6              7         8          9   ...      15      16  \\\n",
       "5179   137.210160  338717.784336  5.593713  36.282229  ...  0.5055  0.4106   \n",
       "5481   283.859494  675030.592979  3.665399  16.534401  ...  0.5346  0.4522   \n",
       "8473   364.169881  834154.391586  3.157619  12.732141  ...  0.0675  0.7535   \n",
       "12750  131.264587  314064.702067  5.834694  39.333405  ...  0.8300  0.3234   \n",
       "865    241.581188  581683.519735  4.040766  19.723797  ...  0.9469  0.8129   \n",
       "\n",
       "           17      18        19        20        21            22        23  \\\n",
       "5179   1813.0  1374.0  0.230968  0.002216  0.000265 -9.492134e-09  0.027188   \n",
       "5481   2612.0  1108.0  0.047575 -0.005271  0.000067  9.326994e-09  0.003897   \n",
       "8473   2040.0  1592.0  0.019909 -0.001962  0.000044  1.365965e-09 -0.000286   \n",
       "12750  1285.0  1366.0  0.108868 -0.006264  0.000186 -1.437855e-08 -0.003871   \n",
       "865    1368.0  4065.0  0.106308  0.004539  0.000079 -1.888499e-08 -0.005104   \n",
       "\n",
       "        24  \n",
       "5179   1.0  \n",
       "5481   1.0  \n",
       "8473   2.0  \n",
       "12750  4.0  \n",
       "865    0.0  \n",
       "\n",
       "[5 rows x 25 columns]"
      ]
     },
     "execution_count": 155,
     "metadata": {},
     "output_type": "execute_result"
    }
   ],
   "source": [
    "X.head()"
   ]
  },
  {
   "cell_type": "code",
   "execution_count": 156,
   "metadata": {},
   "outputs": [
    {
     "data": {
      "text/html": [
       "<div>\n",
       "<style scoped>\n",
       "    .dataframe tbody tr th:only-of-type {\n",
       "        vertical-align: middle;\n",
       "    }\n",
       "\n",
       "    .dataframe tbody tr th {\n",
       "        vertical-align: top;\n",
       "    }\n",
       "\n",
       "    .dataframe thead th {\n",
       "        text-align: right;\n",
       "    }\n",
       "</style>\n",
       "<table border=\"1\" class=\"dataframe\">\n",
       "  <thead>\n",
       "    <tr style=\"text-align: right;\">\n",
       "      <th></th>\n",
       "      <th>Full/subsequence</th>\n",
       "      <th>Healthy</th>\n",
       "      <th>Pneumonia</th>\n",
       "      <th>COPD</th>\n",
       "      <th>URTI</th>\n",
       "      <th>Bronchiectasis</th>\n",
       "    </tr>\n",
       "  </thead>\n",
       "  <tbody>\n",
       "    <tr>\n",
       "      <th>0</th>\n",
       "      <td>full</td>\n",
       "      <td>14983358</td>\n",
       "      <td>13670300</td>\n",
       "      <td>18975678</td>\n",
       "      <td>7047783</td>\n",
       "      <td>11906764</td>\n",
       "    </tr>\n",
       "    <tr>\n",
       "      <th>1</th>\n",
       "      <td>sub(10000)</td>\n",
       "      <td>2996</td>\n",
       "      <td>2734</td>\n",
       "      <td>3795</td>\n",
       "      <td>1409</td>\n",
       "      <td>2381</td>\n",
       "    </tr>\n",
       "  </tbody>\n",
       "</table>\n",
       "</div>"
      ],
      "text/plain": [
       "  Full/subsequence   Healthy Pneumonia      COPD     URTI Bronchiectasis\n",
       "0             full  14983358  13670300  18975678  7047783       11906764\n",
       "1       sub(10000)      2996      2734      3795     1409           2381"
      ]
     },
     "execution_count": 156,
     "metadata": {},
     "output_type": "execute_result"
    }
   ],
   "source": [
    "len_of_data"
   ]
  },
  {
   "cell_type": "code",
   "execution_count": 157,
   "metadata": {},
   "outputs": [],
   "source": [
    "# separate minority and majority classes\n",
    "healthy = X[X[24]==0]\n",
    "Pneumonia = X[X[24]==1]\n",
    "COPD = X[X[24]==2]\n",
    "URTI = X[X[24]==3]\n",
    "Bronchiectasis = X[X[24]==4]"
   ]
  },
  {
   "cell_type": "code",
   "execution_count": 158,
   "metadata": {},
   "outputs": [],
   "source": [
    "# upsample minority\n",
    "Pneumonia_upsampled = resample(Pneumonia,\n",
    "                          replace=True, # sample with replacement\n",
    "                          n_samples=len(COPD), # match number in majority class\n",
    "                          random_state=42) # reproducible results\n",
    "\n",
    "# # combine majority and upsampled minority\n",
    "# upsampled = pd.concat([healthy, patients_upsampled])"
   ]
  },
  {
   "cell_type": "code",
   "execution_count": 159,
   "metadata": {},
   "outputs": [],
   "source": [
    "Healthy_upsampled = resample(healthy,\n",
    "                          replace=True, # sample with replacement\n",
    "                          n_samples=len(COPD), # match number in majority class\n",
    "                          random_state=42) # reproducible results"
   ]
  },
  {
   "cell_type": "code",
   "execution_count": 160,
   "metadata": {},
   "outputs": [],
   "source": [
    "URTI_upsampled = resample(URTI,\n",
    "                          replace=True, # sample with replacement\n",
    "                          n_samples=len(COPD), # match number in majority class\n",
    "                          random_state=42) # reproducible results"
   ]
  },
  {
   "cell_type": "code",
   "execution_count": 161,
   "metadata": {},
   "outputs": [],
   "source": [
    "Bronchiectasis_upsampled = resample(Bronchiectasis,\n",
    "                          replace=True, # sample with replacement\n",
    "                          n_samples=len(COPD), # match number in majority class\n",
    "                          random_state=42) # reproducible results"
   ]
  },
  {
   "cell_type": "code",
   "execution_count": 162,
   "metadata": {},
   "outputs": [],
   "source": [
    "# # combine majority and upsampled minority\n",
    "Healthy_upsampled = pd.concat([healthy, Healthy_upsampled])\n",
    "Pneumonia_upsampled = pd.concat([Pneumonia, Pneumonia_upsampled])\n",
    "URTI_upsampled = pd.concat([URTI, URTI_upsampled])\n",
    "Bronchiectasis_upsampled = pd.concat([Bronchiectasis, Bronchiectasis_upsampled])"
   ]
  },
  {
   "cell_type": "code",
   "execution_count": 163,
   "metadata": {},
   "outputs": [
    {
     "data": {
      "text/plain": [
       "0.0    4798\n",
       "Name: 24, dtype: int64"
      ]
     },
     "execution_count": 163,
     "metadata": {},
     "output_type": "execute_result"
    }
   ],
   "source": [
    "Healthy_upsampled[24].value_counts()"
   ]
  },
  {
   "cell_type": "code",
   "execution_count": 164,
   "metadata": {},
   "outputs": [
    {
     "data": {
      "text/plain": [
       "1.0    4603\n",
       "Name: 24, dtype: int64"
      ]
     },
     "execution_count": 164,
     "metadata": {},
     "output_type": "execute_result"
    }
   ],
   "source": [
    "Pneumonia_upsampled[24].value_counts()"
   ]
  },
  {
   "cell_type": "code",
   "execution_count": 165,
   "metadata": {},
   "outputs": [
    {
     "data": {
      "text/plain": [
       "3.0    3640\n",
       "Name: 24, dtype: int64"
      ]
     },
     "execution_count": 165,
     "metadata": {},
     "output_type": "execute_result"
    }
   ],
   "source": [
    "URTI_upsampled[24].value_counts()"
   ]
  },
  {
   "cell_type": "code",
   "execution_count": 166,
   "metadata": {},
   "outputs": [
    {
     "data": {
      "text/plain": [
       "4.0    4306\n",
       "Name: 24, dtype: int64"
      ]
     },
     "execution_count": 166,
     "metadata": {},
     "output_type": "execute_result"
    }
   ],
   "source": [
    "Bronchiectasis_upsampled[24].value_counts()"
   ]
  },
  {
   "cell_type": "code",
   "execution_count": 168,
   "metadata": {},
   "outputs": [],
   "source": [
    "y_train = Healthy_upsampled[24].append( Pneumonia_upsampled[24])\n"
   ]
  },
  {
   "cell_type": "code",
   "execution_count": 169,
   "metadata": {},
   "outputs": [],
   "source": [
    "y_train = y_train.append( URTI_upsampled[24])\n",
    "\n",
    "y_train = y_train.append( Bronchiectasis_upsampled[24])"
   ]
  },
  {
   "cell_type": "code",
   "execution_count": 171,
   "metadata": {},
   "outputs": [],
   "source": [
    "X_train = Healthy_upsampled.drop([24], axis=1).append( Pneumonia_upsampled.drop([24], axis=1))\n",
    "X_train =X_train.append(URTI_upsampled.drop([24], axis=1))\n",
    "X_train =X_train.append(Bronchiectasis_upsampled.drop([24], axis=1))\n"
   ]
  },
  {
   "cell_type": "code",
   "execution_count": 174,
   "metadata": {},
   "outputs": [],
   "source": [
    "y_train = y_train.append( df3[24])\n",
    "X_train = X_train.append(df3.drop([24], axis=1))"
   ]
  },
  {
   "cell_type": "code",
   "execution_count": 175,
   "metadata": {},
   "outputs": [
    {
     "data": {
      "text/plain": [
       "Counter({0.0: 4798, 1.0: 4603, 3.0: 3640, 4.0: 4306, 2.0: 3795})"
      ]
     },
     "execution_count": 175,
     "metadata": {},
     "output_type": "execute_result"
    }
   ],
   "source": [
    "from collections import Counter\n",
    "\n",
    "Counter(y_train)"
   ]
  },
  {
   "cell_type": "code",
   "execution_count": 178,
   "metadata": {},
   "outputs": [
    {
     "data": {
      "text/plain": [
       "((21142, 24), (21142,))"
      ]
     },
     "execution_count": 178,
     "metadata": {},
     "output_type": "execute_result"
    }
   ],
   "source": [
    "X_train.shape, y_train.shape"
   ]
  },
  {
   "cell_type": "code",
   "execution_count": 191,
   "metadata": {},
   "outputs": [
    {
     "data": {
      "text/plain": [
       "865     0.0\n",
       "2802    0.0\n",
       "1020    0.0\n",
       "2538    0.0\n",
       "1077    0.0\n",
       "       ... \n",
       "3790    2.0\n",
       "3791    2.0\n",
       "3792    2.0\n",
       "3793    2.0\n",
       "3794    2.0\n",
       "Name: 24, Length: 21142, dtype: float64"
      ]
     },
     "execution_count": 191,
     "metadata": {},
     "output_type": "execute_result"
    }
   ],
   "source": [
    "y_train"
   ]
  },
  {
   "cell_type": "code",
   "execution_count": 192,
   "metadata": {},
   "outputs": [],
   "source": [
    "X = pd.concat([X_train, y_train], axis=1)"
   ]
  },
  {
   "cell_type": "code",
   "execution_count": 193,
   "metadata": {},
   "outputs": [],
   "source": [
    "X = shuffle(X)"
   ]
  },
  {
   "cell_type": "code",
   "execution_count": 195,
   "metadata": {},
   "outputs": [],
   "source": [
    "y_train = X[24]\n",
    "X_train = X.drop([24], axis=1)\n"
   ]
  },
  {
   "cell_type": "markdown",
   "metadata": {},
   "source": [
    "_____"
   ]
  },
  {
   "cell_type": "code",
   "execution_count": 196,
   "metadata": {},
   "outputs": [],
   "source": [
    "from sklearn.preprocessing import StandardScaler\n",
    "from sklearn.linear_model import LogisticRegression"
   ]
  },
  {
   "cell_type": "code",
   "execution_count": 197,
   "metadata": {},
   "outputs": [],
   "source": [
    "scaler = StandardScaler()"
   ]
  },
  {
   "cell_type": "code",
   "execution_count": 198,
   "metadata": {},
   "outputs": [],
   "source": [
    "from sklearn.pipeline import Pipeline"
   ]
  },
  {
   "cell_type": "code",
   "execution_count": 199,
   "metadata": {},
   "outputs": [],
   "source": [
    "pipe = []\n",
    "pipe.append(('scaler', scaler))\n",
    "pipe.append(('lr', LogisticRegression()))\n",
    "model = Pipeline(pipe)"
   ]
  },
  {
   "cell_type": "code",
   "execution_count": 200,
   "metadata": {},
   "outputs": [
    {
     "data": {
      "text/plain": [
       "Pipeline(memory=None,\n",
       "         steps=[('scaler',\n",
       "                 StandardScaler(copy=True, with_mean=True, with_std=True)),\n",
       "                ('lr',\n",
       "                 LogisticRegression(C=1.0, class_weight=None, dual=False,\n",
       "                                    fit_intercept=True, intercept_scaling=1,\n",
       "                                    l1_ratio=None, max_iter=100,\n",
       "                                    multi_class='warn', n_jobs=None,\n",
       "                                    penalty='l2', random_state=None,\n",
       "                                    solver='warn', tol=0.0001, verbose=0,\n",
       "                                    warm_start=False))],\n",
       "         verbose=False)"
      ]
     },
     "execution_count": 200,
     "metadata": {},
     "output_type": "execute_result"
    }
   ],
   "source": [
    "model.fit(X_train, y_train)"
   ]
  },
  {
   "cell_type": "code",
   "execution_count": 201,
   "metadata": {},
   "outputs": [
    {
     "data": {
      "text/plain": [
       "0.5277294551620711"
      ]
     },
     "execution_count": 201,
     "metadata": {},
     "output_type": "execute_result"
    }
   ],
   "source": [
    "from sklearn.metrics import recall_score\n",
    "recall_score(y_test, model.predict(X_test), average='macro') "
   ]
  },
  {
   "cell_type": "code",
   "execution_count": 202,
   "metadata": {},
   "outputs": [],
   "source": [
    "from sklearn.metrics import accuracy_score,f1_score,precision_score"
   ]
  },
  {
   "cell_type": "code",
   "execution_count": 203,
   "metadata": {},
   "outputs": [
    {
     "name": "stdout",
     "output_type": "stream",
     "text": [
      "TRAIN recall: 0.5385015608740895\n",
      "TEST recall: 0.5398097145718578\n",
      "TRAIN accuracy_score: 0.5385015608740895\n",
      "TEST accuracy_score: 0.5398097145718578\n",
      "TRAIN f1_score: 0.5385015608740895\n",
      "TEST f1_score: 0.5398097145718578\n",
      "TRAIN precision_score: 0.5385015608740895\n",
      "TEST precision_score: 0.5398097145718578\n"
     ]
    }
   ],
   "source": [
    "print('TRAIN recall:', recall_score(y_train, model.predict(X_train), average='micro'  ))\n",
    "print('TEST recall:', recall_score(y_test, model.predict(X_test) , average='micro' ))\n",
    "print('TRAIN accuracy_score:', accuracy_score(y_train, model.predict(X_train))  )\n",
    "print('TEST accuracy_score:', accuracy_score(y_test, model.predict(X_test))  )\n",
    "print('TRAIN f1_score:',f1_score(y_train, model.predict(X_train), average='micro')  )\n",
    "print('TEST f1_score:', f1_score(y_test, model.predict(X_test), average='micro')  )\n",
    "print('TRAIN precision_score:',precision_score(y_train, model.predict(X_train), average='micro')  )\n",
    "print('TEST precision_score:', precision_score(y_test, model.predict(X_test), average='micro')  )"
   ]
  },
  {
   "cell_type": "code",
   "execution_count": 204,
   "metadata": {},
   "outputs": [],
   "source": [
    "from sklearn.ensemble import RandomForestClassifier\n",
    "from sklearn.ensemble import GradientBoostingClassifier\n",
    "from xgboost import XGBClassifier\n",
    "from sklearn.neighbors import KNeighborsRegressor\n",
    "from sklearn.svm import LinearSVC\n",
    "from sklearn.naive_bayes import GaussianNB\n",
    "from sklearn.svm import SVC"
   ]
  },
  {
   "cell_type": "code",
   "execution_count": 205,
   "metadata": {},
   "outputs": [],
   "source": [
    "models = {\n",
    "    'lr':  Pipeline([('scaler',StandardScaler()), ('lr', LogisticRegression(solver='saga', l1_ratio=1))]),\n",
    "    'rf': Pipeline([('scaler',StandardScaler()), ('rf', RandomForestClassifier())]),\n",
    "    'gb': Pipeline([('scaler',StandardScaler()), ('gb', GradientBoostingClassifier())]),\n",
    "    'xgb': Pipeline([('scaler',StandardScaler()), ('xgb', XGBClassifier())])#,\n",
    "#     'svc': Pipeline([('scaler',StandardScaler()), ('svc', SVC())])#,\n",
    "#     #'knn': Pipeline([('scaler',StandardScaler()), ('knn', KNeighborsRegressor())]),\n",
    "#     'lsvc': Pipeline([('scaler',StandardScaler()), ('lsvc', LinearSVC())]), \n",
    "#     'gnb': Pipeline([('scaler',StandardScaler()), ('gnb', GaussianNB())])    \n",
    "}"
   ]
  },
  {
   "cell_type": "code",
   "execution_count": 206,
   "metadata": {},
   "outputs": [],
   "source": [
    "parameters = {\n",
    "    'lr': {'lr__penalty': ['l1', 'l2', 'elasticnet'],\n",
    "        'lr__C':  [0.001, 0.01, 0.1, 1.0, 10.0, 100.]},\n",
    "    \n",
    "    'rf': {#'rf__n_estimators': [int(x) for x in np.linspace(start = 100, stop = 1000, num = 10)],\n",
    "          'rf__max_depth': [int(x) for x in np.linspace(10, 50, num = 10)],\n",
    "          'rf__min_samples_split': np.arange(2,10)},\n",
    "    \n",
    "    'gb': {'gb__learning_rate': [1, 0.5, 0.25, 0.1, 0.05, 0.01],\n",
    "          'gb__n_estimators': [1, 2, 4, 8, 16, 32, 64, 100, 200],\n",
    "          #'gb__max_depths': np.linspace(1, 32, 32, endpoint=True),\n",
    "          'gb__min_samples_split' : np.linspace(0.1, 1.0, 10, endpoint=True)},\n",
    "    \n",
    "    'xgb': {'xgb__max_depth':range(3,10,2),\n",
    "             'xgb__min_child_weight':range(1,6,2)},\n",
    "    \n",
    "    'svc': {'svc__C': [0.001, 0.01, 0.1, 1.0, 10.0, 100.],\n",
    "           'svc__kernel': [ 'linear', 'poly', 'rbf', 'sigmoid', 'precomputed']\n",
    "           }#,\n",
    "    \n",
    "    #'knn': {'knn__n_neighbors': np.arange(5,30)}\n",
    "    \n",
    "#     'lsvc': {'lsvc__penalty': ['l1', 'l2'],\n",
    "#             'lsvc__loss': ['hinge', 'squared_hinge'],\n",
    "#             'lsvc__C': [0.001, 0.01, 0.1, 1.0, 10.0, 100.]},\n",
    "    \n",
    "#     'gnb': {'gnb__var_smoothing': [1e-10, 1e-9, 1e-8,1e-7]}\n",
    "}\n",
    "    \n",
    "    "
   ]
  },
  {
   "cell_type": "code",
   "execution_count": 207,
   "metadata": {},
   "outputs": [
    {
     "name": "stdout",
     "output_type": "stream",
     "text": [
      "model: lr\n",
      "____________________________________\n",
      "TRAIN recall: 0.5368460883549333\n",
      "TEST recall: 0.5385578367551327\n",
      "____________________________________\n",
      "TRAIN accuracy_score: 0.5368460883549333\n",
      "TEST accuracy_score: 0.5385578367551327\n",
      "____________________________________\n",
      "TRAIN f1_score: 0.5368460883549333\n",
      "TEST f1_score: 0.5385578367551327\n",
      "____________________________________\n",
      "TRAIN precision_score: 0.5368460883549333\n",
      "TEST precision_score: 0.5385578367551327\n",
      "____________________________________\n",
      "____________________________________\n",
      "____________________________________\n",
      "model: rf\n",
      "____________________________________\n",
      "TRAIN recall: 0.9977296376880144\n",
      "TEST recall: 0.7451176765147721\n",
      "____________________________________\n",
      "TRAIN accuracy_score: 0.9977296376880144\n",
      "TEST accuracy_score: 0.7451176765147721\n",
      "____________________________________\n",
      "TRAIN f1_score: 0.9977296376880144\n",
      "TEST f1_score: 0.7451176765147721\n",
      "____________________________________\n",
      "TRAIN precision_score: 0.9977296376880144\n",
      "TEST precision_score: 0.7451176765147721\n",
      "____________________________________\n",
      "____________________________________\n",
      "____________________________________\n",
      "model: gb\n",
      "____________________________________\n",
      "TRAIN recall: 0.9757828020054867\n",
      "TEST recall: 0.7298447671507261\n",
      "____________________________________\n",
      "TRAIN accuracy_score: 0.9757828020054867\n",
      "TEST accuracy_score: 0.7298447671507261\n",
      "____________________________________\n",
      "TRAIN f1_score: 0.9757828020054867\n",
      "TEST f1_score: 0.7298447671507261\n",
      "____________________________________\n",
      "TRAIN precision_score: 0.9757828020054867\n",
      "TEST precision_score: 0.7298447671507261\n",
      "____________________________________\n",
      "____________________________________\n",
      "____________________________________\n",
      "model: xgb\n",
      "____________________________________\n",
      "TRAIN recall: 0.9922429287673825\n",
      "TEST recall: 0.7736604907361042\n",
      "____________________________________\n",
      "TRAIN accuracy_score: 0.9922429287673825\n",
      "TEST accuracy_score: 0.7736604907361042\n",
      "____________________________________\n",
      "TRAIN f1_score: 0.9922429287673825\n",
      "TEST f1_score: 0.7736604907361042\n",
      "____________________________________\n",
      "TRAIN precision_score: 0.9922429287673825\n",
      "TEST precision_score: 0.7736604907361042\n",
      "____________________________________\n",
      "____________________________________\n",
      "____________________________________\n"
     ]
    }
   ],
   "source": [
    "from sklearn.model_selection import GridSearchCV\n",
    "from sklearn.metrics import accuracy_score,f1_score,precision_score\n",
    "from sklearn.metrics import precision_recall_curve\n",
    "from inspect import signature\n",
    "from sklearn.metrics import average_precision_score\n",
    "# import warnings filter\n",
    "from warnings import simplefilter\n",
    "# ignore all future warnings\n",
    "simplefilter(action='ignore', category=FutureWarning)\n",
    "for model in models.keys():\n",
    "    print('model:', model)\n",
    "    simplefilter(action='ignore')\n",
    "    clf = GridSearchCV(models[model], parameters[model],cv=3, return_train_score=True)\n",
    "    clf.fit(X_train, y_train)\n",
    "    \n",
    "    #clf = clf.best_model_\n",
    "    \n",
    "    print('____________________________________')\n",
    "    try:\n",
    "        print('TRAIN recall:', recall_score(y_train, clf.predict(X_train), average='micro')  )\n",
    "        print('TEST recall:', recall_score(y_test, clf.predict(X_test), average='micro')  )\n",
    "    except ValueError:\n",
    "        continue\n",
    "    print('____________________________________')\n",
    "    try:\n",
    "        print('TRAIN accuracy_score:', accuracy_score(y_train, clf.predict(X_train))  )\n",
    "        print('TEST accuracy_score:', accuracy_score(y_test, clf.predict(X_test))  )\n",
    "    except ValueError:\n",
    "        continue\n",
    "    print('____________________________________')\n",
    "    try:\n",
    "        print('TRAIN f1_score:',f1_score(y_train, clf.predict(X_train), average='micro')  )\n",
    "        print('TEST f1_score:', f1_score(y_test, clf.predict(X_test), average='micro')  )\n",
    "    except ValueError:\n",
    "        continue\n",
    "    print('____________________________________')\n",
    "    try:\n",
    "        print('TRAIN precision_score:',precision_score(y_train, clf.predict(X_train), average='micro')  )\n",
    "        print('TEST precision_score:', precision_score(y_test, clf.predict(X_test), average='micro')  )\n",
    "    except ValueError:\n",
    "        continue\n",
    "    print('____________________________________')\n",
    "    print('____________________________________')\n",
    "    print('____________________________________')"
   ]
  },
  {
   "cell_type": "code",
   "execution_count": 208,
   "metadata": {},
   "outputs": [],
   "source": [
    "from sklearn.neighbors import KNeighborsRegressor"
   ]
  },
  {
   "cell_type": "code",
   "execution_count": 209,
   "metadata": {},
   "outputs": [],
   "source": [
    "from sklearn.metrics import r2_score"
   ]
  },
  {
   "cell_type": "code",
   "execution_count": 210,
   "metadata": {},
   "outputs": [
    {
     "data": {
      "text/plain": [
       "KNeighborsRegressor(algorithm='auto', leaf_size=30, metric='minkowski',\n",
       "                    metric_params=None, n_jobs=None, n_neighbors=3, p=2,\n",
       "                    weights='uniform')"
      ]
     },
     "execution_count": 210,
     "metadata": {},
     "output_type": "execute_result"
    }
   ],
   "source": [
    "neigh = KNeighborsRegressor(n_neighbors=3)\n",
    "X_train_scaler = scaler.fit_transform(X_train)\n",
    "X_test_scaler = scaler.transform(X_test)\n",
    "neigh.fit(X_train_scaler, y_train) "
   ]
  },
  {
   "cell_type": "code",
   "execution_count": 211,
   "metadata": {},
   "outputs": [
    {
     "data": {
      "text/plain": [
       "(0.9101362797672982, 0.11703071766950379)"
      ]
     },
     "execution_count": 211,
     "metadata": {},
     "output_type": "execute_result"
    }
   ],
   "source": [
    "r2_score(y_train, neigh.predict(X_train_scaler)), r2_score(y_test, neigh.predict(X_test_scaler))"
   ]
  },
  {
   "cell_type": "code",
   "execution_count": 212,
   "metadata": {},
   "outputs": [],
   "source": [
    "from sklearn.svm import SVC"
   ]
  },
  {
   "cell_type": "code",
   "execution_count": 213,
   "metadata": {},
   "outputs": [],
   "source": [
    "clf = SVC(gamma='auto')"
   ]
  },
  {
   "cell_type": "code",
   "execution_count": 214,
   "metadata": {},
   "outputs": [
    {
     "data": {
      "text/plain": [
       "SVC(C=1.0, cache_size=200, class_weight=None, coef0=0.0,\n",
       "    decision_function_shape='ovr', degree=3, gamma='auto', kernel='rbf',\n",
       "    max_iter=-1, probability=False, random_state=None, shrinking=True,\n",
       "    tol=0.001, verbose=False)"
      ]
     },
     "execution_count": 214,
     "metadata": {},
     "output_type": "execute_result"
    }
   ],
   "source": [
    "clf.fit(X_train_scaler, y_train) "
   ]
  },
  {
   "cell_type": "code",
   "execution_count": 215,
   "metadata": {},
   "outputs": [
    {
     "name": "stdout",
     "output_type": "stream",
     "text": [
      "TRAIN recall: 0.7138397502601457\n",
      "TEST recall: 0.6887831747621432\n"
     ]
    }
   ],
   "source": [
    "print('TRAIN recall:', recall_score(y_train, clf.predict(X_train_scaler), average='micro')  )\n",
    "print('TEST recall:', recall_score(y_test, clf.predict(X_test_scaler), average='micro')  )"
   ]
  },
  {
   "cell_type": "code",
   "execution_count": 216,
   "metadata": {},
   "outputs": [
    {
     "data": {
      "text/plain": [
       "GridSearchCV(cv=3, error_score='raise-deprecating',\n",
       "             estimator=SVC(C=1.0, cache_size=200, class_weight=None, coef0=0.0,\n",
       "                           decision_function_shape='ovr', degree=3,\n",
       "                           gamma='auto', kernel='rbf', max_iter=-1,\n",
       "                           probability=False, random_state=None, shrinking=True,\n",
       "                           tol=0.001, verbose=False),\n",
       "             iid='warn', n_jobs=None,\n",
       "             param_grid={'C': [0.001, 0.01, 0.1, 1.0, 10.0, 100.0]},\n",
       "             pre_dispatch='2*n_jobs', refit=True, return_train_score=False,\n",
       "             scoring=None, verbose=0)"
      ]
     },
     "execution_count": 216,
     "metadata": {},
     "output_type": "execute_result"
    }
   ],
   "source": [
    "scaler = StandardScaler()\n",
    "X_train_scaler = scaler.fit_transform(X_train)\n",
    "X_test_scaler = scaler.transform(X_test)\n",
    "parameter = {'C': [0.001, 0.01, 0.1, 1.0, 10.0, 100.]\n",
    "           }\n",
    "\n",
    "model = SVC(gamma='auto')\n",
    "r = GridSearchCV(model, parameter, cv=3)\n",
    "r.fit(X_train_scaler, y_train)"
   ]
  },
  {
   "cell_type": "code",
   "execution_count": 217,
   "metadata": {},
   "outputs": [
    {
     "data": {
      "text/plain": [
       "SVC(C=100.0, cache_size=200, class_weight=None, coef0=0.0,\n",
       "    decision_function_shape='ovr', degree=3, gamma='auto', kernel='rbf',\n",
       "    max_iter=-1, probability=False, random_state=None, shrinking=True,\n",
       "    tol=0.001, verbose=False)"
      ]
     },
     "execution_count": 217,
     "metadata": {},
     "output_type": "execute_result"
    }
   ],
   "source": [
    "r.best_estimator_"
   ]
  },
  {
   "cell_type": "code",
   "execution_count": 218,
   "metadata": {},
   "outputs": [
    {
     "name": "stdout",
     "output_type": "stream",
     "text": [
      "TRAIN recall: 0.8995837669094693\n",
      "TEST recall: 0.7110665998998498\n",
      "TRAIN accuracy_score: 0.17950052029136315\n",
      "TEST accuracy_score: 0.2801702553830746\n",
      "TRAIN f1_score: 0.17950052029136315\n",
      "TEST f1_score: 0.2801702553830746\n",
      "TRAIN precision_score: 0.17950052029136315\n",
      "TEST precision_score: 0.2801702553830746\n"
     ]
    }
   ],
   "source": [
    "print('TRAIN recall:', recall_score(y_train, r.predict(X_train_scaler), average='micro')  )\n",
    "print('TEST recall:', recall_score(y_test, r.predict(X_test_scaler), average='micro')  )\n",
    "print('TRAIN accuracy_score:', accuracy_score(y_train, r.predict(X_train))  )\n",
    "print('TEST accuracy_score:', accuracy_score(y_test, r.predict(X_test))  )\n",
    "print('TRAIN f1_score:',f1_score(y_train, r.predict(X_train), average='micro')  )\n",
    "print('TEST f1_score:', f1_score(y_test, r.predict(X_test), average='micro')  )\n",
    "print('TRAIN precision_score:',precision_score(y_train, r.predict(X_train), average='micro')  )\n",
    "print('TEST precision_score:', precision_score(y_test, r.predict(X_test), average='micro'))"
   ]
  },
  {
   "cell_type": "code",
   "execution_count": null,
   "metadata": {},
   "outputs": [],
   "source": []
  }
 ],
 "metadata": {
  "kernelspec": {
   "display_name": "Python 3",
   "language": "python",
   "name": "python3"
  },
  "language_info": {
   "codemirror_mode": {
    "name": "ipython",
    "version": 3
   },
   "file_extension": ".py",
   "mimetype": "text/x-python",
   "name": "python",
   "nbconvert_exporter": "python",
   "pygments_lexer": "ipython3",
   "version": "3.6.8"
  }
 },
 "nbformat": 4,
 "nbformat_minor": 2
}
