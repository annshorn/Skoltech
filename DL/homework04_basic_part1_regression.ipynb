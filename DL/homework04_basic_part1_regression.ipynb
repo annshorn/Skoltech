{
  "nbformat": 4,
  "nbformat_minor": 0,
  "metadata": {
    "colab": {
      "name": "homework04_basic_part1_regression.ipynb",
      "version": "0.3.2",
      "provenance": [],
      "collapsed_sections": [
        "1Sw4VMsHPhPr"
      ],
      "toc_visible": true
    },
    "language_info": {
      "codemirror_mode": {
        "name": "ipython",
        "version": 3
      },
      "file_extension": ".py",
      "mimetype": "text/x-python",
      "name": "python",
      "nbconvert_exporter": "python",
      "pygments_lexer": "ipython3",
      "version": "3.6.8"
    },
    "kernelspec": {
      "name": "python3",
      "display_name": "Python 3"
    },
    "accelerator": "GPU"
  },
  "cells": [
    {
      "cell_type": "markdown",
      "metadata": {
        "id": "R0siHCf3PhOF",
        "colab_type": "text"
      },
      "source": [
        "# Natural Language Processing with Deep Learning (7 points)\n",
        "\n",
        "Today we're gonna apply the newly learned DL tools for sequence processing to the task of predicting job salary.\n",
        "\n",
        "Special thanks to [Oleg Vasilev](https://github.com/Omrigan/) for the assignment core (orignally written for theano/tensorflow)."
      ]
    },
    {
      "cell_type": "code",
      "metadata": {
        "id": "IKBz4B3vPhOI",
        "colab_type": "code",
        "colab": {}
      },
      "source": [
        "import numpy as np\n",
        "import pandas as pd\n",
        "import matplotlib.pyplot as plt\n",
        "import IPython.display as display\n",
        "%matplotlib inline"
      ],
      "execution_count": 0,
      "outputs": []
    },
    {
      "cell_type": "markdown",
      "metadata": {
        "id": "UEPYkP6YPhOO",
        "colab_type": "text"
      },
      "source": [
        "### About the challenge\n",
        "For starters, let's download the data from __[here](https://yadi.sk/d/vVEOWPFY3NruT7)__.\n",
        "\n",
        "You can also get it from the competition [page](https://www.kaggle.com/c/job-salary-prediction/data) (in that case, pick `Train_rev1.*`).\n",
        "\n",
        "\n",
        "Our task is to predict one number, __SalaryNormalized__, in the sense of minimizing __Mean Absolute Error__.\n",
        "\n",
        "<img src=\"https://storage.googleapis.com/kaggle-competitions/kaggle/3342/media/salary%20prediction%20engine%20v2.png\" width=400px>\n",
        "\n",
        "To do so, our model ca access a number of features:\n",
        "* Free text: __`Title`__ and  __`FullDescription`__\n",
        "* Categorical: __`Category`__, __`Company`__, __`LocationNormalized`__, __`ContractType`__, and __`ContractTime`__.\n",
        "\n",
        "\n",
        "You can read more [in the official description](https://www.kaggle.com/c/job-salary-prediction#description)."
      ]
    },
    {
      "cell_type": "code",
      "metadata": {
        "id": "p22u8W1IPhOP",
        "colab_type": "code",
        "outputId": "7d2a631a-4455-43b6-c6f6-685fd5733166",
        "colab": {
          "base_uri": "https://localhost:8080/",
          "height": 85
        }
      },
      "source": [
        "data = pd.read_csv(\"./Train_rev1.csv\", index_col=None )\n",
        "data['Log1pSalary'] = np.log1p(data['SalaryNormalized']).astype('float32')\n",
        "\n",
        "text_columns = [\"Title\", \"FullDescription\"]\n",
        "categorical_columns = [\"Category\", \"Company\", \"LocationNormalized\", \"ContractType\", \"ContractTime\"]\n",
        "target_column = \"Log1pSalary\"\n",
        "data[categorical_columns] = data[categorical_columns].fillna('NaN') # cast nan to string\n",
        "\n",
        "data.sample(3)['FullDescription']"
      ],
      "execution_count": 5,
      "outputs": [
        {
          "output_type": "execute_result",
          "data": {
            "text/plain": [
              "15510     We are seeking a postdoctoral research associa...\n",
              "126318    We are seeking experienced driver mates for ou...\n",
              "164485    My NHS Trust based client is looking for an In...\n",
              "Name: FullDescription, dtype: object"
            ]
          },
          "metadata": {
            "tags": []
          },
          "execution_count": 5
        }
      ]
    },
    {
      "cell_type": "code",
      "metadata": {
        "id": "Q9FjK_rIPhOX",
        "colab_type": "code",
        "outputId": "fdf86302-7d74-41a2-ca69-0fdd9f44c52e",
        "colab": {
          "base_uri": "https://localhost:8080/",
          "height": 369
        }
      },
      "source": [
        "data.sample(3)"
      ],
      "execution_count": 6,
      "outputs": [
        {
          "output_type": "execute_result",
          "data": {
            "text/html": [
              "<div>\n",
              "<style scoped>\n",
              "    .dataframe tbody tr th:only-of-type {\n",
              "        vertical-align: middle;\n",
              "    }\n",
              "\n",
              "    .dataframe tbody tr th {\n",
              "        vertical-align: top;\n",
              "    }\n",
              "\n",
              "    .dataframe thead th {\n",
              "        text-align: right;\n",
              "    }\n",
              "</style>\n",
              "<table border=\"1\" class=\"dataframe\">\n",
              "  <thead>\n",
              "    <tr style=\"text-align: right;\">\n",
              "      <th></th>\n",
              "      <th>Id</th>\n",
              "      <th>Title</th>\n",
              "      <th>FullDescription</th>\n",
              "      <th>LocationRaw</th>\n",
              "      <th>LocationNormalized</th>\n",
              "      <th>ContractType</th>\n",
              "      <th>ContractTime</th>\n",
              "      <th>Company</th>\n",
              "      <th>Category</th>\n",
              "      <th>SalaryRaw</th>\n",
              "      <th>SalaryNormalized</th>\n",
              "      <th>SourceName</th>\n",
              "      <th>Log1pSalary</th>\n",
              "    </tr>\n",
              "  </thead>\n",
              "  <tbody>\n",
              "    <tr>\n",
              "      <th>111191</th>\n",
              "      <td>69684058</td>\n",
              "      <td>Internal Account Manager / Sales Executive</td>\n",
              "      <td>Internal Account Manager / Sales Executive in ...</td>\n",
              "      <td>Derby</td>\n",
              "      <td>Derby</td>\n",
              "      <td>full_time</td>\n",
              "      <td>NaN</td>\n",
              "      <td>eRecruit Solutions Ltd</td>\n",
              "      <td>Sales Jobs</td>\n",
              "      <td>23097</td>\n",
              "      <td>23097</td>\n",
              "      <td>careerbuilder.com</td>\n",
              "      <td>10.047502</td>\n",
              "    </tr>\n",
              "    <tr>\n",
              "      <th>66714</th>\n",
              "      <td>68714246</td>\n",
              "      <td>Sales Executive</td>\n",
              "      <td>Our client who offers conferences, seminars an...</td>\n",
              "      <td>Central London / West End London South East</td>\n",
              "      <td>London</td>\n",
              "      <td>NaN</td>\n",
              "      <td>permanent</td>\n",
              "      <td>Adecco Group</td>\n",
              "      <td>Sales Jobs</td>\n",
              "      <td>25000 - 30000 per annum + BENEFITS</td>\n",
              "      <td>27500</td>\n",
              "      <td>totaljobs.com</td>\n",
              "      <td>10.221977</td>\n",
              "    </tr>\n",
              "    <tr>\n",
              "      <th>182001</th>\n",
              "      <td>71601169</td>\n",
              "      <td>Senior Quantity Surveyor</td>\n",
              "      <td>A niche cost and project management consultanc...</td>\n",
              "      <td>London South East</td>\n",
              "      <td>South East London</td>\n",
              "      <td>NaN</td>\n",
              "      <td>permanent</td>\n",
              "      <td>Catalyst Executive Search</td>\n",
              "      <td>Trade &amp; Construction Jobs</td>\n",
              "      <td>From 45,000 to 55,000 per annum Plus car allow...</td>\n",
              "      <td>50000</td>\n",
              "      <td>careerstructure.com</td>\n",
              "      <td>10.819798</td>\n",
              "    </tr>\n",
              "  </tbody>\n",
              "</table>\n",
              "</div>"
            ],
            "text/plain": [
              "              Id  ... Log1pSalary\n",
              "111191  69684058  ...   10.047502\n",
              "66714   68714246  ...   10.221977\n",
              "182001  71601169  ...   10.819798\n",
              "\n",
              "[3 rows x 13 columns]"
            ]
          },
          "metadata": {
            "tags": []
          },
          "execution_count": 6
        }
      ]
    },
    {
      "cell_type": "markdown",
      "metadata": {
        "id": "X_H8iikMPhOe",
        "colab_type": "text"
      },
      "source": [
        "### The NLP part\n",
        "\n",
        "To even begin training our neural network, we're gonna need to preprocess the text features: tokenize it and build the token vocabularies.\n",
        "\n",
        "Since it is not an NLP course, we're gonna use simple built-in NLTK tokenization."
      ]
    },
    {
      "cell_type": "code",
      "metadata": {
        "id": "aTUaDtbnPhOf",
        "colab_type": "code",
        "outputId": "b9eb46c5-7e19-4c05-b6e0-f4c386f9cf43",
        "colab": {
          "base_uri": "https://localhost:8080/",
          "height": 102
        }
      },
      "source": [
        "print(\"Before\")\n",
        "print(data[\"Title\"][::100000])"
      ],
      "execution_count": 7,
      "outputs": [
        {
          "output_type": "stream",
          "text": [
            "Before\n",
            "0         Engineering Systems Analyst\n",
            "100000                   HR Assistant\n",
            "200000           Senior EC&I Engineer\n",
            "Name: Title, dtype: object\n"
          ],
          "name": "stdout"
        }
      ]
    },
    {
      "cell_type": "code",
      "metadata": {
        "id": "vpSFqWOTPhOi",
        "colab_type": "code",
        "colab": {}
      },
      "source": [
        "import nltk\n",
        "tokenizer = nltk.tokenize.WordPunctTokenizer()\n",
        "\n",
        "for col in text_columns:\n",
        "    data[col] = data[col].apply(lambda l: ' '.join(tokenizer.tokenize(str(l).lower())))"
      ],
      "execution_count": 0,
      "outputs": []
    },
    {
      "cell_type": "markdown",
      "metadata": {
        "id": "ugLXkgYlPhOk",
        "colab_type": "text"
      },
      "source": [
        "Now we can assume that our text is a space-separated list of tokens:"
      ]
    },
    {
      "cell_type": "code",
      "metadata": {
        "id": "-vcKmegEPhOl",
        "colab_type": "code",
        "outputId": "b8b84aac-5c9f-4ec9-bb9a-7b55175f98ec",
        "colab": {
          "base_uri": "https://localhost:8080/",
          "height": 102
        }
      },
      "source": [
        "print(\"After\")\n",
        "print(data[\"Title\"][::100000])"
      ],
      "execution_count": 9,
      "outputs": [
        {
          "output_type": "stream",
          "text": [
            "After\n",
            "0         engineering systems analyst\n",
            "100000                   hr assistant\n",
            "200000         senior ec & i engineer\n",
            "Name: Title, dtype: object\n"
          ],
          "name": "stdout"
        }
      ]
    },
    {
      "cell_type": "markdown",
      "metadata": {
        "id": "dpDWyesqPhOn",
        "colab_type": "text"
      },
      "source": [
        "Not all words are equally useful. Some of them are typos or rare words that are only present a few times. \n",
        "\n",
        "Let's see how many times is each word present in the data so that we can build a \"white list\" of known words."
      ]
    },
    {
      "cell_type": "code",
      "metadata": {
        "id": "vhvXqNAZPhOo",
        "colab_type": "code",
        "colab": {}
      },
      "source": [
        "from collections import Counter\n",
        "token_counts = Counter()\n",
        "\n",
        "# Count how many times does each token occur in \"Title\" and \"FullDescription\"\n",
        "for col in text_columns:\n",
        "    for token in data[col]:\n",
        "      token_counts.update((token.split()))"
      ],
      "execution_count": 0,
      "outputs": []
    },
    {
      "cell_type": "code",
      "metadata": {
        "id": "wF4fMZ44PhOq",
        "colab_type": "code",
        "outputId": "36f12869-4758-42db-eb44-63e55dfc1324",
        "colab": {
          "base_uri": "https://localhost:8080/",
          "height": 204
        }
      },
      "source": [
        "print(\"Total unique tokens :\", len(token_counts))\n",
        "print('\\n'.join(map(str, token_counts.most_common(n=5))))\n",
        "print('...')\n",
        "print('\\n'.join(map(str, token_counts.most_common()[-3:])))\n",
        "\n",
        "assert token_counts.most_common(1)[0][1] in  range(2600000, 2700000)\n",
        "assert len(token_counts) in range(200000, 210000)\n",
        "print('Correct!')"
      ],
      "execution_count": 11,
      "outputs": [
        {
          "output_type": "stream",
          "text": [
            "Total unique tokens : 202704\n",
            "('and', 2657388)\n",
            "('.', 2523216)\n",
            "(',', 2318606)\n",
            "('the', 2080994)\n",
            "('to', 2019884)\n",
            "...\n",
            "('stephanietraveltraderecruitmnt', 1)\n",
            "('ruabon', 1)\n",
            "('lowehays', 1)\n",
            "Correct!\n"
          ],
          "name": "stdout"
        }
      ]
    },
    {
      "cell_type": "code",
      "metadata": {
        "id": "ISuoQ8lLPhOr",
        "colab_type": "code",
        "outputId": "3dc4b844-60da-4a95-a6d0-786543134354",
        "colab": {
          "base_uri": "https://localhost:8080/",
          "height": 300
        }
      },
      "source": [
        "# Let's see how many words are there for each count\n",
        "\n",
        "_ = plt.hist(list(token_counts.values()), range=[0, 10**4], bins=50, log=True)\n",
        "plt.xlabel(\"Counts\")"
      ],
      "execution_count": 12,
      "outputs": [
        {
          "output_type": "execute_result",
          "data": {
            "text/plain": [
              "Text(0.5, 0, 'Counts')"
            ]
          },
          "metadata": {
            "tags": []
          },
          "execution_count": 12
        },
        {
          "output_type": "display_data",
          "data": {
            "image/png": "[encoded data removed]",
            "text/plain": [
              "<Figure size 432x288 with 1 Axes>"
            ]
          },
          "metadata": {
            "tags": []
          }
        }
      ]
    },
    {
      "cell_type": "markdown",
      "metadata": {
        "id": "KHD9q5pjPhOt",
        "colab_type": "text"
      },
      "source": [
        "__Task 1.1__ Get a list of all tokens that occur at least 10 times."
      ]
    },
    {
      "cell_type": "code",
      "metadata": {
        "id": "msqx6_vOPhOv",
        "colab_type": "code",
        "colab": {}
      },
      "source": [
        "min_count = 10\n",
        "\n",
        "# tokens from token_counts keys that had at least min_count occurrences throughout the dataset\n",
        "tokens = []\n",
        "for t in token_counts.most_common():\n",
        "  if t[1] >= min_count:\n",
        "    tokens.append(t[0])\n",
        "\n",
        "# Add a special tokens for unknown and empty words\n",
        "UNK, PAD = \"UNK\", \"PAD\"\n",
        "tokens = [UNK, PAD] + tokens"
      ],
      "execution_count": 0,
      "outputs": []
    },
    {
      "cell_type": "code",
      "metadata": {
        "id": "Ty8dQl72PhOy",
        "colab_type": "code",
        "outputId": "91edc4e1-d8e3-43df-dff1-b1a1bc7ca194",
        "colab": {
          "base_uri": "https://localhost:8080/",
          "height": 51
        }
      },
      "source": [
        "print(\"Tokens left:\", len(tokens))\n",
        "assert type(tokens)==list\n",
        "assert len(tokens) in range(32000,35000)\n",
        "assert 'me' in tokens\n",
        "assert UNK in tokens\n",
        "print(\"Correct!\")"
      ],
      "execution_count": 14,
      "outputs": [
        {
          "output_type": "stream",
          "text": [
            "Tokens left: 34158\n",
            "Correct!\n"
          ],
          "name": "stdout"
        }
      ]
    },
    {
      "cell_type": "markdown",
      "metadata": {
        "id": "RoNtCqRqPhO2",
        "colab_type": "text"
      },
      "source": [
        "__Task 1.2__ Build an inverse token index: a dictionary from token(string) to it's index in `tokens` (int)"
      ]
    },
    {
      "cell_type": "code",
      "metadata": {
        "id": "Ah4iik_PPhO3",
        "colab_type": "code",
        "colab": {}
      },
      "source": [
        "token_to_id = {}\n",
        "for i in range(len(tokens)):\n",
        "  token_to_id.update({tokens[i]: i})"
      ],
      "execution_count": 0,
      "outputs": []
    },
    {
      "cell_type": "code",
      "metadata": {
        "id": "stXadM1fTBW5",
        "colab_type": "code",
        "outputId": "d389a485-2fd5-4e95-d162-3560a1aabd9b",
        "colab": {
          "base_uri": "https://localhost:8080/",
          "height": 34
        }
      },
      "source": [
        "len(token_to_id)"
      ],
      "execution_count": 16,
      "outputs": [
        {
          "output_type": "execute_result",
          "data": {
            "text/plain": [
              "34158"
            ]
          },
          "metadata": {
            "tags": []
          },
          "execution_count": 16
        }
      ]
    },
    {
      "cell_type": "code",
      "metadata": {
        "id": "uYPI4ABlTDd3",
        "colab_type": "code",
        "outputId": "44377fa0-2e5a-4e19-a693-52723d7f9543",
        "colab": {
          "base_uri": "https://localhost:8080/",
          "height": 34
        }
      },
      "source": [
        "len(tokens)"
      ],
      "execution_count": 17,
      "outputs": [
        {
          "output_type": "execute_result",
          "data": {
            "text/plain": [
              "34158"
            ]
          },
          "metadata": {
            "tags": []
          },
          "execution_count": 17
        }
      ]
    },
    {
      "cell_type": "code",
      "metadata": {
        "id": "G0Qw_dBoPhPI",
        "colab_type": "code",
        "outputId": "9f93020d-1b3c-472f-9ac9-faf66256902b",
        "colab": {
          "base_uri": "https://localhost:8080/",
          "height": 34
        }
      },
      "source": [
        "assert isinstance(token_to_id, dict)\n",
        "assert len(token_to_id) == len(tokens)\n",
        "for tok in tokens:\n",
        "    assert tokens[token_to_id[tok]] == tok\n",
        "\n",
        "print(\"Correct!\")"
      ],
      "execution_count": 18,
      "outputs": [
        {
          "output_type": "stream",
          "text": [
            "Correct!\n"
          ],
          "name": "stdout"
        }
      ]
    },
    {
      "cell_type": "markdown",
      "metadata": {
        "id": "roXApjguPhPK",
        "colab_type": "text"
      },
      "source": [
        "And finally, let's use the vocabulary you've built to map text lines into torch-digestible matrices."
      ]
    },
    {
      "cell_type": "code",
      "metadata": {
        "id": "9mdpwXE3PhPL",
        "colab_type": "code",
        "colab": {}
      },
      "source": [
        "UNK_IX, PAD_IX = map(token_to_id.get, [UNK, PAD])\n",
        "\n",
        "def as_matrix(sequences, max_len=None):\n",
        "    \"\"\" Convert a list of tokens into a matrix with padding \"\"\"\n",
        "    if isinstance(sequences[0], str):\n",
        "        sequences = list(map(str.split, sequences))\n",
        "        \n",
        "    max_len = min(max(map(len, sequences)), max_len or float('inf'))\n",
        "    \n",
        "    matrix = np.full((len(sequences), max_len), np.int32(PAD_IX))\n",
        "    for i,seq in enumerate(sequences):\n",
        "        row_ix = [token_to_id.get(word, UNK_IX) for word in seq[:max_len]]\n",
        "        matrix[i, :len(row_ix)] = row_ix\n",
        "    \n",
        "    return matrix"
      ],
      "execution_count": 0,
      "outputs": []
    },
    {
      "cell_type": "code",
      "metadata": {
        "id": "LRilSrnDPhPN",
        "colab_type": "code",
        "outputId": "ce20c86b-08e9-4480-e532-391aa78554ca",
        "colab": {
          "base_uri": "https://localhost:8080/",
          "height": 153
        }
      },
      "source": [
        "#### print(\"Lines:\")\n",
        "print('\\n'.join(data[\"Title\"][::100000].values), end='\\n\\n')\n",
        "print(\"Matrix:\")\n",
        "print(as_matrix(data[\"Title\"][::100000]))"
      ],
      "execution_count": 20,
      "outputs": [
        {
          "output_type": "stream",
          "text": [
            "engineering systems analyst\n",
            "hr assistant\n",
            "senior ec & i engineer\n",
            "\n",
            "Matrix:\n",
            "[[ 136  114  269    1    1]\n",
            " [ 311  236    1    1    1]\n",
            " [ 100 4120  135  388   83]]\n"
          ],
          "name": "stdout"
        }
      ]
    },
    {
      "cell_type": "markdown",
      "metadata": {
        "id": "Fr0cpDxlPhPO",
        "colab_type": "text"
      },
      "source": [
        "Now let's  encode the categirical data we have.\n",
        "\n",
        "As usual, we shall use one-hot encoding for simplicity. Kudos if you implement tf-idf, target averaging or pseudo-counter-based encoding."
      ]
    },
    {
      "cell_type": "code",
      "metadata": {
        "id": "nuCJOUH5PhPP",
        "colab_type": "code",
        "outputId": "14164970-5df1-4d55-f780-f2b1bf017209",
        "colab": {
          "base_uri": "https://localhost:8080/",
          "height": 51
        }
      },
      "source": [
        "from sklearn.feature_extraction import DictVectorizer\n",
        "\n",
        "# we only consider top-1k most frequent companies to minimize memory usage\n",
        "top_companies, top_counts = zip(*Counter(data['Company']).most_common(1000))\n",
        "recognized_companies = set(top_companies)\n",
        "data[\"Company\"] = data[\"Company\"].apply(lambda comp: comp if comp in recognized_companies else \"Other\")\n",
        "\n",
        "categorical_vectorizer = DictVectorizer(dtype=np.float32, sparse=False)\n",
        "categorical_vectorizer.fit(data[categorical_columns].apply(dict, axis=1))"
      ],
      "execution_count": 21,
      "outputs": [
        {
          "output_type": "execute_result",
          "data": {
            "text/plain": [
              "DictVectorizer(dtype=<class 'numpy.float32'>, separator='=', sort=True,\n",
              "        sparse=False)"
            ]
          },
          "metadata": {
            "tags": []
          },
          "execution_count": 21
        }
      ]
    },
    {
      "cell_type": "markdown",
      "metadata": {
        "id": "1GgZ9zRKPhPQ",
        "colab_type": "text"
      },
      "source": [
        "### The data science part\n",
        "\n",
        "Once we've learned to tokenize the data, let's design a machine learning experiment.\n",
        "\n",
        "As before, we won't focus too much on validation, opting for a simple train-test split.\n",
        "\n",
        "__To be completely rigorous,__ we've comitted a small crime here: we used the whole data for tokenization and vocabulary building. A more strict way would be to do that part on training set only. You may want to do that and measure the magnitude of changes."
      ]
    },
    {
      "cell_type": "code",
      "metadata": {
        "id": "a0pTKamOPhPQ",
        "colab_type": "code",
        "outputId": "ce3a3594-efba-46c2-db6d-e2bf7147538a",
        "colab": {
          "base_uri": "https://localhost:8080/",
          "height": 51
        }
      },
      "source": [
        "from sklearn.model_selection import train_test_split\n",
        "\n",
        "data_train, data_val = train_test_split(data, test_size=0.1, random_state=42)\n",
        "\n",
        "print(\"Train size = \", len(data_train))\n",
        "print(\"Validation size = \", len(data_val))"
      ],
      "execution_count": 22,
      "outputs": [
        {
          "output_type": "stream",
          "text": [
            "Train size =  220291\n",
            "Validation size =  24477\n"
          ],
          "name": "stdout"
        }
      ]
    },
    {
      "cell_type": "code",
      "metadata": {
        "id": "drfLwvKCPhPR",
        "colab_type": "code",
        "colab": {}
      },
      "source": [
        "def generate_batch(data, batch_size=None, replace=True, max_len=None):\n",
        "    \"\"\"\n",
        "    Creates a pytorch-friendly dict from the batch data.\n",
        "    :returns: a dict with {'title' : int64[batch, title_max_len]\n",
        "    \"\"\"\n",
        "    if batch_size is not None:\n",
        "        data = data.sample(batch_size, replace=replace)\n",
        "    \n",
        "    batch = {}\n",
        "    for col in text_columns:\n",
        "        batch[col] = as_matrix(data[col].values, max_len)\n",
        "    \n",
        "    batch['Categorical'] = categorical_vectorizer.transform(data[categorical_columns].apply(dict, axis=1))\n",
        "    \n",
        "    if target_column in data.columns:\n",
        "        batch[target_column] = data[target_column].values\n",
        "    \n",
        "    return batch"
      ],
      "execution_count": 0,
      "outputs": []
    },
    {
      "cell_type": "code",
      "metadata": {
        "id": "YTxIi_VjPhPS",
        "colab_type": "code",
        "outputId": "a32e59cd-3579-4992-eb9c-a540dc671e23",
        "colab": {
          "base_uri": "https://localhost:8080/",
          "height": 221
        }
      },
      "source": [
        "generate_batch(data_train, 3, max_len=10)"
      ],
      "execution_count": 24,
      "outputs": [
        {
          "output_type": "execute_result",
          "data": {
            "text/plain": [
              "{'Categorical': array([[0., 0., 0., ..., 0., 0., 0.],\n",
              "        [0., 0., 0., ..., 0., 0., 0.],\n",
              "        [0., 0., 0., ..., 0., 0., 0.]], dtype=float32),\n",
              " 'FullDescription': array([[ 143,    8,    5,  141,  288, 1221,   13,  147, 2030,    9],\n",
              "        [1015, 2449,   17, 3090,  210, 6465, 1015, 2449,   17, 3090],\n",
              "        [  36,  863,   35, 1931, 9360,   44,   35, 3489,  683,    4]],\n",
              "       dtype=int32),\n",
              " 'Log1pSalary': array([10.221977, 10.71444 ,  9.903538], dtype=float32),\n",
              " 'Title': array([[ 240, 1307,  133,   34,    1,    1,    1,    1,    1,    1],\n",
              "        [1015, 2449,   17, 3090,  210, 6465,    1,    1,    1,    1],\n",
              "        [  36,  863,   35, 1931, 9360,   44,   35, 3489,  683,    4]],\n",
              "       dtype=int32)}"
            ]
          },
          "metadata": {
            "tags": []
          },
          "execution_count": 24
        }
      ]
    },
    {
      "cell_type": "markdown",
      "metadata": {
        "id": "kUEoYSLkPhPU",
        "colab_type": "text"
      },
      "source": [
        "### Finally, let's talk deep learning\n",
        "\n",
        "Out model consists of three branches:\n",
        "* Title encoder\n",
        "* Description encoder\n",
        "* Categorical features encoder\n",
        "\n",
        "We will then feed all 3 branches into one common network that predicts salary.\n",
        "\n",
        "![scheme](https://github.com/yandexdataschool/Practical_DL/raw/master/homework04/conv_salary_architecture.png)"
      ]
    },
    {
      "cell_type": "markdown",
      "metadata": {
        "id": "pU3YEmgJPhPU",
        "colab_type": "text"
      },
      "source": [
        "By default, both text vectorizers shall use 1d convolutions, followed by global pooling over time."
      ]
    },
    {
      "cell_type": "code",
      "metadata": {
        "id": "tsJNHySyPhPV",
        "colab_type": "code",
        "colab": {}
      },
      "source": [
        "import torch, torch.nn as nn\n",
        "import torch.nn.functional as F\n",
        "from torch.autograd import Variable\n",
        "\n",
        "class GlobalMaxPooling(nn.Module):\n",
        "    def __init__(self, dim=-1):\n",
        "        super(self.__class__, self).__init__()\n",
        "        self.dim = dim\n",
        "        \n",
        "    def forward(self, x):\n",
        "        return x.max(dim=self.dim)[0]\n",
        "      \n",
        "      \n",
        "class Softmax_pooling(nn.Module):\n",
        "    def __init__(self, dim=-1):\n",
        "        super(self.__class__, self).__init__()\n",
        "        self.dim = dim\n",
        "        \n",
        "    def forward(self, x):\n",
        "        out = torch.sum( x * F.softmax(x, dim=self.dim), dim = self.dim)\n",
        "        return out"
      ],
      "execution_count": 0,
      "outputs": []
    },
    {
      "cell_type": "code",
      "metadata": {
        "id": "EcR2Adi2PhPW",
        "colab_type": "code",
        "colab": {}
      },
      "source": [
        "class TitleEncoder(nn.Module):\n",
        "    def __init__(self, n_tokens=len(tokens), out_size=64):\n",
        "        \"\"\" \n",
        "        A simple sequential encoder for titles.\n",
        "        x -> emb -> conv -> global_max -> relu -> dense\n",
        "        \"\"\"\n",
        "        super(self.__class__, self).__init__()\n",
        "        self.emb = nn.Embedding(n_tokens, 64, padding_idx=PAD_IX)\n",
        "        self.conv1 = nn.Conv1d(64, out_size, kernel_size=3, padding=1)\n",
        "        self.pool1 = GlobalMaxPooling()  #Softmax_pooling()       \n",
        "        self.dense = nn.Linear(out_size, out_size)\n",
        "\n",
        "    def forward(self, text_ix):\n",
        "        \"\"\"\n",
        "        :param text_ix: int64 Variable of shape [batch_size, max_len]\n",
        "        :returns: float32 Variable of shape [batch_size, out_size]\n",
        "        \"\"\"\n",
        "        h = self.emb(text_ix)\n",
        "\n",
        "        # we transpose from [batch, time, units] to [batch, units, time] to fit Conv1d dim order\n",
        "        h = torch.transpose(h, 1, 2)\n",
        "        \n",
        "        # Apply the layers as defined above. Add some ReLUs before dense.\n",
        "        #<YOUR CODE>\n",
        "        h = self.conv1(h)\n",
        "        h = self.pool1(h)\n",
        "        h = h.relu()\n",
        "        h = self.dense(h)\n",
        "        \n",
        "        return h#<YOUR CODE>"
      ],
      "execution_count": 0,
      "outputs": []
    },
    {
      "cell_type": "code",
      "metadata": {
        "id": "CZ2UyAFfPhPX",
        "colab_type": "code",
        "outputId": "a3611a8f-c35c-4eb4-ba71-ad4f2c6444b5",
        "colab": {
          "base_uri": "https://localhost:8080/",
          "height": 34
        }
      },
      "source": [
        "title_encoder = TitleEncoder(out_size=64)\n",
        "\n",
        "dummy_x = Variable(torch.LongTensor(generate_batch(data_train, 3)['Title']))\n",
        "dummy_v = title_encoder(dummy_x)\n",
        "\n",
        "assert isinstance(dummy_v, Variable)\n",
        "assert tuple(dummy_v.shape) == (dummy_x.shape[0], 64)\n",
        "\n",
        "del title_encoder\n",
        "print(\"Seems fine\")"
      ],
      "execution_count": 71,
      "outputs": [
        {
          "output_type": "stream",
          "text": [
            "Seems fine\n"
          ],
          "name": "stdout"
        }
      ]
    },
    {
      "cell_type": "markdown",
      "metadata": {
        "id": "-MH84yS2PhPY",
        "colab_type": "text"
      },
      "source": [
        "__Task 2.1__ Create description encoder"
      ]
    },
    {
      "cell_type": "code",
      "metadata": {
        "id": "GHSiOi35PhPY",
        "colab_type": "code",
        "colab": {}
      },
      "source": [
        "# Define an encoder for job descriptions.\n",
        "# Use any means you want so long as it's torch.nn.Module.\n",
        "#<YOUR CODE HERE>\n",
        "class descriptionsEncoder(nn.Module):\n",
        "    def __init__(self, n_tokens=len(tokens), out_size=64):\n",
        "        \"\"\" \n",
        "        A simple sequential encoder for titles.\n",
        "        x -> emb -> conv -> global_max -> relu -> dense\n",
        "        \"\"\"\n",
        "        super(self.__class__, self).__init__()\n",
        "        self.emb = nn.Embedding(n_tokens, 64, padding_idx=PAD_IX)\n",
        "        self.conv1 = nn.Conv1d(64, out_size, kernel_size=3, padding=1)\n",
        "        self.pool1 = GlobalMaxPooling()  #Softmax_pooling()    \n",
        "        self.dense = nn.Linear(out_size, out_size)\n",
        "\n",
        "    def forward(self, text_ix):\n",
        "        \"\"\"\n",
        "        :param text_ix: int64 Variable of shape [batch_size, max_len]\n",
        "        :returns: float32 Variable of shape [batch_size, out_size]\n",
        "        \"\"\"\n",
        "        h = self.emb(text_ix)\n",
        "\n",
        "        # we transpose from [batch, time, units] to [batch, units, time] to fit Conv1d dim order\n",
        "        h = torch.transpose(h, 1, 2)\n",
        "        \n",
        "        # Apply the layers as defined above. Add some ReLUs before dense.\n",
        "        #<YOUR CODE>\n",
        "        h = self.conv1(h)\n",
        "        h = self.pool1(h)\n",
        "        h = h.relu()\n",
        "        h = self.dense(h)\n",
        "        \n",
        "        return h#<YOUR CODE>"
      ],
      "execution_count": 0,
      "outputs": []
    },
    {
      "cell_type": "code",
      "metadata": {
        "id": "VqBtRYHcPhPa",
        "colab_type": "code",
        "outputId": "08ce4f81-88ea-4282-da69-a10e11396332",
        "colab": {
          "base_uri": "https://localhost:8080/",
          "height": 34
        }
      },
      "source": [
        "desc_encoder = descriptionsEncoder(out_size=64)\n",
        "\n",
        "dummy_x = Variable(torch.LongTensor(generate_batch(data_train, 3)['FullDescription']))\n",
        "dummy_v = desc_encoder(dummy_x)\n",
        "\n",
        "assert isinstance(dummy_v, Variable)\n",
        "assert tuple(dummy_v.shape) == (dummy_x.shape[0], 64)\n",
        "del desc_encoder\n",
        "print(\"Seems fine too\")"
      ],
      "execution_count": 73,
      "outputs": [
        {
          "output_type": "stream",
          "text": [
            "Seems fine too\n"
          ],
          "name": "stdout"
        }
      ]
    },
    {
      "cell_type": "markdown",
      "metadata": {
        "id": "-0VYLwO9PhPb",
        "colab_type": "text"
      },
      "source": [
        "__Task 2.2__ Build one network ~~to rule them all~~"
      ]
    },
    {
      "cell_type": "code",
      "metadata": {
        "id": "dh5l0J_8PhPb",
        "colab_type": "code",
        "colab": {}
      },
      "source": [
        "class FullNetwork(nn.Module):\n",
        "    \"\"\"\n",
        "    This class does all the steps from (title, desc, categorical) features -> predicted target\n",
        "    It unites title & desc encoders you defined above as long as some layers for head and categorical branch.\n",
        "    \"\"\"\n",
        "    \n",
        "    def __init__(self, n_tokens=len(tokens), n_cat_features=len(categorical_vectorizer.vocabulary_)):\n",
        "        super(self.__class__, self).__init__()\n",
        "        \n",
        "        self.title_encoder = TitleEncoder(out_size=64)\n",
        "        self.desc_encoder = descriptionsEncoder(out_size=64)#<YOUR CODE>\n",
        "        \n",
        "        # define layers for categorical features. A few dense layers would do.\n",
        "        #<YOUR CODE>\n",
        "        self.layers = nn.Sequential(nn.Linear(n_cat_features, 192),\n",
        "                                    nn.BatchNorm1d(192),\n",
        "                                    nn.ReLU(),\n",
        "                                    #nn.Dropout(0.3),\n",
        "                                    nn.Linear(192, 132),\n",
        "                                    nn.BatchNorm1d(132),\n",
        "                                    nn.ReLU(),\n",
        "                                    nn.Linear(132, 64))\n",
        "        \n",
        "        # define \"output\" layers that process depend the three encoded vectors into answer\n",
        "        #<YOUR CODE>\n",
        "        self.output = nn.Sequential(nn.Linear(192, 64),\n",
        "                                    nn.BatchNorm1d(64),\n",
        "                                    nn.ReLU(),\n",
        "                                    #nn.Dropout(0.3),\n",
        "                                    nn.Linear(64, 32),\n",
        "                                    nn.BatchNorm1d(32),\n",
        "                                    nn.ReLU(),\n",
        "                                    nn.Linear(32, 1)\n",
        "                                   )\n",
        "        \n",
        "        \n",
        "    def forward(self, title_ix, desc_ix, cat_features):\n",
        "        \"\"\"\n",
        "        :param title_ix: int32 Variable [batch, title_len], job titles encoded by as_matrix\n",
        "        :param desc_ix:  int32 Variable [batch, desc_len] , job descriptions encoded by as_matrix\n",
        "        :param cat_features: float32 Variable [batch, n_cat_features]\n",
        "        :returns: float32 Variable 1d [batch], predicted log1p-salary\n",
        "        \"\"\"\n",
        "        \n",
        "        # process each data source with it's respective encoder\n",
        "        title_h = self.title_encoder(title_ix)\n",
        "        desc_h = self.desc_encoder(desc_ix)#<YOUR CODE>\n",
        "        \n",
        "        # apply categorical encoder\n",
        "        cat_h = self.layers(cat_features) #<YOUR CODE>\n",
        "        \n",
        "        # concatenate all vectors together...\n",
        "        joint_h = torch.cat([title_h, desc_h, cat_h], dim=1)\n",
        "        \n",
        "        # ... and stack a few more layers at the top\n",
        "        #<YOUR CODE>\n",
        "        output = self.output(joint_h)[:, 0]\n",
        "        \n",
        "        # Note 1: do not forget to select first columns, [:, 0], to get to 1d outputs\n",
        "        # Note 2: please do not use output nonlinearities.\n",
        "        \n",
        "        return output #<YOUR CODE>"
      ],
      "execution_count": 0,
      "outputs": []
    },
    {
      "cell_type": "code",
      "metadata": {
        "id": "b_SWrnjUPhPc",
        "colab_type": "code",
        "colab": {}
      },
      "source": [
        "model = FullNetwork()\n",
        "opt = torch.optim.Adam(model.parameters(), lr=1e-3)"
      ],
      "execution_count": 0,
      "outputs": []
    },
    {
      "cell_type": "code",
      "metadata": {
        "id": "O_05TlAn1kfb",
        "colab_type": "code",
        "colab": {
          "base_uri": "https://localhost:8080/",
          "height": 748
        },
        "outputId": "a54dc7e3-c6fd-4d80-e628-01a13c890d72"
      },
      "source": [
        "print(\"Model's state_dict:\")\n",
        "for param_tensor in model.state_dict():\n",
        "    print(param_tensor, \"\\t\", model.state_dict()[param_tensor].size())"
      ],
      "execution_count": 101,
      "outputs": [
        {
          "output_type": "stream",
          "text": [
            "Model's state_dict:\n",
            "title_encoder.emb.weight \t torch.Size([34158, 64])\n",
            "title_encoder.conv1.weight \t torch.Size([64, 64, 3])\n",
            "title_encoder.conv1.bias \t torch.Size([64])\n",
            "title_encoder.dense.weight \t torch.Size([64, 64])\n",
            "title_encoder.dense.bias \t torch.Size([64])\n",
            "desc_encoder.emb.weight \t torch.Size([34158, 64])\n",
            "desc_encoder.conv1.weight \t torch.Size([64, 64, 3])\n",
            "desc_encoder.conv1.bias \t torch.Size([64])\n",
            "desc_encoder.dense.weight \t torch.Size([64, 64])\n",
            "desc_encoder.dense.bias \t torch.Size([64])\n",
            "layers.0.weight \t torch.Size([192, 3768])\n",
            "layers.0.bias \t torch.Size([192])\n",
            "layers.1.weight \t torch.Size([192])\n",
            "layers.1.bias \t torch.Size([192])\n",
            "layers.1.running_mean \t torch.Size([192])\n",
            "layers.1.running_var \t torch.Size([192])\n",
            "layers.1.num_batches_tracked \t torch.Size([])\n",
            "layers.3.weight \t torch.Size([132, 192])\n",
            "layers.3.bias \t torch.Size([132])\n",
            "layers.4.weight \t torch.Size([132])\n",
            "layers.4.bias \t torch.Size([132])\n",
            "layers.4.running_mean \t torch.Size([132])\n",
            "layers.4.running_var \t torch.Size([132])\n",
            "layers.4.num_batches_tracked \t torch.Size([])\n",
            "layers.6.weight \t torch.Size([64, 132])\n",
            "layers.6.bias \t torch.Size([64])\n",
            "output.0.weight \t torch.Size([64, 192])\n",
            "output.0.bias \t torch.Size([64])\n",
            "output.1.weight \t torch.Size([64])\n",
            "output.1.bias \t torch.Size([64])\n",
            "output.1.running_mean \t torch.Size([64])\n",
            "output.1.running_var \t torch.Size([64])\n",
            "output.1.num_batches_tracked \t torch.Size([])\n",
            "output.3.weight \t torch.Size([32, 64])\n",
            "output.3.bias \t torch.Size([32])\n",
            "output.4.weight \t torch.Size([32])\n",
            "output.4.bias \t torch.Size([32])\n",
            "output.4.running_mean \t torch.Size([32])\n",
            "output.4.running_var \t torch.Size([32])\n",
            "output.4.num_batches_tracked \t torch.Size([])\n",
            "output.6.weight \t torch.Size([1, 32])\n",
            "output.6.bias \t torch.Size([1])\n"
          ],
          "name": "stdout"
        }
      ]
    },
    {
      "cell_type": "code",
      "metadata": {
        "id": "tC_SnagX1vsM",
        "colab_type": "code",
        "colab": {
          "base_uri": "https://localhost:8080/",
          "height": 108
        },
        "outputId": "c4295a1d-191c-481b-d436-ec82978d13e2"
      },
      "source": [
        "print(\"Optimizer's state_dict:\")\n",
        "for var_name in opt.state_dict():\n",
        "    print(var_name, \"\\t\", opt.state_dict()[var_name])"
      ],
      "execution_count": 102,
      "outputs": [
        {
          "output_type": "stream",
          "text": [
            "Optimizer's state_dict:\n",
            "state \t {}\n",
            "param_groups \t [{'lr': 0.001, 'betas': (0.9, 0.999), 'eps': 1e-08, 'weight_decay': 0, 'amsgrad': False, 'params': [139863237340544, 139863237338960, 139863237339392, 139863236949624, 139863237348088, 139863237347152, 139863237345352, 139863237347728, 139863237345568, 139862892294648, 139862892295008, 139862892297312, 139862892294864, 139862892297168, 139862892296232, 139862892297672, 139862892295728, 139862892296880, 139862892295512, 139862892294936, 139862892296952, 139862892295368, 139862892297528, 139863240756248, 139862893091144, 139862893090496, 139862893089128, 139862893092800, 139862900179880, 139862900181104]}]\n"
          ],
          "name": "stdout"
        }
      ]
    },
    {
      "cell_type": "code",
      "metadata": {
        "id": "bu4uz4E2108f",
        "colab_type": "code",
        "colab": {}
      },
      "source": [
        ""
      ],
      "execution_count": 0,
      "outputs": []
    },
    {
      "cell_type": "code",
      "metadata": {
        "id": "b0exm6CXPhPe",
        "colab_type": "code",
        "colab": {}
      },
      "source": [
        "# test it on one batch\n",
        "\n",
        "batch = generate_batch(data_train, 32)\n",
        "\n",
        "title_ix = torch.tensor(batch[\"Title\"], dtype=torch.int64)\n",
        "desc_ix = torch.tensor(batch[\"FullDescription\"], dtype=torch.int64)\n",
        "cat_features = torch.tensor(batch[\"Categorical\"], dtype=torch.float32)\n",
        "reference = torch.tensor(batch[target_column], dtype=torch.float32)\n",
        "\n",
        "prediction = model(title_ix, desc_ix, cat_features)\n",
        "\n",
        "assert len(prediction.shape) == 1 and prediction.shape[0] == title_ix.shape[0]"
      ],
      "execution_count": 0,
      "outputs": []
    },
    {
      "cell_type": "code",
      "metadata": {
        "id": "OqbOtaRrPhPf",
        "colab_type": "code",
        "colab": {}
      },
      "source": [
        "def compute_loss(reference, prediction):\n",
        "    \"\"\"\n",
        "    Computes objective for minimization.\n",
        "    By deafult we minimize MSE, but you are encouraged to try mix up MSE, MAE, huber loss, etc.\n",
        "    \"\"\"\n",
        "    return torch.mean((prediction - reference) ** 2)\n",
        "\n",
        "def compute_mae(reference, prediction):\n",
        "    \"\"\" Compute MAE on actual salary, assuming your model outputs log1p(salary)\"\"\"\n",
        "    return torch.abs(torch.exp(reference - 1) - torch.exp(prediction - 1)).mean()"
      ],
      "execution_count": 0,
      "outputs": []
    },
    {
      "cell_type": "code",
      "metadata": {
        "id": "KeFBIcjzPhPg",
        "colab_type": "code",
        "colab": {}
      },
      "source": [
        "loss = compute_loss(reference, prediction)\n",
        "dummy_grads = torch.autograd.grad(loss, model.parameters(), retain_graph=True)\n",
        "for grad in dummy_grads:\n",
        "    assert grad is not None and not (grad == 0).all(), \"Some model parameters received zero grads. \" \\\n",
        "                                                       \"Double-check that your model uses all it's layers.\""
      ],
      "execution_count": 0,
      "outputs": []
    },
    {
      "cell_type": "markdown",
      "metadata": {
        "id": "fECURgEOPhPh",
        "colab_type": "text"
      },
      "source": [
        "### Let's train it!"
      ]
    },
    {
      "cell_type": "code",
      "metadata": {
        "id": "BRTBSc9YPhPi",
        "colab_type": "code",
        "colab": {}
      },
      "source": [
        "from tqdm import tnrange\n",
        "def iterate_minibatches(data, batch_size=32, max_len=None,\n",
        "                        max_batches=None, shuffle=True, verbose=True):\n",
        "    indices = np.arange(len(data))\n",
        "    if shuffle:\n",
        "        indices = np.random.permutation(indices)\n",
        "    if max_batches is not None:\n",
        "        indices = indices[: batch_size * max_batches]\n",
        "        \n",
        "    irange = tnrange if verbose else range\n",
        "    \n",
        "    for start in irange(0, len(indices), batch_size):\n",
        "        yield generate_batch(data.iloc[indices[start : start + batch_size]], max_len=max_len)"
      ],
      "execution_count": 0,
      "outputs": []
    },
    {
      "cell_type": "code",
      "metadata": {
        "id": "auVeujmoPhPj",
        "colab_type": "code",
        "colab": {}
      },
      "source": [
        "num_epochs = 100\n",
        "max_len = 100\n",
        "batch_size = 32\n",
        "batches_per_epoch = 100"
      ],
      "execution_count": 0,
      "outputs": []
    },
    {
      "cell_type": "code",
      "metadata": {
        "id": "Cmp7jIVz22JV",
        "colab_type": "code",
        "colab": {}
      },
      "source": [
        "train_loss_array = []\n",
        "val_lost_array = []\n",
        "mae_train_loss_array = []\n",
        "mae_val_loss_array = []\n",
        "i=0\n",
        "patience = 5\n",
        "count = 0"
      ],
      "execution_count": 0,
      "outputs": []
    },
    {
      "cell_type": "code",
      "metadata": {
        "id": "dlVp9iyiPhPk",
        "colab_type": "code",
        "outputId": "f8bb7361-ee96-4806-dd11-441a38cfd72f",
        "colab": {
          "base_uri": "https://localhost:8080/",
          "height": 845
        }
      },
      "source": [
        "for epoch_i in range(num_epochs):\n",
        "    \n",
        "    print(\"Training:\")\n",
        "    train_loss = train_mae = train_batches = 0    \n",
        "    model.train(True)\n",
        "    \n",
        "    for batch in iterate_minibatches(data_train, max_batches=batches_per_epoch):\n",
        "        title_ix = torch.tensor(batch[\"Title\"], dtype=torch.int64)\n",
        "        desc_ix = torch.tensor(batch[\"FullDescription\"], dtype=torch.int64)\n",
        "        cat_features = torch.tensor(batch[\"Categorical\"], dtype=torch.float32)\n",
        "        reference = torch.tensor(batch[target_column], dtype=torch.float32)\n",
        "\n",
        "        prediction = model(title_ix, desc_ix, cat_features)\n",
        "\n",
        "        loss = compute_loss(reference, prediction)\n",
        "        loss.backward()\n",
        "        opt.step()\n",
        "        opt.zero_grad()\n",
        "\n",
        "        train_loss += loss.data.numpy()#[0]\n",
        "        train_mae += compute_mae(reference, prediction).data.numpy()#[0]\n",
        "        train_batches += 1\n",
        "    \n",
        "    train_loss_array.append(train_loss / train_batches)\n",
        "    mae_train_loss_array.append(train_mae / train_batches)\n",
        "    \n",
        "    print(\"\\tLoss:\\t%.5f\" % (train_loss / train_batches))\n",
        "    print(\"\\tMAE:\\t%.5f\" % (train_mae / train_batches))\n",
        "    print('\\n\\n')\n",
        "    \n",
        "    print(\"Validation:\")\n",
        "    val_loss = val_mae = val_batches = 0\n",
        "    model.train(False)\n",
        "    \n",
        "    for batch in iterate_minibatches(data_val, shuffle=False):\n",
        "        title_ix = torch.tensor(batch[\"Title\"], dtype=torch.int64)\n",
        "        desc_ix = torch.tensor(batch[\"FullDescription\"], dtype=torch.int64)\n",
        "        cat_features = torch.tensor(batch[\"Categorical\"], dtype=torch.float32)\n",
        "        reference = torch.tensor(batch[target_column], dtype=torch.float32)\n",
        "        prediction = model(title_ix, desc_ix, cat_features)\n",
        "        loss = compute_loss(reference, prediction)\n",
        "\n",
        "        val_loss += loss.data.numpy()#[0]\n",
        "        val_mae += compute_mae(reference, prediction).data.numpy()#[0]\n",
        "        val_batches += 1\n",
        "\n",
        "    val_lost_array.append(val_loss / val_batches)\n",
        "    mae_val_loss_array.append(val_mae / val_batches)\n",
        "    \n",
        "    print(\"\\tLoss:\\t%.5f\" % (val_loss / val_batches))\n",
        "    print(\"\\tMAE:\\t%.5f\" % (val_mae / val_batches))\n",
        "    print('\\n\\n')\n",
        "    \n",
        "    if len(val_lost_array) > 2 and val_lost_array[-1] > val_lost_array[-2] > val_lost_array[-3]:\n",
        "      #if val_lost_array[-1] > val_lost_array[-3]:\n",
        "        count +=1 \n",
        "        if count > patience:\n",
        "          print('Early stopping, number of epoch:', epoch_i)\n",
        "          break\n",
        "    \n",
        "    \n",
        "    display.clear_output(wait=True)\n",
        "    \n",
        "    print('Epoch:', epoch_i)\n",
        "    \n",
        "    plt.figure(figsize=(6, 4))\n",
        "    plt.title(\"Train/Val loss\")\n",
        "    plt.xlabel(\"epochs\")\n",
        "    plt.ylabel(\"value\")\n",
        "    plt.plot(train_loss_array, 'b', label = 'train')\n",
        "    plt.plot(val_lost_array, 'g', label = 'val')\n",
        "    plt.legend()\n",
        "    plt.show()\n",
        "    \n",
        "    plt.figure(figsize=(6, 4))\n",
        "    plt.title(\"Train/Val MAE\")\n",
        "    plt.xlabel(\"epochs\")\n",
        "    plt.ylabel(\"value\")\n",
        "    plt.plot(mae_train_loss_array, 'b', label = 'train')\n",
        "    plt.plot(mae_val_loss_array, 'g', label = 'val')\n",
        "    plt.legend()\n",
        "    plt.show()\n",
        "    \n",
        "    "
      ],
      "execution_count": 109,
      "outputs": [
        {
          "output_type": "stream",
          "text": [
            "Epoch: 38\n"
          ],
          "name": "stdout"
        },
        {
          "output_type": "display_data",
          "data": {
            "image/png": "[encoded data removed]",
            "text/plain": [
              "<Figure size 432x288 with 1 Axes>"
            ]
          },
          "metadata": {
            "tags": []
          }
        },
        {
          "output_type": "display_data",
          "data": {
            "image/png": "[encoded data removed]",
            "text/plain": [
              "<Figure size 432x288 with 1 Axes>"
            ]
          },
          "metadata": {
            "tags": []
          }
        },
        {
          "output_type": "stream",
          "text": [
            "Training:\n"
          ],
          "name": "stdout"
        },
        {
          "output_type": "display_data",
          "data": {
            "application/vnd.jupyter.widget-view+json": {
              "model_id": "eebf6e037b04450b84fde4f9f33ed3ac",
              "version_minor": 0,
              "version_major": 2
            },
            "text/plain": [
              "HBox(children=(IntProgress(value=0), HTML(value='')))"
            ]
          },
          "metadata": {
            "tags": []
          }
        },
        {
          "output_type": "stream",
          "text": [
            "\n",
            "\tLoss:\t0.09022\n",
            "\tMAE:\t2885.00781\n",
            "\n",
            "\n",
            "\n",
            "Validation:\n"
          ],
          "name": "stdout"
        },
        {
          "output_type": "display_data",
          "data": {
            "application/vnd.jupyter.widget-view+json": {
              "model_id": "7c17fa3aa32c47d69308badbf5fff035",
              "version_minor": 0,
              "version_major": 2
            },
            "text/plain": [
              "HBox(children=(IntProgress(value=0, max=765), HTML(value='')))"
            ]
          },
          "metadata": {
            "tags": []
          }
        },
        {
          "output_type": "stream",
          "text": [
            "\n",
            "\tLoss:\t0.09693\n",
            "\tMAE:\t2976.43799\n",
            "\n",
            "\n",
            "\n",
            "Early stopping, number of epoch: 39\n"
          ],
          "name": "stdout"
        }
      ]
    },
    {
      "cell_type": "code",
      "metadata": {
        "id": "1A2nPWimPhPm",
        "colab_type": "code",
        "outputId": "1b04bdbb-8003-4198-f5a2-3102e18447a7",
        "colab": {
          "base_uri": "https://localhost:8080/",
          "height": 136
        }
      },
      "source": [
        "print(\"Final eval:\")\n",
        "val_loss = val_mae = val_batches = 0\n",
        "\n",
        "for batch in iterate_minibatches(data_val, shuffle=False):\n",
        "    title_ix = torch.tensor(batch[\"Title\"], dtype=torch.int64)\n",
        "    desc_ix = torch.tensor(batch[\"FullDescription\"], dtype=torch.int64)\n",
        "    cat_features = torch.tensor(batch[\"Categorical\"], dtype=torch.float32)\n",
        "    reference = torch.tensor(batch[target_column], dtype=torch.float32)\n",
        "\n",
        "    prediction = model(title_ix, desc_ix, cat_features)\n",
        "    loss = compute_loss(reference, prediction)\n",
        "\n",
        "    val_loss += loss.data.numpy()#[0]\n",
        "    val_mae += compute_mae(reference, prediction).data.numpy()#[0]\n",
        "    val_batches += 1\n",
        "\n",
        "print(\"\\tLoss:\\t%.5f\" % (val_loss / val_batches))\n",
        "print(\"\\tMAE:\\t%.5f\" % (val_mae / val_batches))\n",
        "print('\\n\\n')"
      ],
      "execution_count": 110,
      "outputs": [
        {
          "output_type": "stream",
          "text": [
            "Final eval:\n"
          ],
          "name": "stdout"
        },
        {
          "output_type": "display_data",
          "data": {
            "application/vnd.jupyter.widget-view+json": {
              "model_id": "01527e76e7564aa092da708e2b048d0d",
              "version_minor": 0,
              "version_major": 2
            },
            "text/plain": [
              "HBox(children=(IntProgress(value=0, max=765), HTML(value='')))"
            ]
          },
          "metadata": {
            "tags": []
          }
        },
        {
          "output_type": "stream",
          "text": [
            "\n",
            "\tLoss:\t0.09693\n",
            "\tMAE:\t2976.43799\n",
            "\n",
            "\n",
            "\n"
          ],
          "name": "stdout"
        }
      ]
    },
    {
      "cell_type": "markdown",
      "metadata": {
        "id": "pYGP8UmnPhPn",
        "colab_type": "text"
      },
      "source": [
        "### Task 3: explaining network predictions\n",
        "\n",
        "It's usually a good idea to understand what your model does before you let it make actual decisions. It's simple for linear models: just see which words learned positive or negative weights. However, its much harder for neural networks that learn complex nonlinear dependencies.\n",
        "\n",
        "There are, however, some ways to look inside the black box:\n",
        "* Seeing how model responds to input perturbations\n",
        "* Finding inputs that maximize/minimize activation of some chosen neurons (_read more [on distill.pub](https://distill.pub/2018/building-blocks/)_)\n",
        "* Building local linear approximations to your neural network: [article](https://arxiv.org/abs/1602.04938), [eli5 library](https://github.com/TeamHG-Memex/eli5/tree/master/eli5/formatters)\n",
        "\n",
        "Today we gonna try the first method just because it's the simplest one.\n",
        "\n",
        "__Your task__ is to measure how does model prediction change if you replace certain tokens with UNKs. The core idea is that if dropping a word from text causes model to predict lower log-salary, than this word probably has positive contribution to salary (and vice versa)."
      ]
    },
    {
      "cell_type": "code",
      "metadata": {
        "id": "Nudw5WU3PhPn",
        "colab_type": "code",
        "colab": {}
      },
      "source": [
        "def explain(model, sample, col_name='Title'):\n",
        "    \"\"\" Computes the effect each word had on model predictions \"\"\"\n",
        "    #print('||||||||||||', 'sample = ', sample, '|||||||||||||||||||||||||||||||||')\n",
        "    sample = dict(sample)\n",
        "    #print('#############', 'sample = ', sample, '##################################')\n",
        "    sample_tok = sample[col_name].split()\n",
        "    \n",
        "    \n",
        "#     print('#############################################')\n",
        "#     s = \n",
        "#     print('s = ',s)\n",
        "    #print('#############################################')\n",
        "    batch = generate_batch( pd.DataFrame.from_dict(sample, orient = 'index', columns= ['']).transpose() , 1)\n",
        "    \n",
        "    #print('ggggggg', 'batch = ', batch, 'ggggggggg')\n",
        "    \n",
        "    title_ix = torch.tensor(batch[\"Title\"], dtype=torch.int64)\n",
        "    desc_ix = torch.tensor(batch[\"FullDescription\"], dtype=torch.int64)\n",
        "    cat_features = torch.tensor(batch[\"Categorical\"], dtype=torch.float32)\n",
        "    \n",
        "    #print('title_ix  =', title_ix.shape)\n",
        "#     print('desc_ix =', desc_ix)\n",
        "    \n",
        "\n",
        "    \n",
        "    # compute model prediction on sample (scalar float log-salary)\n",
        "    baseline_pred =  float(model(title_ix, desc_ix, cat_features))#<YOUR CODE>\n",
        "    #print('baseline_pred =',   baseline_pred)\n",
        "    \n",
        "    # for each i-th token in :col_name:, compute predictions on a copy of data\n",
        "    # where i-th token is dropped (UNK)\n",
        "    predictions_without_word = []\n",
        "    \n",
        "    if col_name=='Title':\n",
        "      for i in range(title_ix.shape[1]):\n",
        "        #print(len(title_ix))\n",
        "        new_title_ix = title_ix.clone()\n",
        "        #print(new_title_ix)\n",
        "        new_title_ix[0][i] = 0\n",
        "        predictions_without_word.append(float(model(new_title_ix, desc_ix, cat_features)))#<YOUR CODE>\n",
        "    else:\n",
        "      for i in range(desc_ix.shape[1]):\n",
        "        #print(len(title_ix))\n",
        "        new_title_ix = desc_ix.clone()\n",
        "        #print(new_title_ix)\n",
        "        new_title_ix[0][i] = 0\n",
        "        predictions_without_word.append(float(model(title_ix, new_title_ix, cat_features)))\n",
        "      \n",
        "    \n",
        "    #print('predictions_without_word =',  predictions_without_word)\n",
        "    score_differences = [\n",
        "        prediction - baseline_pred for prediction in predictions_without_word\n",
        "    ]\n",
        "    \n",
        "#     # return a list of pairs: [(token, score_difference)]\n",
        "#     print('z =', sample_tok)\n",
        "#     print('a = ', score_differences)\n",
        "    return list(zip(sample_tok, score_differences)) #<YOUR CODE>"
      ],
      "execution_count": 0,
      "outputs": []
    },
    {
      "cell_type": "code",
      "metadata": {
        "id": "_45RQyfYPhPo",
        "colab_type": "code",
        "outputId": "429ec612-191c-4100-90b8-c732a063b621",
        "colab": {
          "base_uri": "https://localhost:8080/",
          "height": 312
        }
      },
      "source": [
        "# debugging area\n",
        "sample = data.loc[np.random.randint(len(data))]\n",
        "print(\"Input:\", sample)\n",
        "\n",
        "tokens_and_weights = explain(model, sample, \"Title\")\n",
        "print(tokens_and_weights)"
      ],
      "execution_count": 112,
      "outputs": [
        {
          "output_type": "stream",
          "text": [
            "Input: Id                                                             72609757\n",
            "Title                           itu liver nhs staff nurse x **** london\n",
            "FullDescription       itu liver nhs staff nurse x **** london hcl pe...\n",
            "LocationRaw                                                South London\n",
            "LocationNormalized                                    South East London\n",
            "ContractType                                                        NaN\n",
            "ContractTime                                                  permanent\n",
            "Company                                                  HCL Permanent.\n",
            "Category                                      Healthcare & Nursing Jobs\n",
            "SalaryRaw                                               25,418 – 33,150\n",
            "SalaryNormalized                                                  29284\n",
            "SourceName                                         nursingtimesjobs.com\n",
            "Log1pSalary                                                     10.2848\n",
            "Name: 238261, dtype: object\n",
            "[('itu', -0.15881633758544922), ('liver', 0.0015239715576171875), ('nhs', -0.05032825469970703), ('staff', 0.11208248138427734), ('nurse', 0.007376670837402344), ('x', 0.06810569763183594), ('****', -0.00036144256591796875), ('london', 0.02172088623046875)]\n"
          ],
          "name": "stdout"
        }
      ]
    },
    {
      "cell_type": "code",
      "metadata": {
        "id": "fo5M45lLPhPp",
        "colab_type": "code",
        "colab": {}
      },
      "source": [
        "from IPython.display import HTML, display_html\n",
        "\n",
        "def draw_html(tokens_and_weights, cmap=plt.get_cmap(\"bwr\"), display=True,\n",
        "              token_template=\"\"\"<span style=\"background-color: {color_hex}\">{token}</span>\"\"\",\n",
        "              font_style=\"font-size:14px;\"\n",
        "             ):\n",
        "    \n",
        "    def get_color_hex(weight):\n",
        "        rgba = cmap(1. / (1 + np.exp(weight)), bytes=True)\n",
        "        return '#%02X%02X%02X' % rgba[:3]\n",
        "    \n",
        "    tokens_html = [\n",
        "        token_template.format(token=token, color_hex=get_color_hex(weight))\n",
        "        for token, weight in tokens_and_weights\n",
        "    ]\n",
        "    \n",
        "    \n",
        "    raw_html = \"\"\"<p style=\"{}\">{}</p>\"\"\".format(font_style, ' '.join(tokens_html))\n",
        "    if display:\n",
        "        display_html(HTML(raw_html))\n",
        "        \n",
        "    return raw_html\n",
        "    "
      ],
      "execution_count": 0,
      "outputs": []
    },
    {
      "cell_type": "code",
      "metadata": {
        "id": "6Hdm9BJ9PhPq",
        "colab_type": "code",
        "outputId": "7808a51d-b6ea-41b9-d523-159ec80c4a1b",
        "colab": {
          "base_uri": "https://localhost:8080/",
          "height": 297
        }
      },
      "source": [
        "i = np.random.randint(len(data))\n",
        "sample = data.loc[i]\n",
        "print(\"Index:\", i)\n",
        "\n",
        "# predict salary on sample\n",
        "sample = dict(sample)\n",
        "batch = generate_batch( pd.DataFrame.from_dict(sample, orient = 'index', columns= ['']).transpose() , 1)\n",
        "title_ix = torch.tensor(batch[\"Title\"], dtype=torch.int64)\n",
        "desc_ix = torch.tensor(batch[\"FullDescription\"], dtype=torch.int64)\n",
        "cat_features = torch.tensor(batch[\"Categorical\"], dtype=torch.float32)\n",
        "print(\"Salary (gbp):\", float(model(title_ix, desc_ix, cat_features)))\n",
        "\n",
        "tokens_and_weights = explain(model, sample, \"Title\")\n",
        "draw_html([(tok, weight * 5) for tok, weight in tokens_and_weights], font_style='font-size:20px;');\n",
        "\n",
        "tokens_and_weights = explain(model, sample, \"FullDescription\")\n",
        "draw_html([(tok, weight * 10) for tok, weight in tokens_and_weights]);"
      ],
      "execution_count": 114,
      "outputs": [
        {
          "output_type": "stream",
          "text": [
            "Index: 53437\n",
            "Salary (gbp): 9.597573280334473\n"
          ],
          "name": "stdout"
        },
        {
          "output_type": "display_data",
          "data": {
            "text/html": [
              "<p style=\"font-size:20px;\"><span style=\"background-color: #A3A3FF\">trainee</span> <span style=\"background-color: #DCDCFF\">accounts</span> <span style=\"background-color: #F0F0FF\">junior</span></p>"
            ]
          },
          "metadata": {
            "tags": []
          }
        },
        {
          "output_type": "display_data",
          "data": {
            "text/html": [
              "<p style=\"font-size:14px;\"><span style=\"background-color: #FFFEFE\">christopher</span> <span style=\"background-color: #FFFEFE\">benn</span> <span style=\"background-color: #FFFEFE\">associates</span> <span style=\"background-color: #FAFAFF\">are</span> <span style=\"background-color: #FCFCFF\">pleased</span> <span style=\"background-color: #FFFCFC\">to</span> <span style=\"background-color: #FFFEFE\">be</span> <span style=\"background-color: #FFFEFE\">involved</span> <span style=\"background-color: #FEFEFF\">in</span> <span style=\"background-color: #FFFAFA\">the</span> <span style=\"background-color: #FFFCFC\">search</span> <span style=\"background-color: #FAFAFF\">for</span> <span style=\"background-color: #FFF4F4\">a</span> <span style=\"background-color: #E0E0FF\">trainee</span> <span style=\"background-color: #FEFEFF\">accounts</span> <span style=\"background-color: #FEFEFF\">junior</span> <span style=\"background-color: #F6F6FF\">for</span> <span style=\"background-color: #FFFEFE\">this</span> <span style=\"background-color: #FEFEFF\">hungerford</span> <span style=\"background-color: #FFFEFE\">based</span> <span style=\"background-color: #FFFEFE\">client</span> <span style=\"background-color: #FFFEFE\">.</span> <span style=\"background-color: #FFFEFE\">you</span> <span style=\"background-color: #FFFEFE\">will</span> <span style=\"background-color: #FFFEFE\">have</span> <span style=\"background-color: #FFFEFE\">a</span> <span style=\"background-color: #FFFEFE\">minimum</span> <span style=\"background-color: #F3F3FF\">of</span> <span style=\"background-color: #FFFEFE\">6</span> <span style=\"background-color: #F8F8FF\">months</span> <span style=\"background-color: #FFFEFE\">experience</span> <span style=\"background-color: #FFFEFE\">as</span> <span style=\"background-color: #FFFEFE\">an</span> <span style=\"background-color: #FAFAFF\">accounts</span> <span style=\"background-color: #FFFEFE\">junior</span> <span style=\"background-color: #FCFCFF\">and</span> <span style=\"background-color: #FCFCFF\">be</span> <span style=\"background-color: #FFFAFA\">educated</span> <span style=\"background-color: #FFFEFE\">up</span> <span style=\"background-color: #FFFEFE\">to</span> <span style=\"background-color: #DEDEFF\">a</span> <span style=\"background-color: #FCFCFF\">–</span> <span style=\"background-color: #FEFEFF\">levels</span> <span style=\"background-color: #FFFEFE\">with</span> <span style=\"background-color: #FFFEFE\">a</span> <span style=\"background-color: #FEFEFF\">passion</span> <span style=\"background-color: #FEFEFF\">and</span> <span style=\"background-color: #FFFEFE\">motivation</span> <span style=\"background-color: #FFFEFE\">to</span> <span style=\"background-color: #FFFEFE\">grow</span> <span style=\"background-color: #FFFEFE\">your</span> <span style=\"background-color: #FFFEFE\">career</span> <span style=\"background-color: #FFFEFE\">.</span> <span style=\"background-color: #FFFEFE\">following</span> <span style=\"background-color: #FFFAFA\">training</span> <span style=\"background-color: #F3F3FF\">you</span> <span style=\"background-color: #FFFEFE\">will</span> <span style=\"background-color: #FFFEFE\">be</span> <span style=\"background-color: #FFFEFE\">responsible</span> <span style=\"background-color: #FFFEFE\">for</span> <span style=\"background-color: #FAFAFF\">preparing</span> <span style=\"background-color: #FAFAFF\">accounts</span> <span style=\"background-color: #F8F8FF\">for</span> <span style=\"background-color: #F0F0FF\">a</span> <span style=\"background-color: #F8F8FF\">range</span> <span style=\"background-color: #FAFAFF\">of</span> <span style=\"background-color: #FFFEFE\">clients</span> <span style=\"background-color: #FEFEFF\">,</span> <span style=\"background-color: #ECECFF\">dealing</span> <span style=\"background-color: #EAEAFF\">with</span> <span style=\"background-color: #FEFEFF\">all</span> <span style=\"background-color: #F8F8FF\">aspects</span> <span style=\"background-color: #FEFEFF\">of</span> <span style=\"background-color: #FEFEFF\">tax</span> <span style=\"background-color: #FFFEFE\">and</span> <span style=\"background-color: #FAFAFF\">vat</span> <span style=\"background-color: #FFFEFE\">.</span> <span style=\"background-color: #FFFEFE\">along</span> <span style=\"background-color: #FFFEFE\">with</span> <span style=\"background-color: #FCFCFF\">extensive</span> <span style=\"background-color: #FCFCFF\">training</span> <span style=\"background-color: #FCFCFF\">and</span> <span style=\"background-color: #FCFCFF\">guidance</span> <span style=\"background-color: #FCFCFF\">you</span> <span style=\"background-color: #FAFAFF\">will</span> <span style=\"background-color: #FEFEFF\">be</span> <span style=\"background-color: #FEFEFF\">supported</span> <span style=\"background-color: #FEFEFF\">to</span> <span style=\"background-color: #FFFEFE\">study</span> <span style=\"background-color: #FEFEFF\">either</span> <span style=\"background-color: #FFFEFE\">your</span> <span style=\"background-color: #FEFEFF\">aat</span> <span style=\"background-color: #FAFAFF\">or</span> <span style=\"background-color: #FFFEFE\">acca</span> <span style=\"background-color: #FFFEFE\">.</span> <span style=\"background-color: #FFFEFE\">in</span> <span style=\"background-color: #FAFAFF\">addition</span> <span style=\"background-color: #FFFEFE\">to</span> <span style=\"background-color: #FFFEFE\">this</span> <span style=\"background-color: #FEFEFF\">you</span> <span style=\"background-color: #FFFEFE\">will</span> <span style=\"background-color: #FFFEFE\">also</span> <span style=\"background-color: #F0F0FF\">be</span> <span style=\"background-color: #FEFEFF\">offered</span> <span style=\"background-color: #FAFAFF\">23</span> <span style=\"background-color: #FFF6F6\">days</span> <span style=\"background-color: #FFFEFE\">holiday</span> <span style=\"background-color: #FFFEFE\">and</span> <span style=\"background-color: #FEFEFF\">a</span> <span style=\"background-color: #FEFEFF\">pension</span> <span style=\"background-color: #FEFEFF\">plan</span> <span style=\"background-color: #FFFEFE\">after</span> <span style=\"background-color: #FFFEFE\">1</span> <span style=\"background-color: #FEFEFF\">years</span> <span style=\"background-color: #F0F0FF\">’</span> <span style=\"background-color: #FFFEFE\">service</span> <span style=\"background-color: #FFFEFE\">.</span> <span style=\"background-color: #FFFEFE\">should</span> <span style=\"background-color: #FFFEFE\">your</span> <span style=\"background-color: #FFFEFE\">details</span> <span style=\"background-color: #F8F8FF\">be</span> <span style=\"background-color: #F8F8FF\">suitable</span> <span style=\"background-color: #F8F8FF\">for</span> <span style=\"background-color: #FFFEFE\">the</span> <span style=\"background-color: #FFFEFE\">role</span> <span style=\"background-color: #FFFEFE\">you</span> <span style=\"background-color: #FFFEFE\">are</span> <span style=\"background-color: #FFFEFE\">responding</span> <span style=\"background-color: #FFFEFE\">to</span> <span style=\"background-color: #FFFEFE\">,</span> <span style=\"background-color: #FFFEFE\">you</span> <span style=\"background-color: #FFFEFE\">will</span> <span style=\"background-color: #FFFEFE\">be</span> <span style=\"background-color: #FFFEFE\">contacted</span> <span style=\"background-color: #FFF6F6\">.</span> <span style=\"background-color: #FFFEFE\">in</span> <span style=\"background-color: #FFF0F0\">the</span> <span style=\"background-color: #FFF0F0\">event</span> <span style=\"background-color: #FFF0F0\">your</span> <span style=\"background-color: #FFFEFE\">details</span> <span style=\"background-color: #FFFEFE\">are</span> <span style=\"background-color: #FFFEFE\">not</span> <span style=\"background-color: #FFFEFE\">suitable</span> <span style=\"background-color: #FFFEFE\">,</span> <span style=\"background-color: #FFFEFE\">christopher</span> <span style=\"background-color: #FEFEFF\">benn</span> <span style=\"background-color: #FEFEFF\">associates</span> <span style=\"background-color: #FEFEFF\">may</span> <span style=\"background-color: #FFF6F6\">retain</span> <span style=\"background-color: #FFF6F6\">them</span> <span style=\"background-color: #FCFCFF\">and</span> <span style=\"background-color: #FFFEFE\">contact</span> <span style=\"background-color: #FFFEFE\">you</span> <span style=\"background-color: #FFFEFE\">regarding</span> <span style=\"background-color: #FFFEFE\">future</span> <span style=\"background-color: #FFFEFE\">vacancies</span> <span style=\"background-color: #FFFEFE\">.</span> <span style=\"background-color: #FFFEFE\">christopher</span> <span style=\"background-color: #FFFEFE\">benn</span> <span style=\"background-color: #F8F8FF\">associates</span> <span style=\"background-color: #FFFEFE\">will</span> <span style=\"background-color: #FFFEFE\">not</span> <span style=\"background-color: #FFFEFE\">submit</span> <span style=\"background-color: #F6F6FF\">your</span> <span style=\"background-color: #FAFAFF\">details</span> <span style=\"background-color: #F3F3FF\">to</span> <span style=\"background-color: #FEFEFF\">a</span> <span style=\"background-color: #FEFEFF\">client</span> <span style=\"background-color: #EAEAFF\">without</span> <span style=\"background-color: #FFFEFE\">your</span> <span style=\"background-color: #FFFEFE\">prior</span> <span style=\"background-color: #FFFEFE\">knowledge</span> <span style=\"background-color: #FEFEFF\">.</span> <span style=\"background-color: #FFFEFE\">christopher</span> <span style=\"background-color: #FCFCFF\">benn</span> <span style=\"background-color: #FFFEFE\">associates</span> <span style=\"background-color: #FEFEFF\">is</span> <span style=\"background-color: #FFFEFE\">an</span> <span style=\"background-color: #FFFEFE\">established</span> <span style=\"background-color: #FFFEFE\">consultancy</span> <span style=\"background-color: #FFFEFE\">specialising</span> <span style=\"background-color: #FEFEFF\">in</span> <span style=\"background-color: #FAFAFF\">finance</span> <span style=\"background-color: #FEFEFF\">recruitment</span> <span style=\"background-color: #FFF2F2\">.</span> <span style=\"background-color: #FFFEFE\">we</span> <span style=\"background-color: #FFFEFE\">provide</span> <span style=\"background-color: #FFFEFE\">a</span> <span style=\"background-color: #DEDEFF\">consistently</span> <span style=\"background-color: #EEEEFF\">high</span> <span style=\"background-color: #FEFEFF\">level</span> <span style=\"background-color: #DCDCFF\">of</span> <span style=\"background-color: #EEEEFF\">service</span> <span style=\"background-color: #FCFCFF\">based</span> <span style=\"background-color: #FFF6F6\">upon</span> <span style=\"background-color: #FFF6F6\">understanding</span> <span style=\"background-color: #FFECEC\">your</span> <span style=\"background-color: #FEFEFF\">requirement</span> <span style=\"background-color: #FFFEFE\">and</span> <span style=\"background-color: #F8F8FF\">your</span> <span style=\"background-color: #FEFEFF\">career</span> <span style=\"background-color: #FFFEFE\">objectives</span> <span style=\"background-color: #FFFEFE\">.</span> <span style=\"background-color: #FFFEFE\">to</span> <span style=\"background-color: #FFFEFE\">discuss</span> <span style=\"background-color: #FAFAFF\">your</span> <span style=\"background-color: #FFEEEE\">next</span> <span style=\"background-color: #FFFEFE\">move</span> <span style=\"background-color: #FFFAFA\">,</span> <span style=\"background-color: #FFF0F0\">forward</span> <span style=\"background-color: #FEFEFF\">your</span> <span style=\"background-color: #FFFEFE\">cv</span> <span style=\"background-color: #F2F2FF\">via</span> <span style=\"background-color: #FFFCFC\">this</span> <span style=\"background-color: #FEFEFF\">website</span> <span style=\"background-color: #FFFCFC\">and</span> <span style=\"background-color: #FFFEFE\">one</span> <span style=\"background-color: #FFFEFE\">of</span> <span style=\"background-color: #FFFEFE\">our</span> <span style=\"background-color: #FFE6E6\">qualified</span> <span style=\"background-color: #FFE6E6\">consultants</span> <span style=\"background-color: #FFFEFE\">will</span> <span style=\"background-color: #FFFEFE\">call</span> <span style=\"background-color: #FFFEFE\">you</span> <span style=\"background-color: #FFFEFE\">.</span> <span style=\"background-color: #FFF6F6\">candidates</span> <span style=\"background-color: #FFF6F6\">must</span> <span style=\"background-color: #ECECFF\">be</span> <span style=\"background-color: #FFFEFE\">eligible</span> <span style=\"background-color: #FCFCFF\">to</span> <span style=\"background-color: #FFFEFE\">live</span> <span style=\"background-color: #FFFEFE\">and</span> <span style=\"background-color: #FEFEFF\">work</span> <span style=\"background-color: #FFEEEE\">in</span> <span style=\"background-color: #FFF0F0\">the</span> <span style=\"background-color: #FFE4E4\">uk</span> <span style=\"background-color: #FAFAFF\">.</span> <span style=\"background-color: #FFFEFE\">please</span> <span style=\"background-color: #FFFEFE\">note</span> <span style=\"background-color: #F8F8FF\">that</span> <span style=\"background-color: #FFFEFE\">we</span> <span style=\"background-color: #F6F6FF\">are</span> <span style=\"background-color: #FFFEFE\">unable</span> <span style=\"background-color: #FEFEFF\">to</span> <span style=\"background-color: #FFFEFE\">sponsor</span> <span style=\"background-color: #FFFEFE\">visa</span> <span style=\"background-color: #FEFEFF\">or</span> <span style=\"background-color: #FFFEFE\">work</span> <span style=\"background-color: #EAEAFF\">permit</span> <span style=\"background-color: #EAEAFF\">applications</span> <span style=\"background-color: #F6F6FF\">.</span> <span style=\"background-color: #FFFEFE\">please</span> <span style=\"background-color: #FFFEFE\">note</span> <span style=\"background-color: #FFFEFE\">that</span> <span style=\"background-color: #FFF8F8\">due</span> <span style=\"background-color: #FFFEFE\">to</span> <span style=\"background-color: #FFF0F0\">the</span> <span style=\"background-color: #FFD0D0\">high</span> <span style=\"background-color: #FFE0E0\">volumes</span> <span style=\"background-color: #FFFEFE\">of</span> <span style=\"background-color: #FEFEFF\">applications</span> <span style=\"background-color: #FEFEFF\">received</span> <span style=\"background-color: #FEFEFF\">we</span> <span style=\"background-color: #FFFEFE\">are</span> <span style=\"background-color: #FFFEFE\">not</span> <span style=\"background-color: #FEFEFF\">able</span> <span style=\"background-color: #FEFEFF\">to</span> <span style=\"background-color: #FFF8F8\">consider</span> <span style=\"background-color: #FFFEFE\">applications</span> <span style=\"background-color: #FFFEFE\">for</span> <span style=\"background-color: #FFFEFE\">candidates</span> <span style=\"background-color: #FFFEFE\">that</span> <span style=\"background-color: #FFFCFC\">fall</span> <span style=\"background-color: #FAFAFF\">outside</span> <span style=\"background-color: #EAEAFF\">the</span> <span style=\"background-color: #E6E6FF\">criteria</span> <span style=\"background-color: #FFFEFE\">specified</span> <span style=\"background-color: #FFFEFE\">.</span> <span style=\"background-color: #FFFEFE\">this</span> <span style=\"background-color: #FEFEFF\">job</span> <span style=\"background-color: #FFFAFA\">was</span> <span style=\"background-color: #FFFEFE\">originally</span> <span style=\"background-color: #FFFEFE\">posted</span> <span style=\"background-color: #FFFEFE\">as</span> <span style=\"background-color: #FFFEFE\">www</span> <span style=\"background-color: #FFFEFE\">.</span> <span style=\"background-color: #FFFEFE\">totaljobs</span> <span style=\"background-color: #FFFAFA\">.</span> <span style=\"background-color: #FFFEFE\">com</span> <span style=\"background-color: #FFFAFA\">/</span> <span style=\"background-color: #F0F0FF\">jobseeking</span> <span style=\"background-color: #FEFEFF\">/</span> <span style=\"background-color: #FFFEFE\">traineeaccountsjunior_job</span> <span style=\"background-color: #FFFEFE\">****</span></p>"
            ]
          },
          "metadata": {
            "tags": []
          }
        }
      ]
    },
    {
      "cell_type": "markdown",
      "metadata": {
        "id": "1Sw4VMsHPhPr",
        "colab_type": "text"
      },
      "source": [
        "### Task 4: Actually make it work\n",
        "\n",
        "Your main task is to use some of the tricks you've learned on the network and analyze if you can improve __validation MAE__.\n",
        "\n",
        "Try __at least 3 options__ from the list below for a passing grade. If you're into \n",
        "\n",
        "#### A) CNN architecture\n",
        "\n",
        "All the tricks you know about dense and convolutional neural networks apply here as well.\n",
        "* Dropout. Nuff said.\n",
        "* Batch Norm. This time it's `nn.BatchNorm1d`\n",
        "* Parallel convolution layers. The idea is that you apply several nn.Conv1d to the same embeddings and concatenate output channels.\n",
        "* More layers, more neurons, ya know...\n",
        "\n",
        "\n",
        "#### B) Play with pooling\n",
        "\n",
        "There's more than one way to do max pooling:\n",
        "* Max over time - our `GlobalMaxPooling`\n",
        "* Average over time (excluding PAD)\n",
        "* Softmax-pooling:\n",
        "$$ out_{i, t} = \\sum_t {h_{i,t} \\cdot {{e ^ {h_{i, t}}} \\over \\sum_\\tau e ^ {h_{j, \\tau}} } }$$\n",
        "\n",
        "* Attentive pooling\n",
        "$$ out_{i, t} = \\sum_t {h_{i,t} \\cdot Attn(h_t)}$$\n",
        "\n",
        ", where $$ Attn(h_t) = {{e ^ {NN_{attn}(h_t)}} \\over \\sum_\\tau e ^ {NN_{attn}(h_\\tau)}}  $$\n",
        "and $NN_{attn}$ is a small neural network\n",
        "\n",
        "\n",
        "The optimal score is usually achieved by concatenating several different poolings, including several attentive pooling with different $NN_{attn}$\n",
        "\n",
        "#### C) Fun with embeddings\n",
        "\n",
        "It's not always a good idea to train embeddings from scratch. Here's a few tricks:\n",
        "\n",
        "* Use a pre-trained word2vec from [here](http://ahogrammer.com/2017/01/20/the-list-of-pretrained-word-embeddings/) or [here](http://mccormickml.com/2016/04/12/googles-pretrained-word2vec-model-in-python/).\n",
        "* Start with pre-trained embeddings, then fine-tune them with gradient descent\n",
        "* Use the same embedding matrix in title and desc vectorizer\n",
        "\n",
        "#### D) Going recurrent\n",
        "\n",
        "We've already learned that recurrent networks can do cool stuff in sequence modelling. Turns out, they're not useless for classification as well. With some tricks of course..\n",
        "\n",
        "* Like convolutional layers, LSTM should be pooled into a fixed-size vector with some of the poolings.\n",
        "  * Please bear in mind that while convolution uses [batch, units, time] dim order, \n",
        "    recurrent units are built for [batch, time, unit]. You may need to `torch.transpose`.\n",
        "\n",
        "* Since you know all the text in advance, use bidirectional RNN\n",
        "  * Run one LSTM from left to right\n",
        "  * Run another in parallel from right to left \n",
        "  * Concatenate their output sequences along unit axis (dim=-1)\n",
        "\n",
        "* It might be good idea to mix convolutions and recurrent layers differently for title and description\n",
        "\n",
        "\n",
        "#### E) Optimizing seriously\n",
        "\n",
        "* You don't necessarily need 100 epochs. Use early stopping. If you've never done this before, take a look at [keras](https://github.com/keras-team/keras/blob/master/keras/callbacks.py#L461) for inspiration.\n",
        "  * In short, train until you notice that validation\n",
        "  * Maintain the best-on-validation snapshot via `model.state_dict`\n",
        "  * Plotting learning curves is usually a good idea"
      ]
    },
    {
      "cell_type": "markdown",
      "metadata": {
        "id": "6mwg-FMgPhPs",
        "colab_type": "text"
      },
      "source": [
        "### A short report\n",
        "\n",
        "Please tell us what you did and how did it work.\n",
        "\n",
        "if say seriously there is my big mistake that i don't read the description of the problems before doing tasks. so i did all tasks like i did in past hw and now i realize that there were some points which i should do in another way. \n",
        "\n",
        "A) My first attempt was about just made a Linear layer without anything else (of course with activation function). But this didnt work well , I mean, something gone not in a good way and i just added the Batch Normalization, after that i got a good resuts. \n",
        "\n",
        "So, with Batch and 100 epochs I had this values:\n",
        "\n",
        "Training:\n",
        "\n",
        "\tLoss:\t0.07074\n",
        "\tMAE:\t2531.75617\n",
        "\n",
        "Validation:\n",
        "\n",
        "\tLoss:\t0.09122\n",
        "\tMAE:\t2880.60669\n",
        "  \n",
        "  \n",
        " Now I try without Batchs.\n",
        " \n",
        " Training:\n",
        "\n",
        "\tLoss:\t0.15405\n",
        "\tMAE:\t3748.25324\n",
        "\n",
        "\n",
        "\n",
        "Validation:\n",
        "\n",
        "\tLoss:\t0.18070\n",
        "\tMAE:\t4572.26662\n",
        "\n",
        "As we can see, the result is worse.\n",
        "\n",
        "Now I implement Dropout.\n",
        "\n",
        "...and smth goes wrong...\n",
        "\n",
        "Training:\n",
        "\n",
        "\tLoss:\t0.20052\n",
        "\tMAE:\t4375.77868\n",
        "\n",
        "\n",
        "\n",
        "Validation:\n",
        "\n",
        "\tLoss:\t0.23632\n",
        "\tMAE:\t4417.20889\n",
        "\n",
        "So, I decide to follow the advice Occamy \"simpler solutions are more likely to be correct than complex ones\" :))) \n",
        "\n",
        "And just stop at Batch's using.\n",
        "\n",
        "B) I implemented the `Softmax-pooling`. With `GlobalMaxPooling` there a lot of examples how all is work.\n",
        "\n",
        "`Softmax-pooling` gave such results:\n",
        "\n",
        "Training:\n",
        "\n",
        "\tLoss:\t0.12836\n",
        "\tMAE:\t3342.82495\n",
        "\n",
        "\n",
        "\n",
        "Validation:\n",
        "\n",
        "\tLoss:\t0.12557\n",
        "\tMAE:\t3241.91597\n",
        "  \n",
        "  \n",
        "  So, `GlobalMaxPooling` is better\n",
        "  \n",
        "\n",
        "E) (this version for first implementation: Batchs and only  GlobalMaxPooling )\n",
        "\n",
        "before the realization of \"early stopping\" I did 100 epohs, the last epoch gave me: \n",
        "\n",
        "Training:\n",
        "\n",
        "\tLoss:\t0.07074\n",
        "\tMAE:\t2531.75617\n",
        "\n",
        "Validation:\n",
        "\n",
        "\tLoss:\t0.09122\n",
        "\tMAE:\t2880.60669\n",
        "  \n",
        " For inspiration i took not [keras](https://github.com/keras-team/keras/blob/master/keras/callbacks.py#L461) but [this](https://github.com/Bjarten/early-stopping-pytorch). I have a constant (`patience`), which i took is equal to 5. The value of `val_loss` function i saved in `val_lost_array`, if new value > then previous value then `count +=1`. When counter is reach the value of patience -- the iterative process is break.\n",
        " \n",
        " upd. I think that taken a loss function as a criterio of early stopping is not good idea just because on my graphs the behavior of loss function had value about `0.09`.\n",
        " \n",
        " upd upd. o, it's ok! Instead of 100 epochs I got only 25! \n",
        " \n",
        " The value:\n",
        " \n",
        " Training:\n",
        "\n",
        "\tLoss:\t0.11216\n",
        "\tMAE:\t3338.08832\n",
        "\n",
        "\n",
        "\n",
        "Validation:\n",
        "\n",
        "\tLoss:\t0.09587\n",
        "\tMAE:\t2930.77458\n",
        "  \n",
        "  \n",
        "  The results is worse, but not that much.\n",
        " \n",
        " \n"
      ]
    },
    {
      "cell_type": "markdown",
      "metadata": {
        "id": "jet8V36lbb71",
        "colab_type": "text"
      },
      "source": [
        "upd. I did more difficult condition (now i comparison not only element and the value before this element but also element that stand out at 2 position) and got such result:  \n",
        "\n",
        "(38 epochs)\n",
        "\n",
        "Training:\n",
        "\n",
        "\tLoss:\t0.09022\n",
        "\tMAE:\t2885.00781\n",
        "\n",
        "\n",
        "Validation:\n",
        "\n",
        "\tLoss:\t0.09693\n",
        "\tMAE:\t2976.43799\n",
        "  \n",
        "  \n",
        "  \n",
        "  So \"early stopping\" works is well  if  we have difficult the conditions"
      ]
    },
    {
      "cell_type": "code",
      "metadata": {
        "id": "oEt-SMCzcljM",
        "colab_type": "code",
        "colab": {}
      },
      "source": [
        ""
      ],
      "execution_count": 0,
      "outputs": []
    }
  ]
}