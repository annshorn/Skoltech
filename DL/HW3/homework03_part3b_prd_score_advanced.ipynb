{
  "nbformat": 4,
  "nbformat_minor": 0,
  "metadata": {
    "colab": {
      "name": "homework03_part3b_prd_score_advanced.ipynb",
      "version": "0.3.2",
      "provenance": [],
      "collapsed_sections": [],
      "toc_visible": true
    },
    "language_info": {
      "codemirror_mode": {
        "name": "ipython",
        "version": 3
      },
      "file_extension": ".py",
      "mimetype": "text/x-python",
      "name": "python",
      "nbconvert_exporter": "python",
      "pygments_lexer": "ipython3",
      "version": "3.6.8"
    },
    "kernelspec": {
      "display_name": "Python 3",
      "language": "python",
      "name": "python3"
    }
  },
  "cells": [
    {
      "cell_type": "markdown",
      "metadata": {
        "id": "hjDYo8depWf_",
        "colab_type": "text"
      },
      "source": [
        "Original paper: https://arxiv.org/abs/1806.00035"
      ]
    },
    {
      "cell_type": "markdown",
      "metadata": {
        "id": "C07qk6e9pWgB",
        "colab_type": "text"
      },
      "source": [
        "# 0. Read real and generated images#"
      ]
    },
    {
      "cell_type": "code",
      "metadata": {
        "id": "PV7kFUrxpWgD",
        "colab_type": "code",
        "colab": {}
      },
      "source": [
        "import math\n",
        "import numpy as np\n",
        "import matplotlib.pyplot as plt\n",
        "import matplotlib.lines as mlines\n",
        "import matplotlib"
      ],
      "execution_count": 0,
      "outputs": []
    },
    {
      "cell_type": "code",
      "metadata": {
        "id": "xVVocByhpWgI",
        "colab_type": "code",
        "colab": {}
      },
      "source": [
        "CHANNEL_NUM = 3\n",
        "PICTURE_SIZE = 36"
      ],
      "execution_count": 0,
      "outputs": []
    },
    {
      "cell_type": "code",
      "metadata": {
        "id": "lyM7qK-gpWgM",
        "colab_type": "code",
        "colab": {}
      },
      "source": [
        "class ParticleDataset():\n",
        "    def __init__(self, file):\n",
        "        self.data = np.load(file)\n",
        "        self.image = self.data['Pictures'].reshape(-1, CHANNEL_NUM*PICTURE_SIZE*PICTURE_SIZE)\n",
        "\n",
        "    def __len__(self):\n",
        "        return len(self.image)\n",
        "\n",
        "    def __getitem__(self, i):\n",
        "        return {\n",
        "            \"Pictures\": self.image[i],\n",
        "        }"
      ],
      "execution_count": 0,
      "outputs": []
    },
    {
      "cell_type": "code",
      "metadata": {
        "id": "Lk5AzJ_7pWgQ",
        "colab_type": "code",
        "colab": {}
      },
      "source": [
        "real_data = ParticleDataset('real.npz')\n",
        "vae_data = ParticleDataset('vae.npz')\n",
        "gan_data = ParticleDataset('gan.npz')"
      ],
      "execution_count": 0,
      "outputs": []
    },
    {
      "cell_type": "markdown",
      "metadata": {
        "id": "YY5WGdhopWgT",
        "colab_type": "text"
      },
      "source": [
        "Make sure that the values of real and generated data are of the same order - it is important for cooperative binarizing"
      ]
    },
    {
      "cell_type": "code",
      "metadata": {
        "id": "aFkSy8PppWgT",
        "colab_type": "code",
        "colab": {
          "base_uri": "https://localhost:8080/",
          "height": 68
        },
        "outputId": "a1628098-3b4c-4cd6-cbab-25e36773f211"
      },
      "source": [
        "print (np.min(real_data.image), np.max(real_data.image))\n",
        "print (np.min(gan_data.image), np.max(gan_data.image))\n",
        "print (np.min(vae_data.image), np.max(vae_data.image))"
      ],
      "execution_count": 34,
      "outputs": [
        {
          "output_type": "stream",
          "text": [
            "0.0 1.0\n",
            "0.0 1.0\n",
            "0.12434786 0.86325157\n"
          ],
          "name": "stdout"
        }
      ]
    },
    {
      "cell_type": "markdown",
      "metadata": {
        "id": "MT7i1BW7pWgW",
        "colab_type": "text"
      },
      "source": [
        "# 1. Binarize# "
      ]
    },
    {
      "cell_type": "markdown",
      "metadata": {
        "id": "xMdKrCIXpWgX",
        "colab_type": "text"
      },
      "source": [
        "To understand how real and generated objects are close to each other, we need to choose a space of features in which we look these objects at"
      ]
    },
    {
      "cell_type": "markdown",
      "metadata": {
        "id": "IReWMhxMpWgY",
        "colab_type": "text"
      },
      "source": [
        "We go the easiest way and take pixels' values as features."
      ]
    },
    {
      "cell_type": "code",
      "metadata": {
        "id": "niaivDGMpWgZ",
        "colab_type": "code",
        "colab": {}
      },
      "source": [
        "from sklearn.cluster import KMeans, MiniBatchKMeans\n",
        "import sklearn.preprocessing\n",
        "import math\n",
        "## function which map object to probability distribution ##\n",
        "\n",
        "def bin_counts (real_data, generated_data, number_of_bins=25):\n",
        "    # binirize real and generated data, plot histogram and found density function\n",
        "    \n",
        "    #from article git\n",
        "\n",
        "    data = np.vstack([real_data, generated_data])\n",
        "  \n",
        "    kmeans = MiniBatchKMeans(n_clusters= number_of_bins, n_init=10)\n",
        "  \n",
        "    labels = kmeans.fit(data).labels_\n",
        "  \n",
        "    real_density, _ = np.histogram(labels[:len(real_data)], bins=number_of_bins,\n",
        "                               range=[0, number_of_bins], density=True)\n",
        "    \n",
        "    gen_density, _ = np.histogram(labels[len(real_data):], bins=number_of_bins,\n",
        "                                   range=[0, number_of_bins], density=True)\n",
        "    \n",
        "   \n",
        "    plt.figure()\n",
        "    plt.hist(real_data.flatten(), bins=number_of_bins, density=True)\n",
        "    plt.title('real_data')\n",
        "    plt.show()\n",
        "    \n",
        "    plt.figure()\n",
        "    plt.hist(generated_data.flatten(), bins=number_of_bins, density=True)\n",
        "    plt.title('generated_data')\n",
        "    plt.show()\n",
        "    \n",
        "   \n",
        "    return real_density, gen_density\n",
        "\n",
        "\n",
        "\n",
        "\n",
        "\n"
      ],
      "execution_count": 0,
      "outputs": []
    },
    {
      "cell_type": "markdown",
      "metadata": {
        "id": "HhfkRfNQpWga",
        "colab_type": "text"
      },
      "source": [
        "Create $\\alpha-$ and $\\beta-$ vectors as in\n",
        "\n",
        "$\\hat{PRD}(Q,P) = \\{(\\alpha(\\lambda), \\beta(\\lambda))| \\lambda \\in \\Lambda \\}$, where $\\Lambda = \\{\\tan (\\frac{i}{m+1} \\frac{\\pi}{2}) | i = 1, 2 ... m\\}$"
      ]
    },
    {
      "cell_type": "code",
      "metadata": {
        "id": "sl1-ndpnpWgb",
        "colab_type": "code",
        "colab": {}
      },
      "source": [
        "def count_alpha_beta (real_density, gen_density, num_angles = 1000):\n",
        "    assert real_density.shape == gen_density.shape\n",
        "    alpha_vec = []\n",
        "    beta_vec = []\n",
        "    angles = np.linspace(1e-6, np.pi/2 - 1e-6, num=num_angles)\n",
        "    # you code\n",
        "    for i in range(len(angles)):\n",
        "      \n",
        "      element = np.tan(angles[i]) * real_density\n",
        "      al1 = np.minimum( element, gen_density)\n",
        "      al = np.sum(al1)\n",
        "      alpha_vec.append(  al  )\n",
        "      \n",
        "     \n",
        "      beta_vec.append(  np.sum(np.minimum(real_density, gen_density/np.tan(angles[i]) ) )   )\n",
        "\n",
        "    return alpha_vec, beta_vec"
      ],
      "execution_count": 0,
      "outputs": []
    },
    {
      "cell_type": "markdown",
      "metadata": {
        "id": "AoODlgPMpWgd",
        "colab_type": "text"
      },
      "source": [
        "For stability, take the average of several repetitions"
      ]
    },
    {
      "cell_type": "code",
      "metadata": {
        "id": "3sTH-XI6pWgd",
        "colab_type": "code",
        "colab": {}
      },
      "source": [
        "def count_prd(reals, gens, repeat_number = 10):\n",
        "    vectors = [count_alpha_beta(reals, gens) for i in range(repeat_number)]\n",
        "    vectors = np.array(vectors).mean(axis=0)\n",
        "    print (vectors.shape)\n",
        "    return vectors"
      ],
      "execution_count": 0,
      "outputs": []
    },
    {
      "cell_type": "markdown",
      "metadata": {
        "id": "TWZ6Rc1YpWgf",
        "colab_type": "text"
      },
      "source": [
        "## 2. Apply it##"
      ]
    },
    {
      "cell_type": "code",
      "metadata": {
        "id": "2tk1VyD_R1ZQ",
        "colab_type": "code",
        "colab": {
          "base_uri": "https://localhost:8080/",
          "height": 545
        },
        "outputId": "336548d7-01c5-424b-d4d2-925adebdb12b"
      },
      "source": [
        "a, b = bin_counts(real_data.image, vae_data.image)"
      ],
      "execution_count": 298,
      "outputs": [
        {
          "output_type": "display_data",
          "data": {
            "image/png": "[encoded data removed]",
            "text/plain": [
              "<Figure size 432x288 with 1 Axes>"
            ]
          },
          "metadata": {
            "tags": []
          }
        },
        {
          "output_type": "display_data",
          "data": {
            "image/png": "[encoded data removed]",
            "text/plain": [
              "<Figure size 432x288 with 1 Axes>"
            ]
          },
          "metadata": {
            "tags": []
          }
        }
      ]
    },
    {
      "cell_type": "code",
      "metadata": {
        "id": "XDg4ygSgpWgg",
        "colab_type": "code",
        "colab": {
          "base_uri": "https://localhost:8080/",
          "height": 545
        },
        "outputId": "3a482b9b-9996-421c-faa4-e8c715609ae6"
      },
      "source": [
        "c, d = bin_counts(real_data.image, gan_data.image)"
      ],
      "execution_count": 299,
      "outputs": [
        {
          "output_type": "display_data",
          "data": {
            "image/png": "[encoded data removed]",
            "text/plain": [
              "<Figure size 432x288 with 1 Axes>"
            ]
          },
          "metadata": {
            "tags": []
          }
        },
        {
          "output_type": "display_data",
          "data": {
            "image/png": "[encoded data removed]",
            "text/plain": [
              "<Figure size 432x288 with 1 Axes>"
            ]
          },
          "metadata": {
            "tags": []
          }
        }
      ]
    },
    {
      "cell_type": "markdown",
      "metadata": {
        "id": "1HP1_Bi-pWgi",
        "colab_type": "text"
      },
      "source": [
        "## 3. Make vectors for plot and plot ##"
      ]
    },
    {
      "cell_type": "code",
      "metadata": {
        "id": "h80Ha2k_pWgj",
        "colab_type": "code",
        "colab": {
          "base_uri": "https://localhost:8080/",
          "height": 51
        },
        "outputId": "eef52cad-b828-44cc-bc8c-f272f5bee4b2"
      },
      "source": [
        "data_for_plots = count_prd(a, b)\n",
        "data_for_plots2 = count_prd(c, d)"
      ],
      "execution_count": 300,
      "outputs": [
        {
          "output_type": "stream",
          "text": [
            "(2, 1000)\n",
            "(2, 1000)\n"
          ],
          "name": "stdout"
        }
      ]
    },
    {
      "cell_type": "code",
      "metadata": {
        "id": "aTwj0pWzpWgk",
        "colab_type": "code",
        "colab": {
          "base_uri": "https://localhost:8080/",
          "height": 526
        },
        "outputId": "ce74ce04-fe27-443f-e9b2-0e6438c48523"
      },
      "source": [
        "fig = plt.figure(figsize=(2.5, 2.5), dpi=200)\n",
        "fig.add_subplot(111).tick_params(axis='both', which='major', labelsize=8)\n",
        "plt.xlim([0, 1])\n",
        "plt.ylim([0, 1])\n",
        "plt.xlabel('Recall', fontsize=12)\n",
        "plt.ylabel('Precision', fontsize=12)\n",
        "plt.plot(data_for_plots[0], data_for_plots[1], label = \"VAE\")\n",
        "plt.plot(data_for_plots2[0], data_for_plots2[1], label = \"GAN\")\n",
        "plt.legend()\n",
        "plt.show()"
      ],
      "execution_count": 301,
      "outputs": [
        {
          "output_type": "display_data",
          "data": {
            "image/png": "[encoded data removed]",
            "text/plain": [
              "<Figure size 500x500 with 1 Axes>"
            ]
          },
          "metadata": {
            "tags": []
          }
        }
      ]
    },
    {
      "cell_type": "markdown",
      "metadata": {
        "id": "xCyvcXqvpWgm",
        "colab_type": "text"
      },
      "source": [
        "**What curves were obtained for the first(VAE) and the second(GAN) models? What can we say about the advantages and disadvantages of each model?**"
      ]
    },
    {
      "cell_type": "markdown",
      "metadata": {
        "id": "5vLKTrPGYwIj",
        "colab_type": "text"
      },
      "source": [
        "i can only say that my implementation of VAE model is bad, because of that i think that comparison will be not representative\n"
      ]
    },
    {
      "cell_type": "markdown",
      "metadata": {
        "collapsed": true,
        "id": "N664jyzzpWgo",
        "colab_type": "text"
      },
      "source": [
        "## Bonus: about features' space##\n",
        "\n",
        "It is possible to transfer the picture-> embedding, for example, using the 1st part of the Inception network as a feature extraxtor. This embedding can be used for bin counts also"
      ]
    },
    {
      "cell_type": "code",
      "metadata": {
        "id": "RdRq2gOCpWgp",
        "colab_type": "code",
        "colab": {}
      },
      "source": [
        "# if you came here and still alive, the implementation of idea above will give you extra points =)\n"
      ],
      "execution_count": 0,
      "outputs": []
    }
  ]
}
